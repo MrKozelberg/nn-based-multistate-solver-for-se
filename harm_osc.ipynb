{
  "cells": [
    {
      "cell_type": "markdown",
      "metadata": {
        "id": "view-in-github",
        "colab_type": "text"
      },
      "source": [
        "<a href=\"https://colab.research.google.com/github/MrKozelberg/qmnn/blob/main/harm_osc.ipynb\" target=\"_parent\"><img src=\"https://colab.research.google.com/assets/colab-badge.svg\" alt=\"Open In Colab\"/></a>"
      ]
    },
    {
      "cell_type": "code",
      "execution_count": 1,
      "metadata": {
        "id": "-tiIn70xuciE"
      },
      "outputs": [],
      "source": [
        "# PyTorch\n",
        "import torch\n",
        "from torch import nn\n",
        "\n",
        "# Math\n",
        "import math\n",
        "\n",
        "# Plots\n",
        "import matplotlib.pyplot as plt\n",
        "\n",
        "# Random\n",
        "import random\n",
        "\n",
        "# Numpy\n",
        "import numpy as np"
      ]
    },
    {
      "cell_type": "code",
      "execution_count": 2,
      "metadata": {
        "colab": {
          "base_uri": "https://localhost:8080/"
        },
        "id": "QxGZlIjkxh9W",
        "outputId": "7f84c55c-3987-4c08-8004-80609b2f25ea"
      },
      "outputs": [
        {
          "output_type": "stream",
          "name": "stdout",
          "text": [
            "Using cuda device\n"
          ]
        }
      ],
      "source": [
        "# Detect avaible device\n",
        "device = \"cuda\" if torch.cuda.is_available() else \"cpu\"\n",
        "print(f\"Using {device} device\")"
      ]
    },
    {
      "cell_type": "code",
      "execution_count": 10,
      "metadata": {
        "id": "Y6LQWYFmueFf"
      },
      "outputs": [],
      "source": [
        "f0 = lambda x: torch.tanh(x)\n",
        "f1 = lambda x: 1/torch.cosh(x)**2\n",
        "f2 = lambda x: -2*torch.sinh(x)/torch.cosh(x)**3\n",
        "\n",
        "class Perceptron(nn.Module):\n",
        "  def __init__(self, D: int, M: int, H: list, L: float):\n",
        "    assert len(H) > 0, \"List of hidden layers' widths is empty\"\n",
        "    super(Perceptron, self).__init__()\n",
        "    self.D = D # Dimension of the initial space\n",
        "    self.M = M # Dimension of the final space\n",
        "    self.N = len(H) # Number of the hidden layers\n",
        "    self.L = L # Box size\n",
        "    self.stack = nn.Sequential() # Structure of the perceptron\n",
        "    for n in range(self.N + 1):\n",
        "      if (n == 0):\n",
        "        self.stack.append(nn.Linear(D, H[0]))\n",
        "      elif (n == self.N):\n",
        "        self.stack.append(nn.Linear(H[-1], M))\n",
        "      else:\n",
        "        self.stack.append(nn.Linear(H[n-1], H[n]))\n",
        "      self.stack.append(nn.Tanh())\n",
        "    self.stack.to(device)\n",
        "  \n",
        "  # Normal distribution\n",
        "  def weight(self, x: torch.Tensor, mean: float, std: float):\n",
        "    assert x.shape[1] == self.D, \"Wrong shape 1 of the tensor x\"\n",
        "    assert x.shape[0] > 0, \"Wrong shape 0 of the tensor x\"\n",
        "    return 1 / (std * math.sqrt(2 * math.pi)) \\\n",
        "      * torch.exp(-0.5 * torch.sum((x - mean)**2, axis=1) / std**2)\n",
        "  \n",
        "  def stack_gradient(self, x: torch.Tensor):\n",
        "    assert x.shape[1] == self.D, \"Wrong shape 1 of the tensor x\"\n",
        "    assert x.shape[0] > 0, \"Wrong shape 0 of the tensor x\"\n",
        "    result = torch.zeros((x.shape[0], self.D, self.M)).to(device)\n",
        "    # Computation of the y\n",
        "    y = [None] * (self.N + 1)\n",
        "    y[0] = x\n",
        "    for i in range(self.N):\n",
        "      # y(i+1)\n",
        "      y[i+1] = self.stack[i*2+1](self.stack[i*2](y[i]))\n",
        "    # Computation of the result\n",
        "    for d in range(self.D):\n",
        "      # dy(1)dx\n",
        "      dydx = f1(self.stack[0](y[0])) * self.stack[0].weight[:,d]\n",
        "      for i in range(1, self.N + 1):\n",
        "        # dy(i)dx\n",
        "        dydx =  f1(self.stack[i*2](y[i])) \\\n",
        "          * torch.matmul(dydx, self.stack[i*2].weight.t())\n",
        "      # keeping result\n",
        "      result[:,d,:] = dydx\n",
        "    return result\n",
        "  \n",
        "  def stack_laplacian(self, x: torch.Tensor):\n",
        "    assert x.shape[1] == self.D, \"Wrong shape 1 of the tensor x\"\n",
        "    assert x.shape[0] > 0, \"Wrong shape 0 of the tensor x\"\n",
        "    preresult = torch.zeros((x.shape[0], self.D, self.M)).to(device)\n",
        "    # Computation of the y\n",
        "    y = [None] * (self.N + 1)\n",
        "    y[0] = x\n",
        "    for i in range(self.N):\n",
        "      # y(i+1)\n",
        "      y[i+1] = self.stack[i*2+1](self.stack[i*2](y[i]))\n",
        "    # Computation of the result\n",
        "    for d in range(self.D):\n",
        "      # dy(1)dx\n",
        "      dydx = f1(self.stack[0](y[0])) * self.stack[0].weight[:,d]\n",
        "      # d2y(2)dx2\n",
        "      d2ydx2 = f2(self.stack[0](y[0])) * self.stack[0].weight[:,d]**2\n",
        "      for i in range(1, self.N + 1):\n",
        "        # d2y(i)dx2\n",
        "        d2ydx2 = f2(self.stack[i*2](y[i])) \\\n",
        "          * torch.matmul(dydx, self.stack[i*2].weight.t())**2 \\\n",
        "          + f1(self.stack[i*2](y[i])) \\\n",
        "          * torch.matmul(d2ydx2, self.stack[i*2].weight.t())\n",
        "        # dy(i)dx\n",
        "        dydx =  f1(self.stack[i*2](y[i])) \\\n",
        "          * torch.matmul(dydx, self.stack[i*2].weight.t())\n",
        "      # keeping preresult\n",
        "      preresult[:,d,:] = d2ydx2\n",
        "    return torch.sum(preresult, axis=1) \n",
        "  \n",
        "  def amplitude(self, x: torch.Tensor):\n",
        "    assert x.shape[1] == self.D, \"Wrong shape of the tensor x\"\n",
        "    assert x.shape[0] > 0, \"Wrong shape of the tensor x\"\n",
        "    mask = (torch.sum(abs(x)<=self.L, axis=1) == self.D).to(device)\n",
        "    result = torch.ones((x.shape[0], self.M)).to(device)\n",
        "    # result = torch.mul(result, 1 / torch.sum(self.stack(x)**2, axis=0))\n",
        "    result = torch.mul(result.t(),\n",
        "                       (1 - torch.sum(x**2, axis=1) / self.L**2) * mask).t()\n",
        "    assert result.shape[1] == self.M, \"Wrong shape 1 of the result\"\n",
        "    assert result.shape[0] == x.shape[0], \"Wrong shape 0 of the result\"\n",
        "    return result\n",
        "  \n",
        "  def amplitude_gradient(self, x: torch.Tensor):\n",
        "    assert x.shape[1] == self.D, \"Wrong shape of the tensor x\"\n",
        "    assert x.shape[0] > 0, \"Wrong shape of the tensor x\"\n",
        "    mask = (torch.sum(abs(x)<=self.L, axis=1) == self.D).to(device)\n",
        "    result = torch.ones((x.shape[0], self.D, self.M)).to(device)\n",
        "    s = self.stack(x)\n",
        "    sg = self.stack_gradient(x)\n",
        "    for d in range(self.D):\n",
        "      # first term\n",
        "      a = torch.ones((x.shape[0], self.M)).to(device)\n",
        "      # a = torch.mul(a, 1 / torch.sum(s**2, axis=0))\n",
        "      a = torch.mul(a.t(), -2 * x[:,d] / self.L**2 * mask).t()\n",
        "      # # second term\n",
        "      # b = torch.ones((x.shape[0], self.M)).to(device)\n",
        "      # b = torch.mul(b,\n",
        "      #               -2 / torch.sum(s**2, axis=0)**2 \n",
        "      #               * torch.sum(s * sg[:,d,:], axis=0))\n",
        "      # b = torch.mul(b.t(),\n",
        "      #               (1 - torch.sum(x**2, axis=1) / self.L**2) * mask).t()\n",
        "      # keeping result\n",
        "      result[:,d,:] = a #+ b\n",
        "    return result\n",
        "\n",
        "  def amplitude_laplacian(self, x: torch.Tensor):\n",
        "    assert x.shape[1] == self.D, \"Wrong shape of the tensor x\"\n",
        "    assert x.shape[0] > 0, \"Wrong shape of the tensor x\"\n",
        "    mask = torch.sum(abs(x)<=self.L, axis=1) == self.D\n",
        "    a = torch.zeros((x.shape[0], self.M)).to(device)\n",
        "    result = torch.mul(a.t(), -2 * self.D / self.L**2 * mask).t()\n",
        "    # s = self.stack(x)\n",
        "    # sg = self.stack_gradient(x)\n",
        "    # sl = self.stack_laplacian(x)\n",
        "    # for d in range(self.D):\n",
        "    #   # zeroth term\n",
        "    #   z = torch.ones((x.shape[0], self.M)).to(device)\n",
        "    #   z = torch.mul(z, 1 / torch.sum(s**2, axis=0))\n",
        "    #   z = torch.mul(z.t(), -2 / self.L**2 * mask).t()\n",
        "    #   # first term\n",
        "    #   a = torch.ones((x.shape[0], self.M)).to(device)\n",
        "    #   a = torch.mul(a, 8 / torch.sum(s**2, axis=0)**2 \n",
        "    #                 * torch.sum(s * sg[:,d,:], axis=0))\n",
        "    #   a = torch.mul(a.t(), -2 * x[:,d] / self.L**2 * mask).t()\n",
        "    #   # second term\n",
        "    #   b = torch.ones((x.shape[0], self.M)).to(device)\n",
        "    #   b = torch.mul(b,\n",
        "    #                 2 / torch.sum(s**2, axis=0)**3 \n",
        "    #                 * (2 * torch.sum(s * sg[:,d,:], axis=0))**2)\n",
        "    #   b = torch.mul(b.t(),\n",
        "    #                 (1 - torch.sum(x**2, axis=1) / self.L**2) * mask).t()\n",
        "    #   # third term\n",
        "    #   c = torch.ones((x.shape[0], self.M)).to(device)\n",
        "    #   c = torch.mul(c,\n",
        "    #                 -2 / torch.sum(s**2, axis=0)**2 \n",
        "    #                 * torch.sum(sg[:,d,:]**2, axis=0))\n",
        "    #   c = torch.mul(c.t(),\n",
        "    #                 (1 - torch.sum(x**2, axis=1) / self.L**2) * mask).t()\n",
        "    #   # keeping result\n",
        "    #   result += z + a + b + c\n",
        "    # # last term\n",
        "    # d = torch.ones((x.shape[0], self.M)).to(device)\n",
        "    # d = torch.mul(d,\n",
        "    #               -2 / torch.sum(s**2, axis=0)**2 \n",
        "    #               * torch.sum(s * sl, axis=0))\n",
        "    # d = torch.mul(d.t(),\n",
        "    #               (1 - torch.sum(x**2, axis=1) / self.L**2) * mask).t()\n",
        "    # result += d\n",
        "    return result\n",
        "    \n",
        "  def forward(self, x: torch.Tensor):\n",
        "    assert x.shape[1] == self.D, \"Wrong shape 1 of the tensor x\"\n",
        "    assert x.shape[0] > 0, \"Wrong shape 0 of the tensor x\"\n",
        "    result = self.stack(x).to(device) * self.amplitude(x).to(device) # Multiply by amplitude\n",
        "    assert result.shape[1] == self.M, \"Wrong shape 1 of the result\"\n",
        "    assert result.shape[0] == x.shape[0], \"Wrong shape 0 of the result\"\n",
        "    return result\n",
        "  \n",
        "  def gradient(self, x: torch.Tensor):\n",
        "    assert x.shape[1] == self.D, \"Wrong shape of the tensor x\"\n",
        "    assert x.shape[0] > 0, \"Wrong shape of the tensor x\"\n",
        "    result = torch.zeros((x.shape[0], self.D, self.M)).to(device)\n",
        "    a = self.amplitude(x)\n",
        "    sg = self.stack_gradient(x)\n",
        "    s = self.stack(x)\n",
        "    ag = self.amplitude_gradient(x)\n",
        "    for d in range(self.D):\n",
        "      result[:,d,:] = sg[:,d,:] * a + s * ag[:,d,:]\n",
        "    return result\n",
        "\n",
        "  def laplacian(self, x: torch.Tensor):\n",
        "    assert x.shape[1] == self.D, \"Wrong shape of the tensor x\"\n",
        "    assert x.shape[0] > 0, \"Wrong shape of the tensor x\"\n",
        "    result = self.stack_laplacian(x) * self.amplitude(x) \\\n",
        "      + self.stack(x) * self.amplitude_laplacian(x) \\\n",
        "      + 2 * torch.sum(self.stack_gradient(x) * self.amplitude_gradient(x), \n",
        "                      axis=1)\n",
        "    return result\n",
        "  \n",
        "  def wavefunction_norm2(self, x: torch.Tensor, mean: float, std: float):\n",
        "    assert x.shape[1] == self.D, \"Wrong shape 1 of the tensor x\"\n",
        "    assert x.shape[0] > 0, \"Wrong shape 0 of the tensor x\"\n",
        "    result = torch.zeros(self.M).to(device)\n",
        "    f = self.forward(x)\n",
        "    w = self.weight(x, mean, std)\n",
        "    for m in range(self.M):\n",
        "      result[m] = torch.mean(abs(f[:,m])**2 / w)\n",
        "    return result\n",
        "  \n",
        "  def mean_hamiltonian(self, x: torch.Tensor, mean: float, std: float):\n",
        "    assert x.shape[1] == self.D, \"Wrong shape 1 of the tensor x\"\n",
        "    assert x.shape[0] > 0, \"Wrong shape 0 of the tensor x\"\n",
        "    result = torch.zeros(self.M).to(device)\n",
        "    f = self.forward(x)\n",
        "    l = self.laplacian(x)\n",
        "    w = self.weight(x, mean, std)\n",
        "    v = 0.5 * torch.sum(x**2, axis=1)\n",
        "    for m in range(self.M):\n",
        "      result[m] = torch.mean(f[:,m] * (-0.5 * l[:,m] + v * f[:,m]) / w)\n",
        "    return result\n",
        "  \n",
        "  def energies(self, x: torch.Tensor, mean: float, std: float):\n",
        "    assert x.shape[1] == self.D, \"Wrong shape 1 of the tensor x\"\n",
        "    assert x.shape[0] > 0, \"Wrong shape 0 of the tensor x\"\n",
        "    return self.mean_hamiltonian(x, mean, std) \\\n",
        "      / self.wavefunction_norm2(x, mean, std)\n",
        "\n",
        "  def train_step(self, optimizer, scheduler, loss_function, B: int, mean: float,\n",
        "                 std: float, alpha: float, beta: float, sigma: float):\n",
        "    # Normal distributed x\n",
        "    x = torch.normal(mean=mean, std=std, size=(B, self.D)).to(device)\n",
        "    e = self.energies(x, mean, std)\n",
        "    f = self.forward(x)\n",
        "    w = self.weight(x, mean, std)\n",
        "    # Residual\n",
        "    residual = -0.5 * self.laplacian(x) \\\n",
        "      + 0.5 * torch.mul(f.t(), torch.sum(x**2, axis=1)).t() \\\n",
        "      - torch.mul(f, e)\n",
        "    # Orthonormalization\n",
        "    norm2 = self.wavefunction_norm2(x, mean, std)\n",
        "    a = torch.mean((norm2 - torch.tensor(1).to(device))**2)\n",
        "    b = torch.zeros(self.M, self.M).to(device).to(device)\n",
        "    for m1 in range(1, self.M):\n",
        "      for m2 in range(0, m1):\n",
        "        b[m1,m2] = torch.mean(f[:,m1] * f[:,m2] / w)**2\n",
        "    # Loss\n",
        "    tau = 1.\n",
        "    loss = loss_function(torch.sum(torch.mean((residual)**2, axis=0))\n",
        "      + alpha * a \n",
        "      + beta * torch.sum(b),\n",
        "      torch.tensor(0.0).to(device))\n",
        "    # Backpropagation\n",
        "    optimizer.zero_grad()\n",
        "    loss.backward()\n",
        "    optimizer.step()\n",
        "    scheduler.step()\n",
        "    self.L = self.L * sigma\n",
        "    return loss.item(), self.energies(x, mean, std).tolist()\n",
        "  \n",
        "  def train_loop(self, I: int, lr0: float, weight_decay: float, gamma: float,\n",
        "                 sigma: float):\n",
        "    optimizer = torch.optim.Adam(params=list(self.parameters()), \n",
        "                                 lr=lr0, \n",
        "                                 weight_decay=weight_decay)\n",
        "    scheduler = torch.optim.lr_scheduler.ExponentialLR(optimizer, \n",
        "                                                       gamma=gamma)\n",
        "    # Orthonormalization weights\n",
        "    alpha = 1.\n",
        "    beta = 100.\n",
        "    # Batch size\n",
        "    B = 2000 #int(10**(self.D + 2))\n",
        "    e_list = [None] * I\n",
        "    l_list = [None] * I\n",
        "    # Main loop\n",
        "    print('i,\\t Loss,\\t Energies')\n",
        "    for i in range(I):\n",
        "      l_list[i], e_list[i] = self.train_step(optimizer, scheduler, nn.MSELoss(),\n",
        "                                             B, mean=0., std=self.L/2, \n",
        "                                             alpha=alpha, beta=beta,\n",
        "                                             sigma=sigma)\n",
        "      if i % 1000 == 0:\n",
        "        print(f\"{i:3d}\\t {l_list[i]:.4E}\\t {e_list[i]}\")\n",
        "    return l_list, e_list"
      ]
    },
    {
      "cell_type": "code",
      "execution_count": null,
      "metadata": {
        "colab": {
          "base_uri": "https://localhost:8080/"
        },
        "id": "XQJWXL1VsFLl",
        "outputId": "92f59b44-1e7d-40df-a51e-7436608c9e37"
      },
      "outputs": [
        {
          "output_type": "stream",
          "name": "stdout",
          "text": [
            "i,\t Loss,\t Energies\n",
            "  0\t 9.0729E+02\t [6.932424545288086, 6.601353168487549, 5.16998291015625, 5.273890495300293, 6.747246742248535, 7.328887939453125, 7.010226249694824, 4.68626070022583, 5.303313255310059, 5.0687079429626465, 6.002608299255371, 7.445820331573486, 5.427960395812988, 4.843020915985107, 6.346129894256592, 3.97129225730896]\n",
            "1000\t 1.0205E+00\t [4.65534782409668, 7.288637638092041, 1.791264533996582, 8.096116065979004, 6.860856533050537, 6.243963241577148, 1.9159008264541626, 7.406885147094727, 6.983270168304443, 6.61578369140625, 7.133667469024658, 7.040356636047363, 5.581963062286377, 7.524448394775391, 6.307436943054199, 3.013664484024048]\n",
            "2000\t 1.0086E+00\t [4.56950044631958, 7.664018154144287, 1.817126750946045, 8.467134475708008, 7.264223575592041, 6.698859214782715, 1.914374589920044, 6.175041198730469, 7.744636535644531, 6.433248519897461, 8.477734565734863, 7.405188083648682, 5.348385810852051, 7.568505764007568, 7.556873321533203, 3.5057168006896973]\n",
            "3000\t 1.0036E+00\t [3.967435359954834, 7.7497878074646, 1.6456853151321411, 7.659878253936768, 7.122610569000244, 6.659254550933838, 1.8786439895629883, 5.474907398223877, 7.166293144226074, 5.859950065612793, 8.124935150146484, 6.810646057128906, 5.277228832244873, 7.934658527374268, 6.908358573913574, 3.0793752670288086]\n",
            "4000\t 1.0038E+00\t [4.479965686798096, 9.00523853302002, 1.951816439628601, 8.571683883666992, 7.256326198577881, 7.8429460525512695, 2.6817574501037598, 5.441570281982422, 8.075776100158691, 7.191412448883057, 9.565152168273926, 7.901238441467285, 5.65377950668335, 9.485452651977539, 7.508787631988525, 3.145169734954834]\n"
          ]
        }
      ],
      "source": [
        "D = 2\n",
        "M = 16\n",
        "H = [100,100,100]\n",
        "L = 5.\n",
        "perceptron = Perceptron(D, M, H, L).to(device)\n",
        "I = 10000\n",
        "lr0 = 1e-3\n",
        "weight_decay = 1e-3\n",
        "gamma = 0.1**(1/I)\n",
        "sigma = 1.2**(1/I)\n",
        "l_list, e_list = perceptron.train_loop(I, lr0=lr0, \n",
        "                                       weight_decay=weight_decay,\n",
        "                                       gamma=gamma,\n",
        "                                       sigma=sigma)\n"
      ]
    },
    {
      "cell_type": "code",
      "execution_count": 51,
      "metadata": {
        "colab": {
          "base_uri": "https://localhost:8080/",
          "height": 333
        },
        "id": "pjDM_-0H7lPy",
        "outputId": "5917c9bf-85ad-4e3c-f1fa-eaa7e019dfbf"
      },
      "outputs": [
        {
          "output_type": "execute_result",
          "data": {
            "text/plain": [
              "Text(0.5, 0, 'Iteration number')"
            ]
          },
          "metadata": {},
          "execution_count": 51
        },
        {
          "output_type": "display_data",
          "data": {
            "text/plain": [
              "<Figure size 900x300 with 2 Axes>"
            ],
            "image/png": "[encoded data removed]"
          },
          "metadata": {}
        }
      ],
      "source": [
        "fig, ax = plt.subplots(1,2,figsize=(9,3))\n",
        "\n",
        "all_colors = list(plt.cm.colors.cnames.keys()) \n",
        "\n",
        "ax[0].plot(l_list, linewidth=0.5, color='black')\n",
        "# ax[0].set_yscale('log')\n",
        "ax[0].set_xlim(0,I)\n",
        "# ax[0].grid(axis='y')\n",
        "ax[0].set_ylabel('Loss')\n",
        "ax[0].set_ylim(8.5e-1,1.2)\n",
        "ax[0].set_xlabel('Iteration number')\n",
        "\n",
        "for m in range(perceptron.M):\n",
        "  ax[1].plot(np.array(e_list)[:,m], color=all_colors[m], linewidth=0.5)\n",
        "\n",
        "# for m in range(M//2):\n",
        "#   ax[1].axhline(y=D/2 + m, color='black', linestyle='--', linewidth=1)\n",
        "\n",
        "ax[1].set_xlim(0,I)\n",
        "ax[1].set_ylim(0,12)\n",
        "ax[1].set_xticks(np.arange(0,13))\n",
        "ax[1].grid(axis='y')\n",
        "ax[1].set_ylabel('Energy')\n",
        "ax[1].set_xlabel('Iteration number')\n",
        "# ax[1].set_yscale('log')\n"
      ]
    },
    {
      "cell_type": "code",
      "source": [],
      "metadata": {
        "id": "THwHRkX0ewm0"
      },
      "execution_count": null,
      "outputs": []
    },
    {
      "cell_type": "code",
      "source": [],
      "metadata": {
        "id": "b7kbmbViewt1"
      },
      "execution_count": null,
      "outputs": []
    },
    {
      "cell_type": "code",
      "source": [],
      "metadata": {
        "id": "fZjWIn_Sew4n"
      },
      "execution_count": null,
      "outputs": []
    },
    {
      "cell_type": "code",
      "source": [],
      "metadata": {
        "id": "dHAPvLKHew9u"
      },
      "execution_count": null,
      "outputs": []
    },
    {
      "cell_type": "code",
      "source": [],
      "metadata": {
        "id": "yggT9kW8exB7"
      },
      "execution_count": null,
      "outputs": []
    },
    {
      "cell_type": "code",
      "execution_count": null,
      "metadata": {
        "colab": {
          "base_uri": "https://localhost:8080/",
          "height": 428
        },
        "id": "v1DhKF-BueIt",
        "outputId": "e6ed01cc-c3a2-4d18-f860-efd094a28d36"
      },
      "outputs": [
        {
          "name": "stdout",
          "output_type": "stream",
          "text": [
            "cuda:0\n",
            "cuda:0\n",
            "cuda:0\n",
            "cuda:0\n"
          ]
        },
        {
          "ename": "RuntimeError",
          "evalue": "ignored",
          "output_type": "error",
          "traceback": [
            "\u001b[0;31m---------------------------------------------------------------------------\u001b[0m",
            "\u001b[0;31mRuntimeError\u001b[0m                              Traceback (most recent call last)",
            "\u001b[0;32m<ipython-input-30-02478d0c113b>\u001b[0m in \u001b[0;36m<cell line: 16>\u001b[0;34m()\u001b[0m\n\u001b[1;32m     14\u001b[0m \u001b[0ma\u001b[0m \u001b[0;34m=\u001b[0m \u001b[0mperceptron\u001b[0m\u001b[0;34m.\u001b[0m\u001b[0mamplitude\u001b[0m\u001b[0;34m(\u001b[0m\u001b[0mx\u001b[0m\u001b[0;34m)\u001b[0m\u001b[0;34m\u001b[0m\u001b[0;34m\u001b[0m\u001b[0m\n\u001b[1;32m     15\u001b[0m \u001b[0mprint\u001b[0m\u001b[0;34m(\u001b[0m\u001b[0ma\u001b[0m\u001b[0;34m.\u001b[0m\u001b[0mdevice\u001b[0m\u001b[0;34m)\u001b[0m\u001b[0;34m\u001b[0m\u001b[0;34m\u001b[0m\u001b[0m\n\u001b[0;32m---> 16\u001b[0;31m \u001b[0mag\u001b[0m \u001b[0;34m=\u001b[0m \u001b[0mperceptron\u001b[0m\u001b[0;34m.\u001b[0m\u001b[0mamplitude_gradient\u001b[0m\u001b[0;34m(\u001b[0m\u001b[0mx\u001b[0m\u001b[0;34m)\u001b[0m\u001b[0;34m\u001b[0m\u001b[0;34m\u001b[0m\u001b[0m\n\u001b[0m\u001b[1;32m     17\u001b[0m \u001b[0mprint\u001b[0m\u001b[0;34m(\u001b[0m\u001b[0mag\u001b[0m\u001b[0;34m.\u001b[0m\u001b[0mdevice\u001b[0m\u001b[0;34m)\u001b[0m\u001b[0;34m\u001b[0m\u001b[0;34m\u001b[0m\u001b[0m\n\u001b[1;32m     18\u001b[0m \u001b[0mal\u001b[0m \u001b[0;34m=\u001b[0m \u001b[0mperceptron\u001b[0m\u001b[0;34m.\u001b[0m\u001b[0mamplitude_laplacian\u001b[0m\u001b[0;34m(\u001b[0m\u001b[0mx\u001b[0m\u001b[0;34m)\u001b[0m\u001b[0;34m\u001b[0m\u001b[0;34m\u001b[0m\u001b[0m\n",
            "\u001b[0;32m<ipython-input-29-73af9bd721b1>\u001b[0m in \u001b[0;36mamplitude_gradient\u001b[0;34m(self, x)\u001b[0m\n\u001b[1;32m    102\u001b[0m       \u001b[0;31m# first term\u001b[0m\u001b[0;34m\u001b[0m\u001b[0;34m\u001b[0m\u001b[0m\n\u001b[1;32m    103\u001b[0m       \u001b[0ma\u001b[0m \u001b[0;34m=\u001b[0m \u001b[0mtorch\u001b[0m\u001b[0;34m.\u001b[0m\u001b[0mones\u001b[0m\u001b[0;34m(\u001b[0m\u001b[0;34m(\u001b[0m\u001b[0mx\u001b[0m\u001b[0;34m.\u001b[0m\u001b[0mshape\u001b[0m\u001b[0;34m[\u001b[0m\u001b[0;36m0\u001b[0m\u001b[0;34m]\u001b[0m\u001b[0;34m,\u001b[0m \u001b[0mself\u001b[0m\u001b[0;34m.\u001b[0m\u001b[0mM\u001b[0m\u001b[0;34m)\u001b[0m\u001b[0;34m)\u001b[0m\u001b[0;34m\u001b[0m\u001b[0;34m\u001b[0m\u001b[0m\n\u001b[0;32m--> 104\u001b[0;31m       \u001b[0ma\u001b[0m \u001b[0;34m=\u001b[0m \u001b[0mtorch\u001b[0m\u001b[0;34m.\u001b[0m\u001b[0mmul\u001b[0m\u001b[0;34m(\u001b[0m\u001b[0ma\u001b[0m\u001b[0;34m,\u001b[0m \u001b[0;36m1\u001b[0m \u001b[0;34m/\u001b[0m \u001b[0mtorch\u001b[0m\u001b[0;34m.\u001b[0m\u001b[0msum\u001b[0m\u001b[0;34m(\u001b[0m\u001b[0ms\u001b[0m\u001b[0;34m**\u001b[0m\u001b[0;36m2\u001b[0m\u001b[0;34m,\u001b[0m \u001b[0maxis\u001b[0m\u001b[0;34m=\u001b[0m\u001b[0;36m0\u001b[0m\u001b[0;34m)\u001b[0m\u001b[0;34m.\u001b[0m\u001b[0mto\u001b[0m\u001b[0;34m(\u001b[0m\u001b[0mdevice\u001b[0m\u001b[0;34m)\u001b[0m\u001b[0;34m)\u001b[0m\u001b[0;34m\u001b[0m\u001b[0;34m\u001b[0m\u001b[0m\n\u001b[0m\u001b[1;32m    105\u001b[0m       \u001b[0ma\u001b[0m \u001b[0;34m=\u001b[0m \u001b[0mtorch\u001b[0m\u001b[0;34m.\u001b[0m\u001b[0mmul\u001b[0m\u001b[0;34m(\u001b[0m\u001b[0ma\u001b[0m\u001b[0;34m.\u001b[0m\u001b[0mt\u001b[0m\u001b[0;34m(\u001b[0m\u001b[0;34m)\u001b[0m\u001b[0;34m,\u001b[0m \u001b[0;34m-\u001b[0m\u001b[0;36m2\u001b[0m \u001b[0;34m*\u001b[0m \u001b[0mx\u001b[0m\u001b[0;34m[\u001b[0m\u001b[0;34m:\u001b[0m\u001b[0;34m,\u001b[0m\u001b[0md\u001b[0m\u001b[0;34m]\u001b[0m \u001b[0;34m/\u001b[0m \u001b[0mself\u001b[0m\u001b[0;34m.\u001b[0m\u001b[0mL\u001b[0m\u001b[0;34m**\u001b[0m\u001b[0;36m2\u001b[0m \u001b[0;34m*\u001b[0m \u001b[0mmask\u001b[0m\u001b[0;34m)\u001b[0m\u001b[0;34m.\u001b[0m\u001b[0mt\u001b[0m\u001b[0;34m(\u001b[0m\u001b[0;34m)\u001b[0m\u001b[0;34m\u001b[0m\u001b[0;34m\u001b[0m\u001b[0m\n\u001b[1;32m    106\u001b[0m       \u001b[0;31m# second term\u001b[0m\u001b[0;34m\u001b[0m\u001b[0;34m\u001b[0m\u001b[0m\n",
            "\u001b[0;31mRuntimeError\u001b[0m: Expected all tensors to be on the same device, but found at least two devices, cuda:0 and cpu!"
          ]
        }
      ],
      "source": [
        "# test costructor, forward and amplitude, stack_gradient, stack_laplacian\n",
        "D = 3\n",
        "M = 5\n",
        "H = [D, 2*D, 3*D]\n",
        "L = 5.\n",
        "perceptron = Perceptron(D, M, H, L).to(device)\n",
        "B = 10000\n",
        "x = torch.normal(mean=0., std=L/2, size=(B, D)).to(device)\n",
        "print(x.device)\n",
        "sg = perceptron.stack_gradient(x)\n",
        "print(sg.device)\n",
        "sl = perceptron.stack_laplacian(x)\n",
        "print(sl.device)\n",
        "a = perceptron.amplitude(x)\n",
        "print(a.device)\n",
        "ag = perceptron.amplitude_gradient(x)\n",
        "print(ag.device)\n",
        "al = perceptron.amplitude_laplacian(x)\n",
        "print(al.device)\n",
        "y = perceptron(x)\n",
        "print(y.device)\n",
        "g = perceptron.gradient(x)\n",
        "print(g.device)\n",
        "l = perceptron.laplacian(x)\n",
        "print(l.device)\n",
        "print(perceptron.energies(x, 0., L/2).device)"
      ]
    },
    {
      "cell_type": "code",
      "execution_count": null,
      "metadata": {
        "id": "vturVDD8JCsG"
      },
      "outputs": [],
      "source": []
    },
    {
      "cell_type": "code",
      "execution_count": null,
      "metadata": {
        "id": "gDQb005oJCwR"
      },
      "outputs": [],
      "source": []
    },
    {
      "cell_type": "code",
      "execution_count": null,
      "metadata": {
        "id": "dLCsIdvvJC0d"
      },
      "outputs": [],
      "source": []
    },
    {
      "cell_type": "code",
      "execution_count": null,
      "metadata": {
        "id": "NxsFQesDJC3k"
      },
      "outputs": [],
      "source": []
    },
    {
      "cell_type": "code",
      "execution_count": null,
      "metadata": {
        "id": "pn5JWDHnJC7A"
      },
      "outputs": [],
      "source": []
    },
    {
      "cell_type": "code",
      "execution_count": null,
      "metadata": {
        "id": "AeGVevYXJC-k"
      },
      "outputs": [],
      "source": []
    },
    {
      "cell_type": "code",
      "execution_count": null,
      "metadata": {
        "colab": {
          "base_uri": "https://localhost:8080/"
        },
        "id": "AyYP8eTOqi3Y",
        "outputId": "cc365aba-01ff-4a6f-8ee3-527d7e1346d6"
      },
      "outputs": [
        {
          "data": {
            "text/plain": [
              "(0.6759825348854065,\n",
              " [7.858370304107666,\n",
              "  7.779535293579102,\n",
              "  6.816428184509277,\n",
              "  12.6932954788208,\n",
              "  8.333465576171875])"
            ]
          },
          "execution_count": 48,
          "metadata": {},
          "output_type": "execute_result"
        }
      ],
      "source": [
        "optimizer = torch.optim.Adam(params=list(perceptron.parameters()), lr=1e-3, weight_decay=1e-3)\n",
        "scheduler = torch.optim.lr_scheduler.ExponentialLR(optimizer, gamma=0.9999)\n",
        "\n",
        "perceptron.train_step(optimizer, scheduler, nn.MSELoss(), 100, 0, L/2, 1, 1)"
      ]
    },
    {
      "cell_type": "code",
      "execution_count": null,
      "metadata": {
        "id": "EcT46NHzO16N"
      },
      "outputs": [],
      "source": [
        "d = 2\n",
        "y = x\n",
        "dydx = 1 / torch.cosh(perceptron.stack[0](y)) * perceptron.stack[0].weight[:,d]\n",
        "y = perceptron.stack[1](perceptron.stack[0](y))\n",
        "dydx =  1 / torch.cosh(perceptron.stack[2](y)) * torch.matmul(dydx, perceptron.stack[2].weight.t())"
      ]
    },
    {
      "cell_type": "code",
      "execution_count": null,
      "metadata": {
        "colab": {
          "base_uri": "https://localhost:8080/"
        },
        "id": "bAsa1q0pl-wU",
        "outputId": "3b9c713d-1210-458b-b589-2d25eab8bbe0"
      },
      "outputs": [
        {
          "data": {
            "text/plain": [
              "torch.Size([10, 7])"
            ]
          },
          "execution_count": 157,
          "metadata": {},
          "output_type": "execute_result"
        }
      ],
      "source": [
        "a = torch.rand(10,6)\n",
        "b = torch.rand(7,6)\n",
        "ab = torch.matmul(a, b.t())\n",
        "ab.shape"
      ]
    },
    {
      "cell_type": "code",
      "execution_count": null,
      "metadata": {
        "colab": {
          "base_uri": "https://localhost:8080/"
        },
        "id": "jayXZeG9l-1u",
        "outputId": "55abf277-18f1-4769-ac47-877a415c60a6"
      },
      "outputs": [
        {
          "data": {
            "text/plain": [
              "Tanh()"
            ]
          },
          "execution_count": 164,
          "metadata": {},
          "output_type": "execute_result"
        }
      ],
      "source": [
        "perceptron.stack[7]"
      ]
    },
    {
      "cell_type": "code",
      "execution_count": null,
      "metadata": {
        "colab": {
          "base_uri": "https://localhost:8080/",
          "height": 167
        },
        "id": "WC8Um3rHllSj",
        "outputId": "15ce1056-5ba4-4fba-e796-5d326938d5fc"
      },
      "outputs": [
        {
          "ename": "RuntimeError",
          "evalue": "ignored",
          "output_type": "error",
          "traceback": [
            "\u001b[0;31m---------------------------------------------------------------------------\u001b[0m",
            "\u001b[0;31mRuntimeError\u001b[0m                              Traceback (most recent call last)",
            "\u001b[0;32m<ipython-input-154-a71ec7a6ccc9>\u001b[0m in \u001b[0;36m<cell line: 1>\u001b[0;34m()\u001b[0m\n\u001b[0;32m----> 1\u001b[0;31m \u001b[0mtorch\u001b[0m\u001b[0;34m.\u001b[0m\u001b[0mmul\u001b[0m\u001b[0;34m(\u001b[0m\u001b[0mtorch\u001b[0m\u001b[0;34m.\u001b[0m\u001b[0mrand\u001b[0m\u001b[0;34m(\u001b[0m\u001b[0;36m10\u001b[0m\u001b[0;34m,\u001b[0m\u001b[0;36m6\u001b[0m\u001b[0;34m)\u001b[0m\u001b[0;34m.\u001b[0m\u001b[0mt\u001b[0m\u001b[0;34m(\u001b[0m\u001b[0;34m)\u001b[0m\u001b[0;34m,\u001b[0m \u001b[0mtorch\u001b[0m\u001b[0;34m.\u001b[0m\u001b[0mrand\u001b[0m\u001b[0;34m(\u001b[0m\u001b[0;36m7\u001b[0m\u001b[0;34m,\u001b[0m\u001b[0;36m6\u001b[0m\u001b[0;34m)\u001b[0m\u001b[0;34m)\u001b[0m\u001b[0;34m\u001b[0m\u001b[0;34m\u001b[0m\u001b[0m\n\u001b[0m",
            "\u001b[0;31mRuntimeError\u001b[0m: The size of tensor a (10) must match the size of tensor b (6) at non-singleton dimension 1"
          ]
        }
      ],
      "source": [
        "torch.mul(torch.rand(10,6).t(), torch.rand(7,6))"
      ]
    },
    {
      "cell_type": "code",
      "execution_count": null,
      "metadata": {
        "colab": {
          "base_uri": "https://localhost:8080/"
        },
        "id": "9jNxY8wdla3G",
        "outputId": "16d70974-121c-44e1-d66c-8e7ed191241f"
      },
      "outputs": [
        {
          "data": {
            "text/plain": [
              "(torch.Size([10, 6]), torch.Size([7, 6]))"
            ]
          },
          "execution_count": 149,
          "metadata": {},
          "output_type": "execute_result"
        }
      ],
      "source": [
        "dydx.shape, perceptron.stack[2].weight.shape"
      ]
    },
    {
      "cell_type": "code",
      "execution_count": null,
      "metadata": {
        "colab": {
          "base_uri": "https://localhost:8080/",
          "height": 167
        },
        "id": "6aKTQvuaiXGW",
        "outputId": "06079b69-5f35-40a2-fe09-fc92dd34d23e"
      },
      "outputs": [
        {
          "ename": "RuntimeError",
          "evalue": "ignored",
          "output_type": "error",
          "traceback": [
            "\u001b[0;31m---------------------------------------------------------------------------\u001b[0m",
            "\u001b[0;31mRuntimeError\u001b[0m                              Traceback (most recent call last)",
            "\u001b[0;32m<ipython-input-150-7485983c9c7a>\u001b[0m in \u001b[0;36m<cell line: 1>\u001b[0;34m()\u001b[0m\n\u001b[0;32m----> 1\u001b[0;31m \u001b[0;34m(\u001b[0m\u001b[0;36m1\u001b[0m \u001b[0;34m/\u001b[0m \u001b[0mtorch\u001b[0m\u001b[0;34m.\u001b[0m\u001b[0mcosh\u001b[0m\u001b[0;34m(\u001b[0m\u001b[0mperceptron\u001b[0m\u001b[0;34m.\u001b[0m\u001b[0mstack\u001b[0m\u001b[0;34m[\u001b[0m\u001b[0;36m2\u001b[0m\u001b[0;34m]\u001b[0m\u001b[0;34m(\u001b[0m\u001b[0my\u001b[0m\u001b[0;34m)\u001b[0m\u001b[0;34m)\u001b[0m\u001b[0;34m)\u001b[0m\u001b[0;34m.\u001b[0m\u001b[0mshape\u001b[0m\u001b[0;34m,\u001b[0m \u001b[0mtorch\u001b[0m\u001b[0;34m.\u001b[0m\u001b[0msum\u001b[0m\u001b[0;34m(\u001b[0m\u001b[0mdydx\u001b[0m \u001b[0;34m*\u001b[0m \u001b[0mperceptron\u001b[0m\u001b[0;34m.\u001b[0m\u001b[0mstack\u001b[0m\u001b[0;34m[\u001b[0m\u001b[0;36m2\u001b[0m\u001b[0;34m]\u001b[0m\u001b[0;34m.\u001b[0m\u001b[0mweight\u001b[0m\u001b[0;34m.\u001b[0m\u001b[0mt\u001b[0m\u001b[0;34m(\u001b[0m\u001b[0;34m)\u001b[0m\u001b[0;34m,\u001b[0m \u001b[0maxis\u001b[0m\u001b[0;34m=\u001b[0m\u001b[0;36m1\u001b[0m\u001b[0;34m)\u001b[0m\u001b[0;34m.\u001b[0m\u001b[0mshape\u001b[0m\u001b[0;34m\u001b[0m\u001b[0;34m\u001b[0m\u001b[0m\n\u001b[0m",
            "\u001b[0;31mRuntimeError\u001b[0m: The size of tensor a (6) must match the size of tensor b (7) at non-singleton dimension 1"
          ]
        }
      ],
      "source": [
        "(1 / torch.cosh(perceptron.stack[2](y))).shape, torch.sum(dydx * perceptron.stack[2].weight.t(), axis=1).shape"
      ]
    },
    {
      "cell_type": "code",
      "execution_count": null,
      "metadata": {
        "colab": {
          "base_uri": "https://localhost:8080/"
        },
        "id": "nywlzvhfO183",
        "outputId": "c25ba8c2-cd01-4551-824f-f432e8a2da2a"
      },
      "outputs": [
        {
          "data": {
            "text/plain": [
              "torch.Size([10, 10])"
            ]
          },
          "execution_count": 137,
          "metadata": {},
          "output_type": "execute_result"
        }
      ],
      "source": [
        "(1 / torch.cosh(perceptron.stack[0](y))).shape"
      ]
    },
    {
      "cell_type": "code",
      "execution_count": null,
      "metadata": {
        "id": "mudQTvbXO2CM"
      },
      "outputs": [],
      "source": []
    },
    {
      "cell_type": "code",
      "execution_count": null,
      "metadata": {
        "colab": {
          "base_uri": "https://localhost:8080/"
        },
        "id": "6IJAbIcTueNs",
        "outputId": "d679154f-7381-4661-b001-13cd679bdcbd"
      },
      "outputs": [
        {
          "data": {
            "text/plain": [
              "(torch.Size([10, 5]), torch.Size([10]))"
            ]
          },
          "execution_count": 76,
          "metadata": {},
          "output_type": "execute_result"
        }
      ],
      "source": []
    },
    {
      "cell_type": "code",
      "execution_count": null,
      "metadata": {
        "colab": {
          "base_uri": "https://localhost:8080/"
        },
        "id": "l6Qdf6rLueSA",
        "outputId": "ecf08438-d933-41f1-f6ef-ebb79e9f5c1e"
      },
      "outputs": [
        {
          "data": {
            "text/plain": [
              "torch.Size([10, 5])"
            ]
          },
          "execution_count": 84,
          "metadata": {},
          "output_type": "execute_result"
        }
      ],
      "source": []
    },
    {
      "cell_type": "code",
      "execution_count": null,
      "metadata": {
        "id": "d7kMIQCwueVt"
      },
      "outputs": [],
      "source": []
    },
    {
      "cell_type": "code",
      "execution_count": null,
      "metadata": {
        "id": "gwKJaFJ6Wrk2"
      },
      "outputs": [],
      "source": [
        "#!/usr/bin/env python3\n",
        "# -*- coding: utf-8 -*-\n",
        "\"\"\"\n",
        "Created on Sat Mar  4 14:35:53 2023\n",
        "\n",
        "@author: kozlov\n",
        "\"\"\"\n",
        "\n",
        "import numpy as np  # to work with arrays\n",
        "import matplotlib.pyplot as plt  # to make figures\n",
        "\n",
        "# PyTorch\n",
        "import torch\n",
        "from torch import nn\n",
        "\n",
        "\n",
        "def f0(x):\n",
        "    return torch.tanh(x)\n",
        "\n",
        "\n",
        "def f1(x):\n",
        "    return 1/torch.cosh(x)**2\n",
        "\n",
        "\n",
        "def f2(x):\n",
        "    return -2*torch.sinh(x)/torch.cosh(x)**3\n",
        "\n",
        "\n",
        "class tPerceptron(nn.Module):\n",
        "    def __init__(self, L, N_h, D, N, std):\n",
        "        self.D = D  # dimension of the task\n",
        "        self.N = N  # number of the most excided state\n",
        "        self.L = L  # depth\n",
        "        self.N_h = N_h  # width\n",
        "        self.f = f0  # activation function\n",
        "        self.f1 = f1  # first derivative\n",
        "        self.f2 = f2  # second derivative\n",
        "\n",
        "        super(tPerceptron, self).__init__()\n",
        "\n",
        "        self.std = std #nn.Parameter(data=torch.Tensor([std]), requires_grad=True)\n",
        "\n",
        "        self.stack = nn.Sequential()\n",
        "        for i in range(self.L + 1):\n",
        "            if (i == 0):\n",
        "                self.stack.append(nn.Linear(D, N_h))\n",
        "            elif (i == self.L):\n",
        "                self.stack.append(nn.Linear(N_h, N + 1))\n",
        "            else:\n",
        "                self.stack.append(nn.Linear(N_h, N_h))\n",
        "            self.stack.append(nn.Tanh())\n",
        "\n",
        "        self.h = [None] * (self.L + 1)  # outputs of the layers\n",
        "\n",
        "    def forward(self, x):\n",
        "        S = x.shape[0]  # Size of the sample\n",
        "        assert x.shape[1] == self.D, 'Wrong shape of the matrix X'\n",
        "\n",
        "        for i in range(self.L + 1):\n",
        "            if i == 0:\n",
        "                self.h[i] = self.stack[2*i+1](\n",
        "                    self.stack[2*i](x))\n",
        "            else:\n",
        "                self.h[i] = self.stack[2*i+1](\n",
        "                    self.stack[2*i](self.h[i-1]))\n",
        "\n",
        "        assert self.h[self.L].shape[0] == S, 'Wrong shape of the h[-1]'\n",
        "        assert self.h[self.L].shape[1] == \\\n",
        "            self.N + 1, 'Wrong shape of the h[-1]'\n",
        "\n",
        "        # Normalization each wavefunction\n",
        "        res = torch.ones_like(self.h[-1])\n",
        "        for i in range(self.N + 1):\n",
        "            res[:, i] = self.h[-1][:, i] \\\n",
        "                * torch.exp(-torch.sum(x**2 / self.std**2, axis=1))\n",
        "\n",
        "        return res\n",
        "\n",
        "    def grad(self, x):\n",
        "        S = x.shape[0]  # Size of the sample\n",
        "        assert x.shape[1] == self.D, 'Wrong shape of the matrix X'\n",
        "\n",
        "        _ = self.forward(x)  # computes outputs of the layers\n",
        "\n",
        "        res = torch.zeros(S, self.N + 1, self.D)  # result\n",
        "\n",
        "        for t in range(self.D):\n",
        "            dh_dx = torch.zeros(self.D)\n",
        "            dh_dx[t] = 1\n",
        "\n",
        "            for i in range(self.L + 1):\n",
        "                a = self.stack[2*i].weight\n",
        "                b = self.stack[2*i].bias\n",
        "                if i == 0:\n",
        "                    dh_dx = self.f1(x @ a.t() + b) \\\n",
        "                        * (dh_dx @ a.t())\n",
        "                else:\n",
        "                    dh_dx = self.f1(self.h[i-1] @ a.t() + b) \\\n",
        "                        * (dh_dx @ a.t())\n",
        "\n",
        "            assert dh_dx.shape[0] == S\n",
        "            assert dh_dx.shape[1] == self.N + 1\n",
        "\n",
        "            for i in range(self.N + 1):\n",
        "                dh_dx[:, i] = dh_dx[:, i] \\\n",
        "                    * torch.exp(-torch.sum(x**2 / self.std**2, axis=1))\n",
        "\n",
        "            for i in range(self.N + 1):\n",
        "                dh_dx[:, i] = dh_dx[:, i] + self.h[-1][:, i] \\\n",
        "                    * torch.exp(-torch.sum(x**2 / self.std**2, axis=1)) \\\n",
        "                    * (-2 * x[:, t] / self.std**2)\n",
        "\n",
        "            res[:, :, t] = dh_dx\n",
        "\n",
        "        return res  # / torch.linalg.vector_norm(self.h[-1], axis=0)\n",
        "\n",
        "    def lap(self, x):\n",
        "        S = x.shape[0]  # Size of the sample\n",
        "        assert x.shape[1] == self.D, 'Wrong shape of the matrix X'\n",
        "\n",
        "        _ = self.forward(x)  # computes outputs of the layers\n",
        "        \n",
        "        res = torch.zeros(S, self.N + 1)\n",
        "        \n",
        "        for t in range(self.D):\n",
        "            dh_dx = torch.zeros(self.D) #\n",
        "            dh_dx[t] = 1 # \n",
        "            \n",
        "            d2h_dx2 =  torch.zeros(self.D) #\n",
        "            \n",
        "            for i in range(self.L + 1):\n",
        "                a = self.stack[2*i].weight\n",
        "                b = self.stack[2*i].bias\n",
        "                \n",
        "                if i == 0:\n",
        "                    d2h_dx2 = self.f2(x @ a.t() + b) * (dh_dx @ a.t())**2\n",
        "                else:\n",
        "                    d2h_dx2 = self.f2(self.h[i-1] @ a.t() + b) \\\n",
        "                        * (dh_dx @ a.t())**2\\\n",
        "                    + self.f1(self.h[i-1] @ a.t() + b) * (d2h_dx2 @ a.t())\n",
        "\n",
        "                if i == 0:\n",
        "                    dh_dx = self.f1(x @ a.t() + b) \\\n",
        "                        * (dh_dx @ a.t())\n",
        "                else:\n",
        "                    dh_dx = self.f1(self.h[i-1] @ a.t() + b) \\\n",
        "                        * (dh_dx @ a.t())\n",
        "                \n",
        "            assert dh_dx.shape[0] == S\n",
        "            assert dh_dx.shape[1] == self.N + 1\n",
        "                \n",
        "            assert d2h_dx2.shape[0] == S\n",
        "            assert d2h_dx2.shape[1] == self.N + 1\n",
        "            \n",
        "            for j in range(self.N + 1):\n",
        "                d2h_dx2[:, j] = d2h_dx2[:, j] \\\n",
        "                    * torch.exp(-torch.sum(x**2 / self.std**2, axis=1)) \\\n",
        "                    + 2 * dh_dx[:, j] \\\n",
        "                        * torch.exp(-torch.sum(x**2 / self.std**2, axis=1)) \\\n",
        "                        * (- 2 * x[:, t] / self.std**2) \\\n",
        "                    + self.h[-1][:, j] \\\n",
        "                        * torch.exp(-torch.sum(x**2 / self.std**2, axis=1)) \\\n",
        "                        * (-2 / self.std**2)\n",
        "\n",
        "            res = res + d2h_dx2\n",
        "\n",
        "        return res\n",
        "\n",
        "    def energy(self, x, V, W):\n",
        "        S = x.shape[0]  # Size of the sample\n",
        "        assert x.shape[1] == self.D, 'Wrong shape of the matrix X'\n",
        "\n",
        "        assert V(x).shape[0] == S\n",
        "\n",
        "        res = torch.empty(self.N + 1)\n",
        "\n",
        "        psi = self.forward(x)\n",
        "        lap_psi = self.lap(x)\n",
        "\n",
        "        for i in range(self.N + 1):\n",
        "            res[i] = torch.mean((- 1 / 2 * psi[:, i] * lap_psi[:, i]\n",
        "                                + psi[:, i]**2 * V(x)) / W(x)) \\\n",
        "                / torch.mean(psi[:, i]**2 / W(x))\n",
        "\n",
        "        return res\n",
        "\n",
        "\n",
        "def train_step(perceptron, optimizer, scheduler, loss_fn, S, mean, std,\n",
        "               alpha, beta):\n",
        "    # Create an uninitialized tensor of size SxD\n",
        "    x = torch.empty(S, perceptron.D)\n",
        "\n",
        "    # Normal distributed x\n",
        "    x.normal_(mean, std)\n",
        "\n",
        "    # Potential\n",
        "    V = lambda y: torch.linalg.vector_norm(y, axis=1)**2 / 2\n",
        "\n",
        "    # Weight function\n",
        "    W = lambda y: 1 / (std * np.sqrt(2 * np.pi)) \\\n",
        "        * torch.exp(-1/2*torch.mean((y - mean)**2 / std**2, axis=1))\n",
        "\n",
        "    # Residual\n",
        "    residual = torch.empty(perceptron.N + 1)\n",
        "    e = perceptron.energy(x, V, W)\n",
        "    psi = perceptron.forward(x)\n",
        "    lap_psi = perceptron.lap(x)\n",
        "    for i in range(perceptron.N + 1):\n",
        "        residual[i] = (i+1) * (torch.mean((- 1 / 2 * psi[:, i] * lap_psi[:, i]\n",
        "                                            + psi[:, i]**2 * V(x)) / W(x))) / torch.mean(psi[:, i]**2 / W(x))\n",
        "                                            # - e[i] * psi[:, i]**2) / W(x))) \\\n",
        "            # / torch.mean(psi[:, i]**2 / W(x))\n",
        "\n",
        "    # Orthonormalization\n",
        "    a = torch.empty(perceptron.N + 1)\n",
        "    for i in range(perceptron.N + 1):\n",
        "        a[i] = (torch.mean(psi[:, i]**2 / W(x)) - torch.tensor([1.0]))**2\n",
        "\n",
        "    b = torch.zeros(perceptron.N + 1, perceptron.N + 1)\n",
        "    for n in range(1, perceptron.N + 1):\n",
        "        for m in range(0, n):\n",
        "            b[n, m] = torch.mean(psi[:, n] * psi[:, m] / W(x))**2\n",
        "\n",
        "    # Loss function\n",
        "    loss = loss_fn(torch.mean(residual)\n",
        "                   + alpha * torch.sum(a)\n",
        "                   + beta * torch.sum(b), torch.tensor(0.0))\n",
        "\n",
        "    # Backpropagation\n",
        "    optimizer.zero_grad()\n",
        "    loss.backward()\n",
        "    optimizer.step()\n",
        "    scheduler.step()\n",
        "\n",
        "    return loss.item(), perceptron.energy(x, V, W).tolist()\n",
        "\n",
        "\n",
        "def train_loop(perceptron, N_iter):\n",
        "    losses = np.zeros(N_iter)\n",
        "    es = np.zeros((N_iter, perceptron.N + 1))\n",
        "\n",
        "    # Training parameters\n",
        "    Ss = 2000  # np.logspace(3, 4, N_iter, dtype=int)\n",
        "\n",
        "    params = list(perceptron.parameters())\n",
        "    # params.extend(perceptron.std)\n",
        "    optimizer = torch.optim.Adam(params=params, lr=1e-3, weight_decay=1e-3)\n",
        "    scheduler = torch.optim.lr_scheduler.ExponentialLR(optimizer, gamma=0.9999)\n",
        "    loss_fn = nn.MSELoss()\n",
        "\n",
        "    print(\"Step number, Loss, Energies\")\n",
        "\n",
        "    for i in range(N_iter):\n",
        "        losses[i], es[i] = train_step(perceptron, optimizer, scheduler,\n",
        "                                      loss_fn, Ss, 0.0, 2.25, 1.0, 1.0)\n",
        "\n",
        "        if i % 500 == 0:\n",
        "            print(f\"{i}\\t{losses[i]:6.4g}\\t{es[i]}\")\n",
        "\n",
        "    return losses, es"
      ]
    },
    {
      "cell_type": "code",
      "execution_count": null,
      "metadata": {
        "colab": {
          "base_uri": "https://localhost:8080/"
        },
        "id": "UwFECQ8M9-LI",
        "outputId": "065d509e-c449-4c35-b0f4-6c709c452f97"
      },
      "outputs": [
        {
          "data": {
            "text/plain": [
              "torch.optim.adam.Adam"
            ]
          },
          "execution_count": 232,
          "metadata": {},
          "output_type": "execute_result"
        }
      ],
      "source": [
        "type(torch.optim.Adam(params=list(perceptron.parameters()), lr=1e-3, weight_decay=1e-3))"
      ]
    },
    {
      "cell_type": "code",
      "execution_count": null,
      "metadata": {
        "colab": {
          "base_uri": "https://localhost:8080/",
          "height": 167
        },
        "id": "VOxBKbyU95_J",
        "outputId": "8aab37ac-155e-4e7b-e9da-0734a435eb96"
      },
      "outputs": [
        {
          "ename": "NameError",
          "evalue": "ignored",
          "output_type": "error",
          "traceback": [
            "\u001b[0;31m---------------------------------------------------------------------------\u001b[0m",
            "\u001b[0;31mNameError\u001b[0m                                 Traceback (most recent call last)",
            "\u001b[0;32m<ipython-input-230-fbd38f1fc269>\u001b[0m in \u001b[0;36m<cell line: 1>\u001b[0;34m()\u001b[0m\n\u001b[0;32m----> 1\u001b[0;31m \u001b[0mtorch\u001b[0m\u001b[0;34m.\u001b[0m\u001b[0moptim\u001b[0m\u001b[0;34m.\u001b[0m\u001b[0mlr_scheduler\u001b[0m\u001b[0;34m.\u001b[0m\u001b[0mExponentialLR\u001b[0m\u001b[0;34m(\u001b[0m\u001b[0moptimizer\u001b[0m\u001b[0;34m,\u001b[0m \u001b[0mgamma\u001b[0m\u001b[0;34m=\u001b[0m\u001b[0;36m0.9999\u001b[0m\u001b[0;34m)\u001b[0m\u001b[0;34m\u001b[0m\u001b[0;34m\u001b[0m\u001b[0m\n\u001b[0m",
            "\u001b[0;31mNameError\u001b[0m: name 'optimizer' is not defined"
          ]
        }
      ],
      "source": [
        "torch.optim.lr_scheduler.ExponentialLR(optimizer, gamma=0.9999)"
      ]
    },
    {
      "cell_type": "code",
      "execution_count": null,
      "metadata": {
        "id": "Q07Fo02wzzdn"
      },
      "outputs": [],
      "source": [
        "perceptron = tPerceptron(L=4, N_h=36, D=2, N=0, std=2.25)"
      ]
    },
    {
      "cell_type": "code",
      "execution_count": null,
      "metadata": {
        "colab": {
          "base_uri": "https://localhost:8080/"
        },
        "id": "HhaAugyszzZZ",
        "outputId": "93916599-eed9-4ad5-ff71-d20d58fd696f"
      },
      "outputs": [
        {
          "name": "stdout",
          "output_type": "stream",
          "text": [
            "Step number, Loss, Energies\n",
            "0\t 9.366\t[1.66063821]\n",
            "500\t 1.467\t[1.17119062]\n",
            "1000\t  1.36\t[1.12825847]\n",
            "1500\t 1.314\t[1.12878895]\n",
            "2000\t 1.473\t[1.16766167]\n",
            "2500\t 1.285\t[1.11709142]\n",
            "3000\t 1.378\t[1.13629901]\n",
            "3500\t 1.372\t[1.14500237]\n",
            "4000\t 1.435\t[1.14711392]\n",
            "4500\t 1.351\t[1.12970877]\n",
            "5000\t 1.329\t[1.13227189]\n",
            "5500\t 1.308\t[1.10609925]\n",
            "6000\t 1.271\t[1.09210813]\n",
            "6500\t 1.383\t[1.14872801]\n",
            "7000\t 1.338\t[1.1239351]\n",
            "7500\t 1.405\t[1.14880371]\n",
            "8000\t 1.424\t[1.14317727]\n",
            "8500\t 1.361\t[1.1409241]\n",
            "9000\t 1.312\t[1.11699069]\n",
            "9500\t 1.327\t[1.1315192]\n",
            "10000\t 1.305\t[1.11485398]\n",
            "10500\t 1.443\t[1.15054905]\n",
            "11000\t 1.369\t[1.14190197]\n",
            "11500\t 1.349\t[1.11420012]\n",
            "12000\t 1.294\t[1.10191929]\n",
            "12500\t  1.25\t[1.10546458]\n",
            "13000\t 1.443\t[1.137676]\n",
            "13500\t 1.345\t[1.13484037]\n",
            "14000\t 1.351\t[1.13961744]\n",
            "14500\t 1.347\t[1.13031936]\n",
            "15000\t 1.332\t[1.11831915]\n",
            "15500\t 1.324\t[1.11711872]\n",
            "16000\t 1.321\t[1.12288201]\n",
            "16500\t 1.333\t[1.13459361]\n",
            "17000\t 1.386\t[1.13653111]\n",
            "17500\t 1.244\t[1.08579314]\n",
            "18000\t 1.265\t[1.10146987]\n",
            "18500\t 1.334\t[1.13191295]\n",
            "19000\t 1.358\t[1.13038826]\n",
            "19500\t 1.267\t[1.10099232]\n"
          ]
        }
      ],
      "source": [
        "losses, es = train_loop(perceptron, 20000)"
      ]
    },
    {
      "cell_type": "code",
      "execution_count": null,
      "metadata": {
        "colab": {
          "base_uri": "https://localhost:8080/",
          "height": 282
        },
        "id": "2tUFIaPRzzWd",
        "outputId": "2558bade-6125-4fc9-9779-1347d9741f48"
      },
      "outputs": [
        {
          "data": {
            "text/plain": [
              "[<matplotlib.lines.Line2D at 0x7fb637a8b7f0>]"
            ]
          },
          "execution_count": 208,
          "metadata": {},
          "output_type": "execute_result"
        },
        {
          "data": {
            "image/png": "[encoded data removed]",
            "text/plain": [
              "<Figure size 432x288 with 1 Axes>"
            ]
          },
          "metadata": {},
          "output_type": "display_data"
        }
      ],
      "source": [
        "plt.plot(es[:,0])\n",
        "# plt.yscale('log')"
      ]
    },
    {
      "cell_type": "code",
      "execution_count": null,
      "metadata": {
        "id": "saCQLw8yzzLm"
      },
      "outputs": [],
      "source": []
    },
    {
      "cell_type": "code",
      "execution_count": null,
      "metadata": {
        "id": "EVyqDOKpzzJD"
      },
      "outputs": [],
      "source": []
    },
    {
      "cell_type": "code",
      "execution_count": null,
      "metadata": {
        "id": "nmVoJYqVntbq"
      },
      "outputs": [],
      "source": [
        "def modified_train_loop(perceptrons, N_iter, delta, mean, std, alpha, beta):\n",
        "    losses = np.zeros((N_iter, len(perceptrons)))\n",
        "    es = np.zeros((N_iter, len(perceptrons)))\n",
        "\n",
        "    # Training parameters\n",
        "    Ss = np.logspace(3, 4, N_iter // delta, dtype=int)\n",
        "    optimizers = [torch.optim.Adam(params=perceptrons[i].parameters(), lr=1e-4) \n",
        "      for i in range(len(perceptrons))]\n",
        "    schedulers = [torch.optim.lr_scheduler.ExponentialLR(optimizers[i], gamma=0.999) \n",
        "      for i in range(len(perceptrons))]\n",
        "    loss_fn = nn.MSELoss()\n",
        "\n",
        "    print(\"Step number, Loss, Energies\")\n",
        "\n",
        "    # Potential\n",
        "    V = lambda y: torch.linalg.vector_norm(y, axis=1)**2 / 2\n",
        "\n",
        "    # Weight function\n",
        "    W = lambda y: 1 / (std * np.sqrt(2 * np.pi)) \\\n",
        "        * torch.exp(-1/2*torch.mean((y - mean)**2 / std**2, axis=1))\n",
        "\n",
        "    for i in range(N_iter):\n",
        "      j = i // delta % len(perceptrons)\n",
        "\n",
        "      # Create an uninitialized tensor of size SxD\n",
        "      x = torch.empty(Ss[i // delta], perceptrons[j].D)\n",
        "\n",
        "      # Normal distributed x\n",
        "      x.normal_(mean, std)\n",
        "\n",
        "      e = torch.empty(len(perceptrons))\n",
        "      psi = torch.empty(Ss[i // delta], len(perceptrons))\n",
        "      lap_psi = torch.empty(Ss[i // delta], len(perceptrons))\n",
        "      a = torch.zeros(len(perceptrons))\n",
        "      b = torch.zeros(len(perceptrons), len(perceptrons))\n",
        "      for n in range(len(perceptrons)):\n",
        "          psi[:, n] = perceptrons[n](x).reshape(-1)\n",
        "          lap_psi[:, n] = perceptrons[n].lap(x).reshape(-1)\n",
        "          \n",
        "      for n in range(len(perceptrons)):\n",
        "          e[n] = torch.abs(torch.mean((- 1 / 2 * psi[:, n] * lap_psi[:, n]\n",
        "                                            + psi[:, n]**2 * V(x)) / W(x))) \\\n",
        "                                            / torch.mean(psi[:, n]**2 / W(x))\n",
        "          a[n] = (torch.mean(psi[:, n]**2 / W(x)) - torch.tensor(1.0))**2\n",
        "          if n > 0:\n",
        "              for m in range(0, n):\n",
        "                  b[n, m] = torch.mean(psi[:, n] * psi[:, m] / W(x))**2\n",
        "      # Loss function\n",
        "      loss = loss_fn(torch.mean(e)\n",
        "                   + alpha * torch.sum(a)\n",
        "                   + beta * torch.sum(b), torch.tensor(0.0))\n",
        "      \n",
        "      # Backpropagation\n",
        "      optimizers[j].zero_grad()\n",
        "      loss.backward()\n",
        "      optimizers[j].step()\n",
        "      schedulers[j].step()\n",
        "\n",
        "      if i % delta == 0:\n",
        "          print(f\"{i}\\t{losses[i,:]}\\t{es[i,:]}\")\n",
        "\n",
        "    return losses, es"
      ]
    },
    {
      "cell_type": "code",
      "execution_count": null,
      "metadata": {
        "id": "fanVuXGOXDNr"
      },
      "outputs": [],
      "source": [
        "perceptrons = [tPerceptron(L=2, N_h=10, D=2, N=0, std=2.25), \n",
        "               tPerceptron(L=3, N_h=15, D=2, N=0, std=2.25),\n",
        "               tPerceptron(L=3, N_h=20, D=2, N=0, std=2.25),\n",
        "               tPerceptron(L=3, N_h=25, D=2, N=0, std=2.25)]"
      ]
    },
    {
      "cell_type": "code",
      "execution_count": null,
      "metadata": {
        "colab": {
          "base_uri": "https://localhost:8080/",
          "height": 539
        },
        "id": "GHJj3wLIXFFS",
        "outputId": "ec87a37e-dd8e-4096-d06f-44158587591a"
      },
      "outputs": [
        {
          "name": "stdout",
          "output_type": "stream",
          "text": [
            "Step number, Loss, Energies\n",
            "0\t[0. 0. 0. 0.]\t[0. 0. 0. 0.]\n",
            "100\t[0. 0. 0. 0.]\t[0. 0. 0. 0.]\n",
            "200\t[0. 0. 0. 0.]\t[0. 0. 0. 0.]\n",
            "300\t[0. 0. 0. 0.]\t[0. 0. 0. 0.]\n",
            "400\t[0. 0. 0. 0.]\t[0. 0. 0. 0.]\n",
            "500\t[0. 0. 0. 0.]\t[0. 0. 0. 0.]\n",
            "600\t[0. 0. 0. 0.]\t[0. 0. 0. 0.]\n",
            "700\t[0. 0. 0. 0.]\t[0. 0. 0. 0.]\n",
            "800\t[0. 0. 0. 0.]\t[0. 0. 0. 0.]\n",
            "900\t[0. 0. 0. 0.]\t[0. 0. 0. 0.]\n",
            "1000\t[0. 0. 0. 0.]\t[0. 0. 0. 0.]\n",
            "1100\t[0. 0. 0. 0.]\t[0. 0. 0. 0.]\n"
          ]
        },
        {
          "ename": "KeyboardInterrupt",
          "evalue": "ignored",
          "output_type": "error",
          "traceback": [
            "\u001b[0;31m---------------------------------------------------------------------------\u001b[0m",
            "\u001b[0;31mKeyboardInterrupt\u001b[0m                         Traceback (most recent call last)",
            "\u001b[0;32m<ipython-input-125-43613b10f675>\u001b[0m in \u001b[0;36m<module>\u001b[0;34m\u001b[0m\n\u001b[0;32m----> 1\u001b[0;31m \u001b[0mlosses\u001b[0m\u001b[0;34m,\u001b[0m \u001b[0mes\u001b[0m \u001b[0;34m=\u001b[0m \u001b[0mmodified_train_loop\u001b[0m\u001b[0;34m(\u001b[0m\u001b[0mperceptrons\u001b[0m\u001b[0;34m,\u001b[0m \u001b[0;36m30000\u001b[0m\u001b[0;34m,\u001b[0m \u001b[0;36m100\u001b[0m\u001b[0;34m,\u001b[0m \u001b[0;36m0.0\u001b[0m\u001b[0;34m,\u001b[0m \u001b[0;36m2.25\u001b[0m\u001b[0;34m,\u001b[0m \u001b[0;36m1.0\u001b[0m\u001b[0;34m,\u001b[0m \u001b[0;36m0.1\u001b[0m\u001b[0;34m)\u001b[0m\u001b[0;34m\u001b[0m\u001b[0;34m\u001b[0m\u001b[0m\n\u001b[0m",
            "\u001b[0;32m<ipython-input-123-acc090c36f65>\u001b[0m in \u001b[0;36mmodified_train_loop\u001b[0;34m(perceptrons, N_iter, delta, mean, std, alpha, beta)\u001b[0m\n\u001b[1;32m     36\u001b[0m       \u001b[0;32mfor\u001b[0m \u001b[0mn\u001b[0m \u001b[0;32min\u001b[0m \u001b[0mrange\u001b[0m\u001b[0;34m(\u001b[0m\u001b[0mlen\u001b[0m\u001b[0;34m(\u001b[0m\u001b[0mperceptrons\u001b[0m\u001b[0;34m)\u001b[0m\u001b[0;34m)\u001b[0m\u001b[0;34m:\u001b[0m\u001b[0;34m\u001b[0m\u001b[0;34m\u001b[0m\u001b[0m\n\u001b[1;32m     37\u001b[0m           \u001b[0mpsi\u001b[0m\u001b[0;34m[\u001b[0m\u001b[0;34m:\u001b[0m\u001b[0;34m,\u001b[0m \u001b[0mn\u001b[0m\u001b[0;34m]\u001b[0m \u001b[0;34m=\u001b[0m \u001b[0mperceptrons\u001b[0m\u001b[0;34m[\u001b[0m\u001b[0mn\u001b[0m\u001b[0;34m]\u001b[0m\u001b[0;34m(\u001b[0m\u001b[0mx\u001b[0m\u001b[0;34m)\u001b[0m\u001b[0;34m.\u001b[0m\u001b[0mreshape\u001b[0m\u001b[0;34m(\u001b[0m\u001b[0;34m-\u001b[0m\u001b[0;36m1\u001b[0m\u001b[0;34m)\u001b[0m\u001b[0;34m\u001b[0m\u001b[0;34m\u001b[0m\u001b[0m\n\u001b[0;32m---> 38\u001b[0;31m           \u001b[0mlap_psi\u001b[0m\u001b[0;34m[\u001b[0m\u001b[0;34m:\u001b[0m\u001b[0;34m,\u001b[0m \u001b[0mn\u001b[0m\u001b[0;34m]\u001b[0m \u001b[0;34m=\u001b[0m \u001b[0mperceptrons\u001b[0m\u001b[0;34m[\u001b[0m\u001b[0mn\u001b[0m\u001b[0;34m]\u001b[0m\u001b[0;34m.\u001b[0m\u001b[0mlap\u001b[0m\u001b[0;34m(\u001b[0m\u001b[0mx\u001b[0m\u001b[0;34m)\u001b[0m\u001b[0;34m.\u001b[0m\u001b[0mreshape\u001b[0m\u001b[0;34m(\u001b[0m\u001b[0;34m-\u001b[0m\u001b[0;36m1\u001b[0m\u001b[0;34m)\u001b[0m\u001b[0;34m\u001b[0m\u001b[0;34m\u001b[0m\u001b[0m\n\u001b[0m\u001b[1;32m     39\u001b[0m \u001b[0;34m\u001b[0m\u001b[0m\n\u001b[1;32m     40\u001b[0m       \u001b[0;32mfor\u001b[0m \u001b[0mn\u001b[0m \u001b[0;32min\u001b[0m \u001b[0mrange\u001b[0m\u001b[0;34m(\u001b[0m\u001b[0mlen\u001b[0m\u001b[0;34m(\u001b[0m\u001b[0mperceptrons\u001b[0m\u001b[0;34m)\u001b[0m\u001b[0;34m)\u001b[0m\u001b[0;34m:\u001b[0m\u001b[0;34m\u001b[0m\u001b[0;34m\u001b[0m\u001b[0m\n",
            "\u001b[0;32m<ipython-input-3-6fc648092638>\u001b[0m in \u001b[0;36mlap\u001b[0;34m(self, x)\u001b[0m\n\u001b[1;32m    118\u001b[0m         \u001b[0;32massert\u001b[0m \u001b[0mx\u001b[0m\u001b[0;34m.\u001b[0m\u001b[0mshape\u001b[0m\u001b[0;34m[\u001b[0m\u001b[0;36m1\u001b[0m\u001b[0;34m]\u001b[0m \u001b[0;34m==\u001b[0m \u001b[0mself\u001b[0m\u001b[0;34m.\u001b[0m\u001b[0mD\u001b[0m\u001b[0;34m,\u001b[0m \u001b[0;34m'Wrong shape of the matrix X'\u001b[0m\u001b[0;34m\u001b[0m\u001b[0;34m\u001b[0m\u001b[0m\n\u001b[1;32m    119\u001b[0m \u001b[0;34m\u001b[0m\u001b[0m\n\u001b[0;32m--> 120\u001b[0;31m         \u001b[0m_\u001b[0m \u001b[0;34m=\u001b[0m \u001b[0mself\u001b[0m\u001b[0;34m.\u001b[0m\u001b[0mforward\u001b[0m\u001b[0;34m(\u001b[0m\u001b[0mx\u001b[0m\u001b[0;34m)\u001b[0m  \u001b[0;31m# computes outputs of the layers\u001b[0m\u001b[0;34m\u001b[0m\u001b[0;34m\u001b[0m\u001b[0m\n\u001b[0m\u001b[1;32m    121\u001b[0m \u001b[0;34m\u001b[0m\u001b[0m\n\u001b[1;32m    122\u001b[0m         \u001b[0mres\u001b[0m \u001b[0;34m=\u001b[0m \u001b[0mtorch\u001b[0m\u001b[0;34m.\u001b[0m\u001b[0mzeros\u001b[0m\u001b[0;34m(\u001b[0m\u001b[0mS\u001b[0m\u001b[0;34m,\u001b[0m \u001b[0mself\u001b[0m\u001b[0;34m.\u001b[0m\u001b[0mN\u001b[0m \u001b[0;34m+\u001b[0m \u001b[0;36m1\u001b[0m\u001b[0;34m)\u001b[0m\u001b[0;34m\u001b[0m\u001b[0;34m\u001b[0m\u001b[0m\n",
            "\u001b[0;32m<ipython-input-3-6fc648092638>\u001b[0m in \u001b[0;36mforward\u001b[0;34m(self, x)\u001b[0m\n\u001b[1;32m     62\u001b[0m             \u001b[0;32melse\u001b[0m\u001b[0;34m:\u001b[0m\u001b[0;34m\u001b[0m\u001b[0;34m\u001b[0m\u001b[0m\n\u001b[1;32m     63\u001b[0m                 self.h[i] = self.stack[2*i+1](\n\u001b[0;32m---> 64\u001b[0;31m                     self.stack[2*i](self.h[i-1]))\n\u001b[0m\u001b[1;32m     65\u001b[0m \u001b[0;34m\u001b[0m\u001b[0m\n\u001b[1;32m     66\u001b[0m         \u001b[0;32massert\u001b[0m \u001b[0mself\u001b[0m\u001b[0;34m.\u001b[0m\u001b[0mh\u001b[0m\u001b[0;34m[\u001b[0m\u001b[0mself\u001b[0m\u001b[0;34m.\u001b[0m\u001b[0mL\u001b[0m\u001b[0;34m]\u001b[0m\u001b[0;34m.\u001b[0m\u001b[0mshape\u001b[0m\u001b[0;34m[\u001b[0m\u001b[0;36m0\u001b[0m\u001b[0;34m]\u001b[0m \u001b[0;34m==\u001b[0m \u001b[0mS\u001b[0m\u001b[0;34m,\u001b[0m \u001b[0;34m'Wrong shape of the h[-1]'\u001b[0m\u001b[0;34m\u001b[0m\u001b[0;34m\u001b[0m\u001b[0m\n",
            "\u001b[0;32m/usr/local/lib/python3.8/dist-packages/torch/nn/modules/module.py\u001b[0m in \u001b[0;36m_call_impl\u001b[0;34m(self, *input, **kwargs)\u001b[0m\n\u001b[1;32m   1192\u001b[0m         if not (self._backward_hooks or self._forward_hooks or self._forward_pre_hooks or _global_backward_hooks\n\u001b[1;32m   1193\u001b[0m                 or _global_forward_hooks or _global_forward_pre_hooks):\n\u001b[0;32m-> 1194\u001b[0;31m             \u001b[0;32mreturn\u001b[0m \u001b[0mforward_call\u001b[0m\u001b[0;34m(\u001b[0m\u001b[0;34m*\u001b[0m\u001b[0minput\u001b[0m\u001b[0;34m,\u001b[0m \u001b[0;34m**\u001b[0m\u001b[0mkwargs\u001b[0m\u001b[0;34m)\u001b[0m\u001b[0;34m\u001b[0m\u001b[0;34m\u001b[0m\u001b[0m\n\u001b[0m\u001b[1;32m   1195\u001b[0m         \u001b[0;31m# Do not call functions when jit is used\u001b[0m\u001b[0;34m\u001b[0m\u001b[0;34m\u001b[0m\u001b[0;34m\u001b[0m\u001b[0m\n\u001b[1;32m   1196\u001b[0m         \u001b[0mfull_backward_hooks\u001b[0m\u001b[0;34m,\u001b[0m \u001b[0mnon_full_backward_hooks\u001b[0m \u001b[0;34m=\u001b[0m \u001b[0;34m[\u001b[0m\u001b[0;34m]\u001b[0m\u001b[0;34m,\u001b[0m \u001b[0;34m[\u001b[0m\u001b[0;34m]\u001b[0m\u001b[0;34m\u001b[0m\u001b[0;34m\u001b[0m\u001b[0m\n",
            "\u001b[0;32m/usr/local/lib/python3.8/dist-packages/torch/nn/modules/linear.py\u001b[0m in \u001b[0;36mforward\u001b[0;34m(self, input)\u001b[0m\n\u001b[1;32m    112\u001b[0m \u001b[0;34m\u001b[0m\u001b[0m\n\u001b[1;32m    113\u001b[0m     \u001b[0;32mdef\u001b[0m \u001b[0mforward\u001b[0m\u001b[0;34m(\u001b[0m\u001b[0mself\u001b[0m\u001b[0;34m,\u001b[0m \u001b[0minput\u001b[0m\u001b[0;34m:\u001b[0m \u001b[0mTensor\u001b[0m\u001b[0;34m)\u001b[0m \u001b[0;34m->\u001b[0m \u001b[0mTensor\u001b[0m\u001b[0;34m:\u001b[0m\u001b[0;34m\u001b[0m\u001b[0;34m\u001b[0m\u001b[0m\n\u001b[0;32m--> 114\u001b[0;31m         \u001b[0;32mreturn\u001b[0m \u001b[0mF\u001b[0m\u001b[0;34m.\u001b[0m\u001b[0mlinear\u001b[0m\u001b[0;34m(\u001b[0m\u001b[0minput\u001b[0m\u001b[0;34m,\u001b[0m \u001b[0mself\u001b[0m\u001b[0;34m.\u001b[0m\u001b[0mweight\u001b[0m\u001b[0;34m,\u001b[0m \u001b[0mself\u001b[0m\u001b[0;34m.\u001b[0m\u001b[0mbias\u001b[0m\u001b[0;34m)\u001b[0m\u001b[0;34m\u001b[0m\u001b[0;34m\u001b[0m\u001b[0m\n\u001b[0m\u001b[1;32m    115\u001b[0m \u001b[0;34m\u001b[0m\u001b[0m\n\u001b[1;32m    116\u001b[0m     \u001b[0;32mdef\u001b[0m \u001b[0mextra_repr\u001b[0m\u001b[0;34m(\u001b[0m\u001b[0mself\u001b[0m\u001b[0;34m)\u001b[0m \u001b[0;34m->\u001b[0m \u001b[0mstr\u001b[0m\u001b[0;34m:\u001b[0m\u001b[0;34m\u001b[0m\u001b[0;34m\u001b[0m\u001b[0m\n",
            "\u001b[0;31mKeyboardInterrupt\u001b[0m: "
          ]
        }
      ],
      "source": [
        "losses, es = modified_train_loop(perceptrons, 30000, 100, 0.0, 2.25, 1.0, 0.1)"
      ]
    },
    {
      "cell_type": "code",
      "execution_count": null,
      "metadata": {
        "id": "HVDvDdTUqOw_"
      },
      "outputs": [],
      "source": [
        "plt.plot(losses)\n",
        "plt.yscale('log')\n",
        "plt.xlim(0,20000)"
      ]
    },
    {
      "cell_type": "code",
      "execution_count": null,
      "metadata": {
        "id": "2_s3ta2ZYYyj"
      },
      "outputs": [],
      "source": [
        "del perceptron\n",
        "torch.cuda.empty_cache()"
      ]
    },
    {
      "cell_type": "code",
      "execution_count": null,
      "metadata": {
        "colab": {
          "base_uri": "https://localhost:8080/"
        },
        "id": "OcynFIDbZ2J7",
        "outputId": "c5ea6f67-a6d6-446a-a0ea-1e0628839cbf"
      },
      "outputs": [
        {
          "data": {
            "text/plain": [
              "device(type='cuda')"
            ]
          },
          "execution_count": 29,
          "metadata": {},
          "output_type": "execute_result"
        }
      ],
      "source": [
        "device"
      ]
    },
    {
      "cell_type": "code",
      "execution_count": null,
      "metadata": {
        "id": "20mU0UcXj15B"
      },
      "outputs": [],
      "source": []
    }
  ],
  "metadata": {
    "accelerator": "GPU",
    "colab": {
      "provenance": [],
      "authorship_tag": "ABX9TyNI0/yM3xWJ2iLnZuM7DoLh",
      "include_colab_link": true
    },
    "gpuClass": "standard",
    "kernelspec": {
      "display_name": "Python 3",
      "name": "python3"
    },
    "language_info": {
      "name": "python"
    }
  },
  "nbformat": 4,
  "nbformat_minor": 0
}