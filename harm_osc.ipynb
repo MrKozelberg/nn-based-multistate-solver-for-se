{
  "cells": [
    {
      "cell_type": "markdown",
      "metadata": {
        "id": "view-in-github",
        "colab_type": "text"
      },
      "source": [
        "<a href=\"https://colab.research.google.com/github/MrKozelberg/qmnn/blob/main/harm_osc.ipynb\" target=\"_parent\"><img src=\"https://colab.research.google.com/assets/colab-badge.svg\" alt=\"Open In Colab\"/></a>"
      ]
    },
    {
      "cell_type": "code",
      "execution_count": 39,
      "metadata": {
        "id": "-tiIn70xuciE"
      },
      "outputs": [],
      "source": [
        "# PyTorch\n",
        "import torch\n",
        "from torch import nn\n",
        "\n",
        "# Math\n",
        "import math\n",
        "\n",
        "# Plots\n",
        "import matplotlib.pyplot as plt\n",
        "\n",
        "# Random\n",
        "import random\n",
        "\n",
        "# Numpy\n",
        "import numpy as np"
      ]
    },
    {
      "cell_type": "code",
      "execution_count": 2,
      "metadata": {
        "colab": {
          "base_uri": "https://localhost:8080/"
        },
        "id": "QxGZlIjkxh9W",
        "outputId": "0bfb6fe7-3f08-4593-bf1d-5c697406a3b1"
      },
      "outputs": [
        {
          "output_type": "stream",
          "name": "stdout",
          "text": [
            "Using cuda device\n"
          ]
        }
      ],
      "source": [
        "# Detect avaible device\n",
        "device = \"cuda\" if torch.cuda.is_available() else \"cpu\"\n",
        "print(f\"Using {device} device\")"
      ]
    },
    {
      "cell_type": "code",
      "execution_count": 5,
      "metadata": {
        "id": "Y6LQWYFmueFf"
      },
      "outputs": [],
      "source": [
        "f0 = lambda x: torch.tanh(x)\n",
        "f1 = lambda x: 1/torch.cosh(x)**2\n",
        "f2 = lambda x: -2*torch.sinh(x)/torch.cosh(x)**3\n",
        "\n",
        "class Perceptron(nn.Module):\n",
        "  def __init__(self, D: int, M: int, H: list, L: float):\n",
        "    assert len(H) > 0, \"List of hidden layers' widths is empty\"\n",
        "    super(Perceptron, self).__init__()\n",
        "    self.D = D # Dimension of the initial space\n",
        "    self.M = M # Dimension of the final space\n",
        "    self.N = len(H) # Number of the hidden layers\n",
        "    self.L = L # Box size\n",
        "    self.stack = nn.Sequential() # Structure of the perceptron\n",
        "    for n in range(self.N + 1):\n",
        "      if (n == 0):\n",
        "        self.stack.append(nn.Linear(D, H[0]))\n",
        "      elif (n == self.N):\n",
        "        self.stack.append(nn.Linear(H[-1], M))\n",
        "      else:\n",
        "        self.stack.append(nn.Linear(H[n-1], H[n]))\n",
        "      self.stack.append(nn.Tanh())\n",
        "    self.stack.to(device)\n",
        "  \n",
        "  # Normal distribution\n",
        "  def weight(self, x: torch.Tensor, mean: float, std: float):\n",
        "    assert x.shape[1] == self.D, \"Wrong shape 1 of the tensor x\"\n",
        "    assert x.shape[0] > 0, \"Wrong shape 0 of the tensor x\"\n",
        "    return 1 / (std * math.sqrt(2 * math.pi)) \\\n",
        "      * torch.exp(-0.5 * torch.sum((x - mean)**2, axis=1) / std**2)\n",
        "  \n",
        "  def stack_gradient(self, x: torch.Tensor):\n",
        "    assert x.shape[1] == self.D, \"Wrong shape 1 of the tensor x\"\n",
        "    assert x.shape[0] > 0, \"Wrong shape 0 of the tensor x\"\n",
        "    result = torch.zeros((x.shape[0], self.D, self.M)).to(device)\n",
        "    # Computation of the y\n",
        "    y = [None] * (self.N + 1)\n",
        "    y[0] = x\n",
        "    for i in range(self.N):\n",
        "      # y(i+1)\n",
        "      y[i+1] = self.stack[i*2+1](self.stack[i*2](y[i]))\n",
        "    # Computation of the result\n",
        "    for d in range(self.D):\n",
        "      # dy(1)dx\n",
        "      dydx = f1(self.stack[0](y[0])) * self.stack[0].weight[:,d]\n",
        "      for i in range(1, self.N + 1):\n",
        "        # dy(i)dx\n",
        "        dydx =  f1(self.stack[i*2](y[i])) \\\n",
        "          * torch.matmul(dydx, self.stack[i*2].weight.t())\n",
        "      # keeping result\n",
        "      result[:,d,:] = dydx\n",
        "    return result\n",
        "  \n",
        "  def stack_laplacian(self, x: torch.Tensor):\n",
        "    assert x.shape[1] == self.D, \"Wrong shape 1 of the tensor x\"\n",
        "    assert x.shape[0] > 0, \"Wrong shape 0 of the tensor x\"\n",
        "    preresult = torch.zeros((x.shape[0], self.D, self.M)).to(device)\n",
        "    # Computation of the y\n",
        "    y = [None] * (self.N + 1)\n",
        "    y[0] = x\n",
        "    for i in range(self.N):\n",
        "      # y(i+1)\n",
        "      y[i+1] = self.stack[i*2+1](self.stack[i*2](y[i]))\n",
        "    # Computation of the result\n",
        "    for d in range(self.D):\n",
        "      # dy(1)dx\n",
        "      dydx = f1(self.stack[0](y[0])) * self.stack[0].weight[:,d]\n",
        "      # d2y(2)dx2\n",
        "      d2ydx2 = f2(self.stack[0](y[0])) * self.stack[0].weight[:,d]**2\n",
        "      for i in range(1, self.N + 1):\n",
        "        # d2y(i)dx2\n",
        "        d2ydx2 = f2(self.stack[i*2](y[i])) \\\n",
        "          * torch.matmul(dydx, self.stack[i*2].weight.t())**2 \\\n",
        "          + f1(self.stack[i*2](y[i])) \\\n",
        "          * torch.matmul(d2ydx2, self.stack[i*2].weight.t())\n",
        "        # dy(i)dx\n",
        "        dydx =  f1(self.stack[i*2](y[i])) \\\n",
        "          * torch.matmul(dydx, self.stack[i*2].weight.t())\n",
        "      # keeping preresult\n",
        "      preresult[:,d,:] = d2ydx2\n",
        "    return torch.sum(preresult, axis=1) \n",
        "  \n",
        "  def amplitude(self, x: torch.Tensor):\n",
        "    assert x.shape[1] == self.D, \"Wrong shape of the tensor x\"\n",
        "    assert x.shape[0] > 0, \"Wrong shape of the tensor x\"\n",
        "    mask = (torch.sum(abs(x)<=self.L, axis=1) == self.D).to(device)\n",
        "    result = torch.ones((x.shape[0], self.M)).to(device)\n",
        "    # result = torch.mul(result, 1 / torch.sum(self.stack(x)**2, axis=0))\n",
        "    result = torch.mul(result.t(),\n",
        "                       (1 - torch.sum(x**2, axis=1) / self.L**2) * mask).t()\n",
        "    assert result.shape[1] == self.M, \"Wrong shape 1 of the result\"\n",
        "    assert result.shape[0] == x.shape[0], \"Wrong shape 0 of the result\"\n",
        "    return result\n",
        "  \n",
        "  def amplitude_gradient(self, x: torch.Tensor):\n",
        "    assert x.shape[1] == self.D, \"Wrong shape of the tensor x\"\n",
        "    assert x.shape[0] > 0, \"Wrong shape of the tensor x\"\n",
        "    mask = (torch.sum(abs(x)<=self.L, axis=1) == self.D).to(device)\n",
        "    result = torch.ones((x.shape[0], self.D, self.M)).to(device)\n",
        "    s = self.stack(x)\n",
        "    sg = self.stack_gradient(x)\n",
        "    for d in range(self.D):\n",
        "      # first term\n",
        "      a = torch.ones((x.shape[0], self.M)).to(device)\n",
        "      # a = torch.mul(a, 1 / torch.sum(s**2, axis=0))\n",
        "      a = torch.mul(a.t(), -2 * x[:,d] / self.L**2 * mask).t()\n",
        "      # # second term\n",
        "      # b = torch.ones((x.shape[0], self.M)).to(device)\n",
        "      # b = torch.mul(b,\n",
        "      #               -2 / torch.sum(s**2, axis=0)**2 \n",
        "      #               * torch.sum(s * sg[:,d,:], axis=0))\n",
        "      # b = torch.mul(b.t(),\n",
        "      #               (1 - torch.sum(x**2, axis=1) / self.L**2) * mask).t()\n",
        "      # keeping result\n",
        "      result[:,d,:] = a #+ b\n",
        "    return result\n",
        "\n",
        "  def amplitude_laplacian(self, x: torch.Tensor):\n",
        "    assert x.shape[1] == self.D, \"Wrong shape of the tensor x\"\n",
        "    assert x.shape[0] > 0, \"Wrong shape of the tensor x\"\n",
        "    mask = torch.sum(abs(x)<=self.L, axis=1) == self.D\n",
        "    a = torch.zeros((x.shape[0], self.M)).to(device)\n",
        "    result = torch.mul(a.t(), -2 * self.D / self.L**2 * mask).t()\n",
        "    # s = self.stack(x)\n",
        "    # sg = self.stack_gradient(x)\n",
        "    # sl = self.stack_laplacian(x)\n",
        "    # for d in range(self.D):\n",
        "    #   # zeroth term\n",
        "    #   z = torch.ones((x.shape[0], self.M)).to(device)\n",
        "    #   z = torch.mul(z, 1 / torch.sum(s**2, axis=0))\n",
        "    #   z = torch.mul(z.t(), -2 / self.L**2 * mask).t()\n",
        "    #   # first term\n",
        "    #   a = torch.ones((x.shape[0], self.M)).to(device)\n",
        "    #   a = torch.mul(a, 8 / torch.sum(s**2, axis=0)**2 \n",
        "    #                 * torch.sum(s * sg[:,d,:], axis=0))\n",
        "    #   a = torch.mul(a.t(), -2 * x[:,d] / self.L**2 * mask).t()\n",
        "    #   # second term\n",
        "    #   b = torch.ones((x.shape[0], self.M)).to(device)\n",
        "    #   b = torch.mul(b,\n",
        "    #                 2 / torch.sum(s**2, axis=0)**3 \n",
        "    #                 * (2 * torch.sum(s * sg[:,d,:], axis=0))**2)\n",
        "    #   b = torch.mul(b.t(),\n",
        "    #                 (1 - torch.sum(x**2, axis=1) / self.L**2) * mask).t()\n",
        "    #   # third term\n",
        "    #   c = torch.ones((x.shape[0], self.M)).to(device)\n",
        "    #   c = torch.mul(c,\n",
        "    #                 -2 / torch.sum(s**2, axis=0)**2 \n",
        "    #                 * torch.sum(sg[:,d,:]**2, axis=0))\n",
        "    #   c = torch.mul(c.t(),\n",
        "    #                 (1 - torch.sum(x**2, axis=1) / self.L**2) * mask).t()\n",
        "    #   # keeping result\n",
        "    #   result += z + a + b + c\n",
        "    # # last term\n",
        "    # d = torch.ones((x.shape[0], self.M)).to(device)\n",
        "    # d = torch.mul(d,\n",
        "    #               -2 / torch.sum(s**2, axis=0)**2 \n",
        "    #               * torch.sum(s * sl, axis=0))\n",
        "    # d = torch.mul(d.t(),\n",
        "    #               (1 - torch.sum(x**2, axis=1) / self.L**2) * mask).t()\n",
        "    # result += d\n",
        "    return result\n",
        "    \n",
        "  def forward(self, x: torch.Tensor):\n",
        "    assert x.shape[1] == self.D, \"Wrong shape 1 of the tensor x\"\n",
        "    assert x.shape[0] > 0, \"Wrong shape 0 of the tensor x\"\n",
        "    result = self.stack(x).to(device) * self.amplitude(x).to(device) # Multiply by amplitude\n",
        "    assert result.shape[1] == self.M, \"Wrong shape 1 of the result\"\n",
        "    assert result.shape[0] == x.shape[0], \"Wrong shape 0 of the result\"\n",
        "    return result\n",
        "  \n",
        "  def gradient(self, x: torch.Tensor):\n",
        "    assert x.shape[1] == self.D, \"Wrong shape of the tensor x\"\n",
        "    assert x.shape[0] > 0, \"Wrong shape of the tensor x\"\n",
        "    result = torch.zeros((x.shape[0], self.D, self.M)).to(device)\n",
        "    a = self.amplitude(x)\n",
        "    sg = self.stack_gradient(x)\n",
        "    s = self.stack(x)\n",
        "    ag = self.amplitude_gradient(x)\n",
        "    for d in range(self.D):\n",
        "      result[:,d,:] = sg[:,d,:] * a + s * ag[:,d,:]\n",
        "    return result\n",
        "\n",
        "  def laplacian(self, x: torch.Tensor):\n",
        "    assert x.shape[1] == self.D, \"Wrong shape of the tensor x\"\n",
        "    assert x.shape[0] > 0, \"Wrong shape of the tensor x\"\n",
        "    result = self.stack_laplacian(x) * self.amplitude(x) \\\n",
        "      + self.stack(x) * self.amplitude_laplacian(x) \\\n",
        "      + 2 * torch.sum(self.stack_gradient(x) * self.amplitude_gradient(x), \n",
        "                      axis=1)\n",
        "    return result\n",
        "  \n",
        "  def wavefunction_norm2(self, x: torch.Tensor, mean: float, std: float):\n",
        "    assert x.shape[1] == self.D, \"Wrong shape 1 of the tensor x\"\n",
        "    assert x.shape[0] > 0, \"Wrong shape 0 of the tensor x\"\n",
        "    result = torch.zeros(self.M).to(device)\n",
        "    f = self.forward(x)\n",
        "    w = self.weight(x, mean, std)\n",
        "    for m in range(self.M):\n",
        "      result[m] = torch.mean(abs(f[:,m])**2 / w)\n",
        "    return result\n",
        "  \n",
        "  def mean_hamiltonian(self, x: torch.Tensor, mean: float, std: float):\n",
        "    assert x.shape[1] == self.D, \"Wrong shape 1 of the tensor x\"\n",
        "    assert x.shape[0] > 0, \"Wrong shape 0 of the tensor x\"\n",
        "    result = torch.zeros(self.M).to(device)\n",
        "    f = self.forward(x)\n",
        "    l = self.laplacian(x)\n",
        "    w = self.weight(x, mean, std)\n",
        "    v = 0.5 * torch.sum(x**2, axis=1)\n",
        "    for m in range(self.M):\n",
        "      result[m] = torch.mean(f[:,m] * (-0.5 * l[:,m] + v * f[:,m]) / w)\n",
        "    return result\n",
        "  \n",
        "  def energies(self, x: torch.Tensor, mean: float, std: float):\n",
        "    assert x.shape[1] == self.D, \"Wrong shape 1 of the tensor x\"\n",
        "    assert x.shape[0] > 0, \"Wrong shape 0 of the tensor x\"\n",
        "    return self.mean_hamiltonian(x, mean, std) \\\n",
        "      / self.wavefunction_norm2(x, mean, std)\n",
        "\n",
        "  def train_step(self, optimizer, scheduler, loss_function, B: int, mean: float,\n",
        "                 std: float, alpha: float, beta: float):\n",
        "    # Normal distributed x\n",
        "    x = torch.normal(mean=mean, std=std, size=(B, self.D)).to(device)\n",
        "    e = self.energies(x, mean, std)\n",
        "    f = self.forward(x)\n",
        "    w = self.weight(x, mean, std)\n",
        "    # Residual\n",
        "    residual = -0.5 * self.laplacian(x) \\\n",
        "      + 0.5 * torch.mul(f.t(), torch.sum(x**2, axis=1)).t() \\\n",
        "      - torch.mul(f, e)\n",
        "    # Orthonormalization\n",
        "    norm2 = self.wavefunction_norm2(x, mean, std)\n",
        "    a = torch.mean((norm2 - torch.tensor(1).to(device))**2)\n",
        "    b = torch.zeros(self.M, self.M).to(device).to(device)\n",
        "    for m1 in range(1, self.M):\n",
        "      for m2 in range(0, m1):\n",
        "        b[m1,m2] = torch.mean(f[:,m1] * f[:,m2] / w)**2\n",
        "    # Loss\n",
        "    tau = 1.\n",
        "    loss = loss_function(torch.sum(torch.mean(residual**2, axis=0))\n",
        "      + alpha * a \n",
        "      + beta * torch.sum(b),\n",
        "      torch.tensor(0.0).to(device))\n",
        "    # Backpropagation\n",
        "    optimizer.zero_grad()\n",
        "    loss.backward()\n",
        "    optimizer.step()\n",
        "    scheduler.step()\n",
        "    return loss.item(), self.energies(x, mean, std).tolist()\n",
        "  \n",
        "  def train_loop(self, I: int, lr0: float, weight_decay: float, gamma: float):\n",
        "    optimizer = torch.optim.Adam(params=list(self.parameters()), \n",
        "                                 lr=lr0, \n",
        "                                 weight_decay=weight_decay)\n",
        "    scheduler = torch.optim.lr_scheduler.ExponentialLR(optimizer, \n",
        "                                                       gamma=gamma)\n",
        "    # Orthonormalization weights\n",
        "    alpha = 1.\n",
        "    beta = 100.\n",
        "    # Batch size\n",
        "    B = 2000 #int(10**(self.D + 2))\n",
        "    e_list = [None] * I\n",
        "    l_list = [None] * I\n",
        "    # Main loop\n",
        "    print('i,\\t Loss,\\t Energies')\n",
        "    for i in range(I):\n",
        "      l_list[i], e_list[i] = self.train_step(optimizer, scheduler, nn.MSELoss(),\n",
        "                                             B, 0., self.L/2, alpha, beta)\n",
        "      if i % 1000 == 0:\n",
        "        print(f\"{i:3d}\\t {l_list[i]:.4E}\\t {e_list[i]}\")\n",
        "    return l_list, e_list"
      ]
    },
    {
      "cell_type": "code",
      "execution_count": 6,
      "metadata": {
        "colab": {
          "base_uri": "https://localhost:8080/"
        },
        "id": "XQJWXL1VsFLl",
        "outputId": "ec2a4292-e9f4-42e9-8d62-485dfecf3fc2"
      },
      "outputs": [
        {
          "output_type": "stream",
          "name": "stdout",
          "text": [
            "i,\t Loss,\t Energies\n",
            "  0\t 1.0159E+03\t [4.041000843048096, 4.837772846221924, 6.831523895263672, 5.667828559875488, 5.8808913230896, 4.64492130279541, 4.652353286743164, 9.078237533569336, 5.669465065002441, 3.983855962753296, 6.078038692474365, 5.97326135635376, 3.427149772644043, 7.334981441497803, 6.794328212738037, 5.600841999053955]\n",
            "1000\t 1.0165E+00\t [8.321622848510742, 7.887172222137451, 5.454674243927002, 1.622173547744751, 3.3542978763580322, 4.246764659881592, 6.014481544494629, 4.990777015686035, 6.943624973297119, 4.12930965423584, 7.380996227264404, 6.152428150177002, 4.618420124053955, 7.718743801116943, 7.600441932678223, 6.774890899658203]\n",
            "2000\t 1.0052E+00\t [7.651739120483398, 7.691958427429199, 5.590188026428223, 1.354618787765503, 3.123049736022949, 5.726171016693115, 5.5236101150512695, 4.295077323913574, 7.4486308097839355, 3.244272470474243, 7.111454010009766, 6.76012659072876, 4.065120697021484, 7.627101898193359, 8.451285362243652, 6.50269889831543]\n",
            "3000\t 1.0019E+00\t [7.073217391967773, 7.22141695022583, 5.531283855438232, 1.3172531127929688, 2.8487842082977295, 6.179474830627441, 6.010435581207275, 4.081606388092041, 7.21541166305542, 3.230827808380127, 8.04515266418457, 7.505298614501953, 4.434078693389893, 6.628182888031006, 8.425728797912598, 6.003406524658203]\n",
            "4000\t 9.9762E-01\t [6.498260974884033, 6.940703392028809, 5.211898326873779, 1.2458884716033936, 2.6832351684570312, 7.038801193237305, 5.7971062660217285, 4.097383975982666, 7.725784778594971, 2.9868321418762207, 7.803610801696777, 8.237648963928223, 3.897538661956787, 6.166653633117676, 8.143828392028809, 5.769018173217773]\n",
            "5000\t 9.8218E-01\t [6.156439781188965, 6.4932332038879395, 4.42918586730957, 1.1074937582015991, 2.5519347190856934, 7.941821575164795, 4.543663501739502, 3.385366439819336, 7.462466716766357, 2.898043632507324, 7.242820739746094, 7.7707719802856445, 3.852853536605835, 4.656152248382568, 7.592631816864014, 5.410585403442383]\n",
            "6000\t 9.4264E-01\t [6.00372838973999, 6.095062255859375, 4.142175674438477, 1.0388333797454834, 2.693765878677368, 4.973845958709717, 4.307660102844238, 3.4422121047973633, 7.57893705368042, 3.3758442401885986, 8.264115333557129, 8.40781307220459, 3.709052562713623, 3.8878912925720215, 7.077189922332764, 4.475832939147949]\n",
            "7000\t 9.1980E-01\t [5.985649108886719, 5.0472493171691895, 4.106300354003906, 0.9625772833824158, 2.627481698989868, 4.091403961181641, 4.166545867919922, 2.924286127090454, 7.193902492523193, 3.4097583293914795, 7.901353359222412, 7.758523464202881, 3.5312209129333496, 3.220477342605591, 5.980368614196777, 4.0131072998046875]\n",
            "8000\t 9.0972E-01\t [5.3041839599609375, 5.397417068481445, 4.278195381164551, 0.9440270066261292, 3.049741506576538, 3.94569993019104, 3.857779026031494, 2.875277042388916, 6.675981521606445, 2.8425052165985107, 7.0822906494140625, 7.302829265594482, 3.542358160018921, 3.1878390312194824, 5.261444091796875, 3.976793050765991]\n",
            "9000\t 9.1090E-01\t [5.670507907867432, 5.627450942993164, 4.2750043869018555, 0.9576166272163391, 3.567580461502075, 3.8909690380096436, 3.987700939178467, 3.160722255706787, 6.845139026641846, 3.0037155151367188, 7.141969203948975, 7.639244556427002, 3.3412041664123535, 3.320094108581543, 5.182281970977783, 4.000630855560303]\n",
            "10000\t 9.1096E-01\t [6.083308219909668, 5.723509311676025, 4.399289608001709, 0.9559776186943054, 4.080864906311035, 4.4392476081848145, 4.830223560333252, 3.2061922550201416, 6.471503257751465, 3.8234925270080566, 6.8717041015625, 7.441995143890381, 3.3507606983184814, 3.348184823989868, 5.0922675132751465, 4.102901935577393]\n",
            "11000\t 9.0430E-01\t [5.515375137329102, 5.4206461906433105, 4.521387100219727, 0.94832444190979, 4.034793853759766, 4.855387210845947, 4.364823818206787, 3.2252562046051025, 6.09337043762207, 5.109523773193359, 6.515506744384766, 6.915799617767334, 3.3394856452941895, 3.4097213745117188, 4.785076141357422, 4.271121025085449]\n",
            "12000\t 9.0752E-01\t [5.615056037902832, 5.681301593780518, 4.456520080566406, 0.9455980658531189, 4.4524993896484375, 5.393326759338379, 4.554665565490723, 3.2976596355438232, 5.7408766746521, 5.533161640167236, 6.5258002281188965, 6.589418888092041, 3.3444042205810547, 3.362656593322754, 4.482515335083008, 4.309589862823486]\n",
            "13000\t 9.0501E-01\t [5.648030757904053, 5.467893600463867, 4.646936893463135, 0.944635808467865, 4.341273784637451, 5.168883323669434, 4.610560894012451, 3.338400363922119, 5.55341100692749, 5.2303314208984375, 5.8675150871276855, 6.584989547729492, 3.357135534286499, 3.3033523559570312, 4.577621936798096, 4.330846786499023]\n",
            "14000\t 9.0440E-01\t [5.68512487411499, 5.724513530731201, 4.847528457641602, 0.9671680927276611, 4.384567737579346, 5.2660956382751465, 4.6981377601623535, 3.503721237182617, 6.169196605682373, 5.2980637550354, 6.117625713348389, 6.53859806060791, 3.451616048812866, 3.7051727771759033, 4.436432838439941, 4.412233829498291]\n",
            "15000\t 9.0618E-01\t [5.930083751678467, 5.644476890563965, 4.710703372955322, 0.94208163022995, 4.429136753082275, 5.478014945983887, 4.5442047119140625, 3.637773036956787, 5.716793060302734, 5.286431312561035, 5.727921962738037, 6.285019874572754, 3.4369423389434814, 3.273547649383545, 4.386044502258301, 4.395589351654053]\n",
            "16000\t 9.0766E-01\t [6.045745372772217, 5.596912384033203, 4.868903160095215, 0.9530608057975769, 4.582723617553711, 5.708087921142578, 4.701656818389893, 3.9556446075439453, 6.052072048187256, 5.472043991088867, 5.654287338256836, 6.2292799949646, 3.664140224456787, 3.4165854454040527, 4.543923854827881, 4.535663604736328]\n",
            "17000\t 9.0015E-01\t [6.023923397064209, 5.881930351257324, 4.767533779144287, 0.9433903098106384, 4.510664939880371, 5.582274436950684, 4.52142333984375, 3.9146125316619873, 5.958250999450684, 5.845551013946533, 5.110605239868164, 6.419199466705322, 3.6517281532287598, 3.4393789768218994, 4.47477912902832, 4.3149943351745605]\n",
            "18000\t 9.0419E-01\t [6.2604899406433105, 5.7494306564331055, 4.89140510559082, 0.9518300890922546, 4.66016960144043, 5.308929443359375, 4.600740909576416, 4.118861198425293, 6.0474019050598145, 5.758799076080322, 5.764190673828125, 6.514020919799805, 3.7561209201812744, 3.4629878997802734, 4.425325870513916, 4.450957775115967]\n",
            "19000\t 9.0424E-01\t [6.247983455657959, 5.781713485717773, 4.9845967292785645, 0.9444994926452637, 4.670739650726318, 5.654739856719971, 4.575058460235596, 4.203826427459717, 6.059478282928467, 5.8223443031311035, 5.504149436950684, 6.4417243003845215, 3.849863052368164, 3.241302490234375, 4.411924362182617, 4.448146343231201]\n",
            "20000\t 9.0415E-01\t [6.1492085456848145, 5.691298484802246, 5.020569324493408, 0.9137251973152161, 4.664533615112305, 5.6496381759643555, 4.57267427444458, 4.256451606750488, 5.989230155944824, 5.8112077713012695, 5.844189167022705, 6.465288162231445, 4.05878210067749, 3.2076356410980225, 4.494532585144043, 4.419268608093262]\n",
            "21000\t 9.0260E-01\t [6.094447612762451, 5.830738067626953, 5.048620700836182, 0.9535096883773804, 4.666959285736084, 5.949450492858887, 4.657781600952148, 4.233946800231934, 6.055074691772461, 5.931096076965332, 5.638611793518066, 6.349658489227295, 4.064116954803467, 3.2271087169647217, 4.519199371337891, 4.43492317199707]\n",
            "22000\t 9.0145E-01\t [6.2148661613464355, 5.926650524139404, 5.029903888702393, 0.9423388838768005, 4.6936845779418945, 6.218058109283447, 4.613831520080566, 4.2926764488220215, 6.004427433013916, 5.883625507354736, 5.635831832885742, 6.26455020904541, 4.188230991363525, 3.253755569458008, 4.537134647369385, 4.379964828491211]\n",
            "23000\t 9.0060E-01\t [5.814360618591309, 5.947906017303467, 5.041619777679443, 0.9236677289009094, 4.890835762023926, 6.597973823547363, 4.628032207489014, 4.325787544250488, 5.895212650299072, 5.91402530670166, 5.7421417236328125, 6.572482585906982, 4.234717845916748, 3.352780342102051, 4.55150842666626, 4.45175838470459]\n",
            "24000\t 9.0515E-01\t [6.091891288757324, 5.93460750579834, 5.261722087860107, 0.9401004314422607, 4.832540035247803, 6.911897659301758, 4.7492475509643555, 4.396068096160889, 6.138149261474609, 5.970968246459961, 6.222546100616455, 6.6056413650512695, 4.306660175323486, 3.3231313228607178, 4.6802754402160645, 4.373890399932861]\n"
          ]
        }
      ],
      "source": [
        "D = 2\n",
        "M = 16\n",
        "H = [100,100,100]\n",
        "L = 5.\n",
        "perceptron = Perceptron(D, M, H, L).to(device)\n",
        "I = 25000\n",
        "lr0 = 1e-3\n",
        "weight_decay = 1e-3\n",
        "gamma = 0.1**(1/I)\n",
        "l_list, e_list = perceptron.train_loop(I, lr0=lr0, \n",
        "                                       weight_decay=weight_decay,\n",
        "                                       gamma=gamma)\n"
      ]
    },
    {
      "cell_type": "code",
      "execution_count": 50,
      "metadata": {
        "colab": {
          "base_uri": "https://localhost:8080/",
          "height": 336
        },
        "id": "pjDM_-0H7lPy",
        "outputId": "8987b520-c50f-4004-b17e-afeb7c98c589"
      },
      "outputs": [
        {
          "output_type": "execute_result",
          "data": {
            "text/plain": [
              "Text(0.5, 0, 'Iteration number')"
            ]
          },
          "metadata": {},
          "execution_count": 50
        },
        {
          "output_type": "display_data",
          "data": {
            "text/plain": [
              "<Figure size 900x300 with 2 Axes>"
            ],
            "image/png": "[encoded data removed]"
          },
          "metadata": {}
        }
      ],
      "source": [
        "fig, ax = plt.subplots(1,2,figsize=(9,3))\n",
        "\n",
        "all_colors = list(plt.cm.colors.cnames.keys()) \n",
        "\n",
        "ax[0].plot(l_list, linewidth=0.5, color='black')\n",
        "ax[0].set_yscale('log')\n",
        "ax[0].set_xlim(0,I)\n",
        "# ax[0].grid(axis='y')\n",
        "ax[0].set_ylabel('Loss')\n",
        "ax[0].set_ylim(8.5e-1,1.2)\n",
        "ax[0].set_xlabel('Iteration number')\n",
        "\n",
        "for m in range(perceptron.M):\n",
        "  ax[1].plot(np.array(e_list)[:,m], color=all_colors[m], linewidth=0.5)\n",
        "\n",
        "for m in range(M//4):\n",
        "  ax[1].axhline(y=D*(1/2 + m), color='black', linestyle='--', linewidth=1)\n",
        "\n",
        "ax[1].set_xlim(0,I)\n",
        "ax[1].set_ylim(0,12)\n",
        "# ax[1].grid()\n",
        "ax[1].set_ylabel('Energy')\n",
        "ax[1].set_xlabel('Iteration number')\n",
        "# ax[1].set_yscale('log')\n"
      ]
    },
    {
      "cell_type": "code",
      "source": [
        "plt.plot(np.array(e_list)[:,0])"
      ],
      "metadata": {
        "colab": {
          "base_uri": "https://localhost:8080/",
          "height": 447
        },
        "id": "DNyrAy1wko-P",
        "outputId": "2f0736a9-bfda-4ce8-87aa-e6d55312e23a"
      },
      "execution_count": 40,
      "outputs": [
        {
          "output_type": "execute_result",
          "data": {
            "text/plain": [
              "[<matplotlib.lines.Line2D at 0x7fe6aef29a90>]"
            ]
          },
          "metadata": {},
          "execution_count": 40
        },
        {
          "output_type": "display_data",
          "data": {
            "text/plain": [
              "<Figure size 640x480 with 1 Axes>"
            ],
            "image/png": "[encoded data removed]"
          },
          "metadata": {}
        }
      ]
    },
    {
      "cell_type": "code",
      "source": [
        "c[0]"
      ],
      "metadata": {
        "colab": {
          "base_uri": "https://localhost:8080/",
          "height": 35
        },
        "id": "WsSMxJq-kd6V",
        "outputId": "0f18d3c9-94ec-4d99-a371-3faf3027073c"
      },
      "execution_count": 33,
      "outputs": [
        {
          "output_type": "execute_result",
          "data": {
            "text/plain": [
              "'grey'"
            ],
            "application/vnd.google.colaboratory.intrinsic+json": {
              "type": "string"
            }
          },
          "metadata": {},
          "execution_count": 33
        }
      ]
    },
    {
      "cell_type": "code",
      "source": [
        "fv\n",
        "ddc"
      ],
      "metadata": {
        "id": "Je8JYwmKew0n"
      },
      "execution_count": null,
      "outputs": []
    },
    {
      "cell_type": "code",
      "source": [],
      "metadata": {
        "id": "fZjWIn_Sew4n"
      },
      "execution_count": null,
      "outputs": []
    },
    {
      "cell_type": "code",
      "source": [],
      "metadata": {
        "id": "dHAPvLKHew9u"
      },
      "execution_count": null,
      "outputs": []
    },
    {
      "cell_type": "code",
      "source": [],
      "metadata": {
        "id": "yggT9kW8exB7"
      },
      "execution_count": null,
      "outputs": []
    },
    {
      "cell_type": "code",
      "execution_count": null,
      "metadata": {
        "colab": {
          "base_uri": "https://localhost:8080/",
          "height": 428
        },
        "id": "v1DhKF-BueIt",
        "outputId": "e6ed01cc-c3a2-4d18-f860-efd094a28d36"
      },
      "outputs": [
        {
          "name": "stdout",
          "output_type": "stream",
          "text": [
            "cuda:0\n",
            "cuda:0\n",
            "cuda:0\n",
            "cuda:0\n"
          ]
        },
        {
          "ename": "RuntimeError",
          "evalue": "ignored",
          "output_type": "error",
          "traceback": [
            "\u001b[0;31m---------------------------------------------------------------------------\u001b[0m",
            "\u001b[0;31mRuntimeError\u001b[0m                              Traceback (most recent call last)",
            "\u001b[0;32m<ipython-input-30-02478d0c113b>\u001b[0m in \u001b[0;36m<cell line: 16>\u001b[0;34m()\u001b[0m\n\u001b[1;32m     14\u001b[0m \u001b[0ma\u001b[0m \u001b[0;34m=\u001b[0m \u001b[0mperceptron\u001b[0m\u001b[0;34m.\u001b[0m\u001b[0mamplitude\u001b[0m\u001b[0;34m(\u001b[0m\u001b[0mx\u001b[0m\u001b[0;34m)\u001b[0m\u001b[0;34m\u001b[0m\u001b[0;34m\u001b[0m\u001b[0m\n\u001b[1;32m     15\u001b[0m \u001b[0mprint\u001b[0m\u001b[0;34m(\u001b[0m\u001b[0ma\u001b[0m\u001b[0;34m.\u001b[0m\u001b[0mdevice\u001b[0m\u001b[0;34m)\u001b[0m\u001b[0;34m\u001b[0m\u001b[0;34m\u001b[0m\u001b[0m\n\u001b[0;32m---> 16\u001b[0;31m \u001b[0mag\u001b[0m \u001b[0;34m=\u001b[0m \u001b[0mperceptron\u001b[0m\u001b[0;34m.\u001b[0m\u001b[0mamplitude_gradient\u001b[0m\u001b[0;34m(\u001b[0m\u001b[0mx\u001b[0m\u001b[0;34m)\u001b[0m\u001b[0;34m\u001b[0m\u001b[0;34m\u001b[0m\u001b[0m\n\u001b[0m\u001b[1;32m     17\u001b[0m \u001b[0mprint\u001b[0m\u001b[0;34m(\u001b[0m\u001b[0mag\u001b[0m\u001b[0;34m.\u001b[0m\u001b[0mdevice\u001b[0m\u001b[0;34m)\u001b[0m\u001b[0;34m\u001b[0m\u001b[0;34m\u001b[0m\u001b[0m\n\u001b[1;32m     18\u001b[0m \u001b[0mal\u001b[0m \u001b[0;34m=\u001b[0m \u001b[0mperceptron\u001b[0m\u001b[0;34m.\u001b[0m\u001b[0mamplitude_laplacian\u001b[0m\u001b[0;34m(\u001b[0m\u001b[0mx\u001b[0m\u001b[0;34m)\u001b[0m\u001b[0;34m\u001b[0m\u001b[0;34m\u001b[0m\u001b[0m\n",
            "\u001b[0;32m<ipython-input-29-73af9bd721b1>\u001b[0m in \u001b[0;36mamplitude_gradient\u001b[0;34m(self, x)\u001b[0m\n\u001b[1;32m    102\u001b[0m       \u001b[0;31m# first term\u001b[0m\u001b[0;34m\u001b[0m\u001b[0;34m\u001b[0m\u001b[0m\n\u001b[1;32m    103\u001b[0m       \u001b[0ma\u001b[0m \u001b[0;34m=\u001b[0m \u001b[0mtorch\u001b[0m\u001b[0;34m.\u001b[0m\u001b[0mones\u001b[0m\u001b[0;34m(\u001b[0m\u001b[0;34m(\u001b[0m\u001b[0mx\u001b[0m\u001b[0;34m.\u001b[0m\u001b[0mshape\u001b[0m\u001b[0;34m[\u001b[0m\u001b[0;36m0\u001b[0m\u001b[0;34m]\u001b[0m\u001b[0;34m,\u001b[0m \u001b[0mself\u001b[0m\u001b[0;34m.\u001b[0m\u001b[0mM\u001b[0m\u001b[0;34m)\u001b[0m\u001b[0;34m)\u001b[0m\u001b[0;34m\u001b[0m\u001b[0;34m\u001b[0m\u001b[0m\n\u001b[0;32m--> 104\u001b[0;31m       \u001b[0ma\u001b[0m \u001b[0;34m=\u001b[0m \u001b[0mtorch\u001b[0m\u001b[0;34m.\u001b[0m\u001b[0mmul\u001b[0m\u001b[0;34m(\u001b[0m\u001b[0ma\u001b[0m\u001b[0;34m,\u001b[0m \u001b[0;36m1\u001b[0m \u001b[0;34m/\u001b[0m \u001b[0mtorch\u001b[0m\u001b[0;34m.\u001b[0m\u001b[0msum\u001b[0m\u001b[0;34m(\u001b[0m\u001b[0ms\u001b[0m\u001b[0;34m**\u001b[0m\u001b[0;36m2\u001b[0m\u001b[0;34m,\u001b[0m \u001b[0maxis\u001b[0m\u001b[0;34m=\u001b[0m\u001b[0;36m0\u001b[0m\u001b[0;34m)\u001b[0m\u001b[0;34m.\u001b[0m\u001b[0mto\u001b[0m\u001b[0;34m(\u001b[0m\u001b[0mdevice\u001b[0m\u001b[0;34m)\u001b[0m\u001b[0;34m)\u001b[0m\u001b[0;34m\u001b[0m\u001b[0;34m\u001b[0m\u001b[0m\n\u001b[0m\u001b[1;32m    105\u001b[0m       \u001b[0ma\u001b[0m \u001b[0;34m=\u001b[0m \u001b[0mtorch\u001b[0m\u001b[0;34m.\u001b[0m\u001b[0mmul\u001b[0m\u001b[0;34m(\u001b[0m\u001b[0ma\u001b[0m\u001b[0;34m.\u001b[0m\u001b[0mt\u001b[0m\u001b[0;34m(\u001b[0m\u001b[0;34m)\u001b[0m\u001b[0;34m,\u001b[0m \u001b[0;34m-\u001b[0m\u001b[0;36m2\u001b[0m \u001b[0;34m*\u001b[0m \u001b[0mx\u001b[0m\u001b[0;34m[\u001b[0m\u001b[0;34m:\u001b[0m\u001b[0;34m,\u001b[0m\u001b[0md\u001b[0m\u001b[0;34m]\u001b[0m \u001b[0;34m/\u001b[0m \u001b[0mself\u001b[0m\u001b[0;34m.\u001b[0m\u001b[0mL\u001b[0m\u001b[0;34m**\u001b[0m\u001b[0;36m2\u001b[0m \u001b[0;34m*\u001b[0m \u001b[0mmask\u001b[0m\u001b[0;34m)\u001b[0m\u001b[0;34m.\u001b[0m\u001b[0mt\u001b[0m\u001b[0;34m(\u001b[0m\u001b[0;34m)\u001b[0m\u001b[0;34m\u001b[0m\u001b[0;34m\u001b[0m\u001b[0m\n\u001b[1;32m    106\u001b[0m       \u001b[0;31m# second term\u001b[0m\u001b[0;34m\u001b[0m\u001b[0;34m\u001b[0m\u001b[0m\n",
            "\u001b[0;31mRuntimeError\u001b[0m: Expected all tensors to be on the same device, but found at least two devices, cuda:0 and cpu!"
          ]
        }
      ],
      "source": [
        "# test costructor, forward and amplitude, stack_gradient, stack_laplacian\n",
        "D = 3\n",
        "M = 5\n",
        "H = [D, 2*D, 3*D]\n",
        "L = 5.\n",
        "perceptron = Perceptron(D, M, H, L).to(device)\n",
        "B = 10000\n",
        "x = torch.normal(mean=0., std=L/2, size=(B, D)).to(device)\n",
        "print(x.device)\n",
        "sg = perceptron.stack_gradient(x)\n",
        "print(sg.device)\n",
        "sl = perceptron.stack_laplacian(x)\n",
        "print(sl.device)\n",
        "a = perceptron.amplitude(x)\n",
        "print(a.device)\n",
        "ag = perceptron.amplitude_gradient(x)\n",
        "print(ag.device)\n",
        "al = perceptron.amplitude_laplacian(x)\n",
        "print(al.device)\n",
        "y = perceptron(x)\n",
        "print(y.device)\n",
        "g = perceptron.gradient(x)\n",
        "print(g.device)\n",
        "l = perceptron.laplacian(x)\n",
        "print(l.device)\n",
        "print(perceptron.energies(x, 0., L/2).device)"
      ]
    },
    {
      "cell_type": "code",
      "execution_count": null,
      "metadata": {
        "id": "vturVDD8JCsG"
      },
      "outputs": [],
      "source": []
    },
    {
      "cell_type": "code",
      "execution_count": null,
      "metadata": {
        "id": "gDQb005oJCwR"
      },
      "outputs": [],
      "source": []
    },
    {
      "cell_type": "code",
      "execution_count": null,
      "metadata": {
        "id": "dLCsIdvvJC0d"
      },
      "outputs": [],
      "source": []
    },
    {
      "cell_type": "code",
      "execution_count": null,
      "metadata": {
        "id": "NxsFQesDJC3k"
      },
      "outputs": [],
      "source": []
    },
    {
      "cell_type": "code",
      "execution_count": null,
      "metadata": {
        "id": "pn5JWDHnJC7A"
      },
      "outputs": [],
      "source": []
    },
    {
      "cell_type": "code",
      "execution_count": null,
      "metadata": {
        "id": "AeGVevYXJC-k"
      },
      "outputs": [],
      "source": []
    },
    {
      "cell_type": "code",
      "execution_count": null,
      "metadata": {
        "colab": {
          "base_uri": "https://localhost:8080/"
        },
        "id": "AyYP8eTOqi3Y",
        "outputId": "cc365aba-01ff-4a6f-8ee3-527d7e1346d6"
      },
      "outputs": [
        {
          "data": {
            "text/plain": [
              "(0.6759825348854065,\n",
              " [7.858370304107666,\n",
              "  7.779535293579102,\n",
              "  6.816428184509277,\n",
              "  12.6932954788208,\n",
              "  8.333465576171875])"
            ]
          },
          "execution_count": 48,
          "metadata": {},
          "output_type": "execute_result"
        }
      ],
      "source": [
        "optimizer = torch.optim.Adam(params=list(perceptron.parameters()), lr=1e-3, weight_decay=1e-3)\n",
        "scheduler = torch.optim.lr_scheduler.ExponentialLR(optimizer, gamma=0.9999)\n",
        "\n",
        "perceptron.train_step(optimizer, scheduler, nn.MSELoss(), 100, 0, L/2, 1, 1)"
      ]
    },
    {
      "cell_type": "code",
      "execution_count": null,
      "metadata": {
        "id": "EcT46NHzO16N"
      },
      "outputs": [],
      "source": [
        "d = 2\n",
        "y = x\n",
        "dydx = 1 / torch.cosh(perceptron.stack[0](y)) * perceptron.stack[0].weight[:,d]\n",
        "y = perceptron.stack[1](perceptron.stack[0](y))\n",
        "dydx =  1 / torch.cosh(perceptron.stack[2](y)) * torch.matmul(dydx, perceptron.stack[2].weight.t())"
      ]
    },
    {
      "cell_type": "code",
      "execution_count": null,
      "metadata": {
        "colab": {
          "base_uri": "https://localhost:8080/"
        },
        "id": "bAsa1q0pl-wU",
        "outputId": "3b9c713d-1210-458b-b589-2d25eab8bbe0"
      },
      "outputs": [
        {
          "data": {
            "text/plain": [
              "torch.Size([10, 7])"
            ]
          },
          "execution_count": 157,
          "metadata": {},
          "output_type": "execute_result"
        }
      ],
      "source": [
        "a = torch.rand(10,6)\n",
        "b = torch.rand(7,6)\n",
        "ab = torch.matmul(a, b.t())\n",
        "ab.shape"
      ]
    },
    {
      "cell_type": "code",
      "execution_count": null,
      "metadata": {
        "colab": {
          "base_uri": "https://localhost:8080/"
        },
        "id": "jayXZeG9l-1u",
        "outputId": "55abf277-18f1-4769-ac47-877a415c60a6"
      },
      "outputs": [
        {
          "data": {
            "text/plain": [
              "Tanh()"
            ]
          },
          "execution_count": 164,
          "metadata": {},
          "output_type": "execute_result"
        }
      ],
      "source": [
        "perceptron.stack[7]"
      ]
    },
    {
      "cell_type": "code",
      "execution_count": null,
      "metadata": {
        "colab": {
          "base_uri": "https://localhost:8080/",
          "height": 167
        },
        "id": "WC8Um3rHllSj",
        "outputId": "15ce1056-5ba4-4fba-e796-5d326938d5fc"
      },
      "outputs": [
        {
          "ename": "RuntimeError",
          "evalue": "ignored",
          "output_type": "error",
          "traceback": [
            "\u001b[0;31m---------------------------------------------------------------------------\u001b[0m",
            "\u001b[0;31mRuntimeError\u001b[0m                              Traceback (most recent call last)",
            "\u001b[0;32m<ipython-input-154-a71ec7a6ccc9>\u001b[0m in \u001b[0;36m<cell line: 1>\u001b[0;34m()\u001b[0m\n\u001b[0;32m----> 1\u001b[0;31m \u001b[0mtorch\u001b[0m\u001b[0;34m.\u001b[0m\u001b[0mmul\u001b[0m\u001b[0;34m(\u001b[0m\u001b[0mtorch\u001b[0m\u001b[0;34m.\u001b[0m\u001b[0mrand\u001b[0m\u001b[0;34m(\u001b[0m\u001b[0;36m10\u001b[0m\u001b[0;34m,\u001b[0m\u001b[0;36m6\u001b[0m\u001b[0;34m)\u001b[0m\u001b[0;34m.\u001b[0m\u001b[0mt\u001b[0m\u001b[0;34m(\u001b[0m\u001b[0;34m)\u001b[0m\u001b[0;34m,\u001b[0m \u001b[0mtorch\u001b[0m\u001b[0;34m.\u001b[0m\u001b[0mrand\u001b[0m\u001b[0;34m(\u001b[0m\u001b[0;36m7\u001b[0m\u001b[0;34m,\u001b[0m\u001b[0;36m6\u001b[0m\u001b[0;34m)\u001b[0m\u001b[0;34m)\u001b[0m\u001b[0;34m\u001b[0m\u001b[0;34m\u001b[0m\u001b[0m\n\u001b[0m",
            "\u001b[0;31mRuntimeError\u001b[0m: The size of tensor a (10) must match the size of tensor b (6) at non-singleton dimension 1"
          ]
        }
      ],
      "source": [
        "torch.mul(torch.rand(10,6).t(), torch.rand(7,6))"
      ]
    },
    {
      "cell_type": "code",
      "execution_count": null,
      "metadata": {
        "colab": {
          "base_uri": "https://localhost:8080/"
        },
        "id": "9jNxY8wdla3G",
        "outputId": "16d70974-121c-44e1-d66c-8e7ed191241f"
      },
      "outputs": [
        {
          "data": {
            "text/plain": [
              "(torch.Size([10, 6]), torch.Size([7, 6]))"
            ]
          },
          "execution_count": 149,
          "metadata": {},
          "output_type": "execute_result"
        }
      ],
      "source": [
        "dydx.shape, perceptron.stack[2].weight.shape"
      ]
    },
    {
      "cell_type": "code",
      "execution_count": null,
      "metadata": {
        "colab": {
          "base_uri": "https://localhost:8080/",
          "height": 167
        },
        "id": "6aKTQvuaiXGW",
        "outputId": "06079b69-5f35-40a2-fe09-fc92dd34d23e"
      },
      "outputs": [
        {
          "ename": "RuntimeError",
          "evalue": "ignored",
          "output_type": "error",
          "traceback": [
            "\u001b[0;31m---------------------------------------------------------------------------\u001b[0m",
            "\u001b[0;31mRuntimeError\u001b[0m                              Traceback (most recent call last)",
            "\u001b[0;32m<ipython-input-150-7485983c9c7a>\u001b[0m in \u001b[0;36m<cell line: 1>\u001b[0;34m()\u001b[0m\n\u001b[0;32m----> 1\u001b[0;31m \u001b[0;34m(\u001b[0m\u001b[0;36m1\u001b[0m \u001b[0;34m/\u001b[0m \u001b[0mtorch\u001b[0m\u001b[0;34m.\u001b[0m\u001b[0mcosh\u001b[0m\u001b[0;34m(\u001b[0m\u001b[0mperceptron\u001b[0m\u001b[0;34m.\u001b[0m\u001b[0mstack\u001b[0m\u001b[0;34m[\u001b[0m\u001b[0;36m2\u001b[0m\u001b[0;34m]\u001b[0m\u001b[0;34m(\u001b[0m\u001b[0my\u001b[0m\u001b[0;34m)\u001b[0m\u001b[0;34m)\u001b[0m\u001b[0;34m)\u001b[0m\u001b[0;34m.\u001b[0m\u001b[0mshape\u001b[0m\u001b[0;34m,\u001b[0m \u001b[0mtorch\u001b[0m\u001b[0;34m.\u001b[0m\u001b[0msum\u001b[0m\u001b[0;34m(\u001b[0m\u001b[0mdydx\u001b[0m \u001b[0;34m*\u001b[0m \u001b[0mperceptron\u001b[0m\u001b[0;34m.\u001b[0m\u001b[0mstack\u001b[0m\u001b[0;34m[\u001b[0m\u001b[0;36m2\u001b[0m\u001b[0;34m]\u001b[0m\u001b[0;34m.\u001b[0m\u001b[0mweight\u001b[0m\u001b[0;34m.\u001b[0m\u001b[0mt\u001b[0m\u001b[0;34m(\u001b[0m\u001b[0;34m)\u001b[0m\u001b[0;34m,\u001b[0m \u001b[0maxis\u001b[0m\u001b[0;34m=\u001b[0m\u001b[0;36m1\u001b[0m\u001b[0;34m)\u001b[0m\u001b[0;34m.\u001b[0m\u001b[0mshape\u001b[0m\u001b[0;34m\u001b[0m\u001b[0;34m\u001b[0m\u001b[0m\n\u001b[0m",
            "\u001b[0;31mRuntimeError\u001b[0m: The size of tensor a (6) must match the size of tensor b (7) at non-singleton dimension 1"
          ]
        }
      ],
      "source": [
        "(1 / torch.cosh(perceptron.stack[2](y))).shape, torch.sum(dydx * perceptron.stack[2].weight.t(), axis=1).shape"
      ]
    },
    {
      "cell_type": "code",
      "execution_count": null,
      "metadata": {
        "colab": {
          "base_uri": "https://localhost:8080/"
        },
        "id": "nywlzvhfO183",
        "outputId": "c25ba8c2-cd01-4551-824f-f432e8a2da2a"
      },
      "outputs": [
        {
          "data": {
            "text/plain": [
              "torch.Size([10, 10])"
            ]
          },
          "execution_count": 137,
          "metadata": {},
          "output_type": "execute_result"
        }
      ],
      "source": [
        "(1 / torch.cosh(perceptron.stack[0](y))).shape"
      ]
    },
    {
      "cell_type": "code",
      "execution_count": null,
      "metadata": {
        "id": "mudQTvbXO2CM"
      },
      "outputs": [],
      "source": []
    },
    {
      "cell_type": "code",
      "execution_count": null,
      "metadata": {
        "colab": {
          "base_uri": "https://localhost:8080/"
        },
        "id": "6IJAbIcTueNs",
        "outputId": "d679154f-7381-4661-b001-13cd679bdcbd"
      },
      "outputs": [
        {
          "data": {
            "text/plain": [
              "(torch.Size([10, 5]), torch.Size([10]))"
            ]
          },
          "execution_count": 76,
          "metadata": {},
          "output_type": "execute_result"
        }
      ],
      "source": []
    },
    {
      "cell_type": "code",
      "execution_count": null,
      "metadata": {
        "colab": {
          "base_uri": "https://localhost:8080/"
        },
        "id": "l6Qdf6rLueSA",
        "outputId": "ecf08438-d933-41f1-f6ef-ebb79e9f5c1e"
      },
      "outputs": [
        {
          "data": {
            "text/plain": [
              "torch.Size([10, 5])"
            ]
          },
          "execution_count": 84,
          "metadata": {},
          "output_type": "execute_result"
        }
      ],
      "source": []
    },
    {
      "cell_type": "code",
      "execution_count": null,
      "metadata": {
        "id": "d7kMIQCwueVt"
      },
      "outputs": [],
      "source": []
    },
    {
      "cell_type": "code",
      "execution_count": null,
      "metadata": {
        "id": "gwKJaFJ6Wrk2"
      },
      "outputs": [],
      "source": [
        "#!/usr/bin/env python3\n",
        "# -*- coding: utf-8 -*-\n",
        "\"\"\"\n",
        "Created on Sat Mar  4 14:35:53 2023\n",
        "\n",
        "@author: kozlov\n",
        "\"\"\"\n",
        "\n",
        "import numpy as np  # to work with arrays\n",
        "import matplotlib.pyplot as plt  # to make figures\n",
        "\n",
        "# PyTorch\n",
        "import torch\n",
        "from torch import nn\n",
        "\n",
        "\n",
        "def f0(x):\n",
        "    return torch.tanh(x)\n",
        "\n",
        "\n",
        "def f1(x):\n",
        "    return 1/torch.cosh(x)**2\n",
        "\n",
        "\n",
        "def f2(x):\n",
        "    return -2*torch.sinh(x)/torch.cosh(x)**3\n",
        "\n",
        "\n",
        "class tPerceptron(nn.Module):\n",
        "    def __init__(self, L, N_h, D, N, std):\n",
        "        self.D = D  # dimension of the task\n",
        "        self.N = N  # number of the most excided state\n",
        "        self.L = L  # depth\n",
        "        self.N_h = N_h  # width\n",
        "        self.f = f0  # activation function\n",
        "        self.f1 = f1  # first derivative\n",
        "        self.f2 = f2  # second derivative\n",
        "\n",
        "        super(tPerceptron, self).__init__()\n",
        "\n",
        "        self.std = std #nn.Parameter(data=torch.Tensor([std]), requires_grad=True)\n",
        "\n",
        "        self.stack = nn.Sequential()\n",
        "        for i in range(self.L + 1):\n",
        "            if (i == 0):\n",
        "                self.stack.append(nn.Linear(D, N_h))\n",
        "            elif (i == self.L):\n",
        "                self.stack.append(nn.Linear(N_h, N + 1))\n",
        "            else:\n",
        "                self.stack.append(nn.Linear(N_h, N_h))\n",
        "            self.stack.append(nn.Tanh())\n",
        "\n",
        "        self.h = [None] * (self.L + 1)  # outputs of the layers\n",
        "\n",
        "    def forward(self, x):\n",
        "        S = x.shape[0]  # Size of the sample\n",
        "        assert x.shape[1] == self.D, 'Wrong shape of the matrix X'\n",
        "\n",
        "        for i in range(self.L + 1):\n",
        "            if i == 0:\n",
        "                self.h[i] = self.stack[2*i+1](\n",
        "                    self.stack[2*i](x))\n",
        "            else:\n",
        "                self.h[i] = self.stack[2*i+1](\n",
        "                    self.stack[2*i](self.h[i-1]))\n",
        "\n",
        "        assert self.h[self.L].shape[0] == S, 'Wrong shape of the h[-1]'\n",
        "        assert self.h[self.L].shape[1] == \\\n",
        "            self.N + 1, 'Wrong shape of the h[-1]'\n",
        "\n",
        "        # Normalization each wavefunction\n",
        "        res = torch.ones_like(self.h[-1])\n",
        "        for i in range(self.N + 1):\n",
        "            res[:, i] = self.h[-1][:, i] \\\n",
        "                * torch.exp(-torch.sum(x**2 / self.std**2, axis=1))\n",
        "\n",
        "        return res\n",
        "\n",
        "    def grad(self, x):\n",
        "        S = x.shape[0]  # Size of the sample\n",
        "        assert x.shape[1] == self.D, 'Wrong shape of the matrix X'\n",
        "\n",
        "        _ = self.forward(x)  # computes outputs of the layers\n",
        "\n",
        "        res = torch.zeros(S, self.N + 1, self.D)  # result\n",
        "\n",
        "        for t in range(self.D):\n",
        "            dh_dx = torch.zeros(self.D)\n",
        "            dh_dx[t] = 1\n",
        "\n",
        "            for i in range(self.L + 1):\n",
        "                a = self.stack[2*i].weight\n",
        "                b = self.stack[2*i].bias\n",
        "                if i == 0:\n",
        "                    dh_dx = self.f1(x @ a.t() + b) \\\n",
        "                        * (dh_dx @ a.t())\n",
        "                else:\n",
        "                    dh_dx = self.f1(self.h[i-1] @ a.t() + b) \\\n",
        "                        * (dh_dx @ a.t())\n",
        "\n",
        "            assert dh_dx.shape[0] == S\n",
        "            assert dh_dx.shape[1] == self.N + 1\n",
        "\n",
        "            for i in range(self.N + 1):\n",
        "                dh_dx[:, i] = dh_dx[:, i] \\\n",
        "                    * torch.exp(-torch.sum(x**2 / self.std**2, axis=1))\n",
        "\n",
        "            for i in range(self.N + 1):\n",
        "                dh_dx[:, i] = dh_dx[:, i] + self.h[-1][:, i] \\\n",
        "                    * torch.exp(-torch.sum(x**2 / self.std**2, axis=1)) \\\n",
        "                    * (-2 * x[:, t] / self.std**2)\n",
        "\n",
        "            res[:, :, t] = dh_dx\n",
        "\n",
        "        return res  # / torch.linalg.vector_norm(self.h[-1], axis=0)\n",
        "\n",
        "    def lap(self, x):\n",
        "        S = x.shape[0]  # Size of the sample\n",
        "        assert x.shape[1] == self.D, 'Wrong shape of the matrix X'\n",
        "\n",
        "        _ = self.forward(x)  # computes outputs of the layers\n",
        "        \n",
        "        res = torch.zeros(S, self.N + 1)\n",
        "        \n",
        "        for t in range(self.D):\n",
        "            dh_dx = torch.zeros(self.D) #\n",
        "            dh_dx[t] = 1 # \n",
        "            \n",
        "            d2h_dx2 =  torch.zeros(self.D) #\n",
        "            \n",
        "            for i in range(self.L + 1):\n",
        "                a = self.stack[2*i].weight\n",
        "                b = self.stack[2*i].bias\n",
        "                \n",
        "                if i == 0:\n",
        "                    d2h_dx2 = self.f2(x @ a.t() + b) * (dh_dx @ a.t())**2\n",
        "                else:\n",
        "                    d2h_dx2 = self.f2(self.h[i-1] @ a.t() + b) \\\n",
        "                        * (dh_dx @ a.t())**2\\\n",
        "                    + self.f1(self.h[i-1] @ a.t() + b) * (d2h_dx2 @ a.t())\n",
        "\n",
        "                if i == 0:\n",
        "                    dh_dx = self.f1(x @ a.t() + b) \\\n",
        "                        * (dh_dx @ a.t())\n",
        "                else:\n",
        "                    dh_dx = self.f1(self.h[i-1] @ a.t() + b) \\\n",
        "                        * (dh_dx @ a.t())\n",
        "                \n",
        "            assert dh_dx.shape[0] == S\n",
        "            assert dh_dx.shape[1] == self.N + 1\n",
        "                \n",
        "            assert d2h_dx2.shape[0] == S\n",
        "            assert d2h_dx2.shape[1] == self.N + 1\n",
        "            \n",
        "            for j in range(self.N + 1):\n",
        "                d2h_dx2[:, j] = d2h_dx2[:, j] \\\n",
        "                    * torch.exp(-torch.sum(x**2 / self.std**2, axis=1)) \\\n",
        "                    + 2 * dh_dx[:, j] \\\n",
        "                        * torch.exp(-torch.sum(x**2 / self.std**2, axis=1)) \\\n",
        "                        * (- 2 * x[:, t] / self.std**2) \\\n",
        "                    + self.h[-1][:, j] \\\n",
        "                        * torch.exp(-torch.sum(x**2 / self.std**2, axis=1)) \\\n",
        "                        * (-2 / self.std**2)\n",
        "\n",
        "            res = res + d2h_dx2\n",
        "\n",
        "        return res\n",
        "\n",
        "    def energy(self, x, V, W):\n",
        "        S = x.shape[0]  # Size of the sample\n",
        "        assert x.shape[1] == self.D, 'Wrong shape of the matrix X'\n",
        "\n",
        "        assert V(x).shape[0] == S\n",
        "\n",
        "        res = torch.empty(self.N + 1)\n",
        "\n",
        "        psi = self.forward(x)\n",
        "        lap_psi = self.lap(x)\n",
        "\n",
        "        for i in range(self.N + 1):\n",
        "            res[i] = torch.mean((- 1 / 2 * psi[:, i] * lap_psi[:, i]\n",
        "                                + psi[:, i]**2 * V(x)) / W(x)) \\\n",
        "                / torch.mean(psi[:, i]**2 / W(x))\n",
        "\n",
        "        return res\n",
        "\n",
        "\n",
        "def train_step(perceptron, optimizer, scheduler, loss_fn, S, mean, std,\n",
        "               alpha, beta):\n",
        "    # Create an uninitialized tensor of size SxD\n",
        "    x = torch.empty(S, perceptron.D)\n",
        "\n",
        "    # Normal distributed x\n",
        "    x.normal_(mean, std)\n",
        "\n",
        "    # Potential\n",
        "    V = lambda y: torch.linalg.vector_norm(y, axis=1)**2 / 2\n",
        "\n",
        "    # Weight function\n",
        "    W = lambda y: 1 / (std * np.sqrt(2 * np.pi)) \\\n",
        "        * torch.exp(-1/2*torch.mean((y - mean)**2 / std**2, axis=1))\n",
        "\n",
        "    # Residual\n",
        "    residual = torch.empty(perceptron.N + 1)\n",
        "    e = perceptron.energy(x, V, W)\n",
        "    psi = perceptron.forward(x)\n",
        "    lap_psi = perceptron.lap(x)\n",
        "    for i in range(perceptron.N + 1):\n",
        "        residual[i] = (i+1) * (torch.mean((- 1 / 2 * psi[:, i] * lap_psi[:, i]\n",
        "                                            + psi[:, i]**2 * V(x)) / W(x))) / torch.mean(psi[:, i]**2 / W(x))\n",
        "                                            # - e[i] * psi[:, i]**2) / W(x))) \\\n",
        "            # / torch.mean(psi[:, i]**2 / W(x))\n",
        "\n",
        "    # Orthonormalization\n",
        "    a = torch.empty(perceptron.N + 1)\n",
        "    for i in range(perceptron.N + 1):\n",
        "        a[i] = (torch.mean(psi[:, i]**2 / W(x)) - torch.tensor([1.0]))**2\n",
        "\n",
        "    b = torch.zeros(perceptron.N + 1, perceptron.N + 1)\n",
        "    for n in range(1, perceptron.N + 1):\n",
        "        for m in range(0, n):\n",
        "            b[n, m] = torch.mean(psi[:, n] * psi[:, m] / W(x))**2\n",
        "\n",
        "    # Loss function\n",
        "    loss = loss_fn(torch.mean(residual)\n",
        "                   + alpha * torch.sum(a)\n",
        "                   + beta * torch.sum(b), torch.tensor(0.0))\n",
        "\n",
        "    # Backpropagation\n",
        "    optimizer.zero_grad()\n",
        "    loss.backward()\n",
        "    optimizer.step()\n",
        "    scheduler.step()\n",
        "\n",
        "    return loss.item(), perceptron.energy(x, V, W).tolist()\n",
        "\n",
        "\n",
        "def train_loop(perceptron, N_iter):\n",
        "    losses = np.zeros(N_iter)\n",
        "    es = np.zeros((N_iter, perceptron.N + 1))\n",
        "\n",
        "    # Training parameters\n",
        "    Ss = 2000  # np.logspace(3, 4, N_iter, dtype=int)\n",
        "\n",
        "    params = list(perceptron.parameters())\n",
        "    # params.extend(perceptron.std)\n",
        "    optimizer = torch.optim.Adam(params=params, lr=1e-3, weight_decay=1e-3)\n",
        "    scheduler = torch.optim.lr_scheduler.ExponentialLR(optimizer, gamma=0.9999)\n",
        "    loss_fn = nn.MSELoss()\n",
        "\n",
        "    print(\"Step number, Loss, Energies\")\n",
        "\n",
        "    for i in range(N_iter):\n",
        "        losses[i], es[i] = train_step(perceptron, optimizer, scheduler,\n",
        "                                      loss_fn, Ss, 0.0, 2.25, 1.0, 1.0)\n",
        "\n",
        "        if i % 500 == 0:\n",
        "            print(f\"{i}\\t{losses[i]:6.4g}\\t{es[i]}\")\n",
        "\n",
        "    return losses, es"
      ]
    },
    {
      "cell_type": "code",
      "execution_count": null,
      "metadata": {
        "colab": {
          "base_uri": "https://localhost:8080/"
        },
        "id": "UwFECQ8M9-LI",
        "outputId": "065d509e-c449-4c35-b0f4-6c709c452f97"
      },
      "outputs": [
        {
          "data": {
            "text/plain": [
              "torch.optim.adam.Adam"
            ]
          },
          "execution_count": 232,
          "metadata": {},
          "output_type": "execute_result"
        }
      ],
      "source": [
        "type(torch.optim.Adam(params=list(perceptron.parameters()), lr=1e-3, weight_decay=1e-3))"
      ]
    },
    {
      "cell_type": "code",
      "execution_count": null,
      "metadata": {
        "colab": {
          "base_uri": "https://localhost:8080/",
          "height": 167
        },
        "id": "VOxBKbyU95_J",
        "outputId": "8aab37ac-155e-4e7b-e9da-0734a435eb96"
      },
      "outputs": [
        {
          "ename": "NameError",
          "evalue": "ignored",
          "output_type": "error",
          "traceback": [
            "\u001b[0;31m---------------------------------------------------------------------------\u001b[0m",
            "\u001b[0;31mNameError\u001b[0m                                 Traceback (most recent call last)",
            "\u001b[0;32m<ipython-input-230-fbd38f1fc269>\u001b[0m in \u001b[0;36m<cell line: 1>\u001b[0;34m()\u001b[0m\n\u001b[0;32m----> 1\u001b[0;31m \u001b[0mtorch\u001b[0m\u001b[0;34m.\u001b[0m\u001b[0moptim\u001b[0m\u001b[0;34m.\u001b[0m\u001b[0mlr_scheduler\u001b[0m\u001b[0;34m.\u001b[0m\u001b[0mExponentialLR\u001b[0m\u001b[0;34m(\u001b[0m\u001b[0moptimizer\u001b[0m\u001b[0;34m,\u001b[0m \u001b[0mgamma\u001b[0m\u001b[0;34m=\u001b[0m\u001b[0;36m0.9999\u001b[0m\u001b[0;34m)\u001b[0m\u001b[0;34m\u001b[0m\u001b[0;34m\u001b[0m\u001b[0m\n\u001b[0m",
            "\u001b[0;31mNameError\u001b[0m: name 'optimizer' is not defined"
          ]
        }
      ],
      "source": [
        "torch.optim.lr_scheduler.ExponentialLR(optimizer, gamma=0.9999)"
      ]
    },
    {
      "cell_type": "code",
      "execution_count": null,
      "metadata": {
        "id": "Q07Fo02wzzdn"
      },
      "outputs": [],
      "source": [
        "perceptron = tPerceptron(L=4, N_h=36, D=2, N=0, std=2.25)"
      ]
    },
    {
      "cell_type": "code",
      "execution_count": null,
      "metadata": {
        "colab": {
          "base_uri": "https://localhost:8080/"
        },
        "id": "HhaAugyszzZZ",
        "outputId": "93916599-eed9-4ad5-ff71-d20d58fd696f"
      },
      "outputs": [
        {
          "name": "stdout",
          "output_type": "stream",
          "text": [
            "Step number, Loss, Energies\n",
            "0\t 9.366\t[1.66063821]\n",
            "500\t 1.467\t[1.17119062]\n",
            "1000\t  1.36\t[1.12825847]\n",
            "1500\t 1.314\t[1.12878895]\n",
            "2000\t 1.473\t[1.16766167]\n",
            "2500\t 1.285\t[1.11709142]\n",
            "3000\t 1.378\t[1.13629901]\n",
            "3500\t 1.372\t[1.14500237]\n",
            "4000\t 1.435\t[1.14711392]\n",
            "4500\t 1.351\t[1.12970877]\n",
            "5000\t 1.329\t[1.13227189]\n",
            "5500\t 1.308\t[1.10609925]\n",
            "6000\t 1.271\t[1.09210813]\n",
            "6500\t 1.383\t[1.14872801]\n",
            "7000\t 1.338\t[1.1239351]\n",
            "7500\t 1.405\t[1.14880371]\n",
            "8000\t 1.424\t[1.14317727]\n",
            "8500\t 1.361\t[1.1409241]\n",
            "9000\t 1.312\t[1.11699069]\n",
            "9500\t 1.327\t[1.1315192]\n",
            "10000\t 1.305\t[1.11485398]\n",
            "10500\t 1.443\t[1.15054905]\n",
            "11000\t 1.369\t[1.14190197]\n",
            "11500\t 1.349\t[1.11420012]\n",
            "12000\t 1.294\t[1.10191929]\n",
            "12500\t  1.25\t[1.10546458]\n",
            "13000\t 1.443\t[1.137676]\n",
            "13500\t 1.345\t[1.13484037]\n",
            "14000\t 1.351\t[1.13961744]\n",
            "14500\t 1.347\t[1.13031936]\n",
            "15000\t 1.332\t[1.11831915]\n",
            "15500\t 1.324\t[1.11711872]\n",
            "16000\t 1.321\t[1.12288201]\n",
            "16500\t 1.333\t[1.13459361]\n",
            "17000\t 1.386\t[1.13653111]\n",
            "17500\t 1.244\t[1.08579314]\n",
            "18000\t 1.265\t[1.10146987]\n",
            "18500\t 1.334\t[1.13191295]\n",
            "19000\t 1.358\t[1.13038826]\n",
            "19500\t 1.267\t[1.10099232]\n"
          ]
        }
      ],
      "source": [
        "losses, es = train_loop(perceptron, 20000)"
      ]
    },
    {
      "cell_type": "code",
      "execution_count": null,
      "metadata": {
        "colab": {
          "base_uri": "https://localhost:8080/",
          "height": 282
        },
        "id": "2tUFIaPRzzWd",
        "outputId": "2558bade-6125-4fc9-9779-1347d9741f48"
      },
      "outputs": [
        {
          "data": {
            "text/plain": [
              "[<matplotlib.lines.Line2D at 0x7fb637a8b7f0>]"
            ]
          },
          "execution_count": 208,
          "metadata": {},
          "output_type": "execute_result"
        },
        {
          "data": {
            "image/png": "[encoded data removed]",
            "text/plain": [
              "<Figure size 432x288 with 1 Axes>"
            ]
          },
          "metadata": {},
          "output_type": "display_data"
        }
      ],
      "source": [
        "plt.plot(es[:,0])\n",
        "# plt.yscale('log')"
      ]
    },
    {
      "cell_type": "code",
      "execution_count": null,
      "metadata": {
        "id": "saCQLw8yzzLm"
      },
      "outputs": [],
      "source": []
    },
    {
      "cell_type": "code",
      "execution_count": null,
      "metadata": {
        "id": "EVyqDOKpzzJD"
      },
      "outputs": [],
      "source": []
    },
    {
      "cell_type": "code",
      "execution_count": null,
      "metadata": {
        "id": "nmVoJYqVntbq"
      },
      "outputs": [],
      "source": [
        "def modified_train_loop(perceptrons, N_iter, delta, mean, std, alpha, beta):\n",
        "    losses = np.zeros((N_iter, len(perceptrons)))\n",
        "    es = np.zeros((N_iter, len(perceptrons)))\n",
        "\n",
        "    # Training parameters\n",
        "    Ss = np.logspace(3, 4, N_iter // delta, dtype=int)\n",
        "    optimizers = [torch.optim.Adam(params=perceptrons[i].parameters(), lr=1e-4) \n",
        "      for i in range(len(perceptrons))]\n",
        "    schedulers = [torch.optim.lr_scheduler.ExponentialLR(optimizers[i], gamma=0.999) \n",
        "      for i in range(len(perceptrons))]\n",
        "    loss_fn = nn.MSELoss()\n",
        "\n",
        "    print(\"Step number, Loss, Energies\")\n",
        "\n",
        "    # Potential\n",
        "    V = lambda y: torch.linalg.vector_norm(y, axis=1)**2 / 2\n",
        "\n",
        "    # Weight function\n",
        "    W = lambda y: 1 / (std * np.sqrt(2 * np.pi)) \\\n",
        "        * torch.exp(-1/2*torch.mean((y - mean)**2 / std**2, axis=1))\n",
        "\n",
        "    for i in range(N_iter):\n",
        "      j = i // delta % len(perceptrons)\n",
        "\n",
        "      # Create an uninitialized tensor of size SxD\n",
        "      x = torch.empty(Ss[i // delta], perceptrons[j].D)\n",
        "\n",
        "      # Normal distributed x\n",
        "      x.normal_(mean, std)\n",
        "\n",
        "      e = torch.empty(len(perceptrons))\n",
        "      psi = torch.empty(Ss[i // delta], len(perceptrons))\n",
        "      lap_psi = torch.empty(Ss[i // delta], len(perceptrons))\n",
        "      a = torch.zeros(len(perceptrons))\n",
        "      b = torch.zeros(len(perceptrons), len(perceptrons))\n",
        "      for n in range(len(perceptrons)):\n",
        "          psi[:, n] = perceptrons[n](x).reshape(-1)\n",
        "          lap_psi[:, n] = perceptrons[n].lap(x).reshape(-1)\n",
        "          \n",
        "      for n in range(len(perceptrons)):\n",
        "          e[n] = torch.abs(torch.mean((- 1 / 2 * psi[:, n] * lap_psi[:, n]\n",
        "                                            + psi[:, n]**2 * V(x)) / W(x))) \\\n",
        "                                            / torch.mean(psi[:, n]**2 / W(x))\n",
        "          a[n] = (torch.mean(psi[:, n]**2 / W(x)) - torch.tensor(1.0))**2\n",
        "          if n > 0:\n",
        "              for m in range(0, n):\n",
        "                  b[n, m] = torch.mean(psi[:, n] * psi[:, m] / W(x))**2\n",
        "      # Loss function\n",
        "      loss = loss_fn(torch.mean(e)\n",
        "                   + alpha * torch.sum(a)\n",
        "                   + beta * torch.sum(b), torch.tensor(0.0))\n",
        "      \n",
        "      # Backpropagation\n",
        "      optimizers[j].zero_grad()\n",
        "      loss.backward()\n",
        "      optimizers[j].step()\n",
        "      schedulers[j].step()\n",
        "\n",
        "      if i % delta == 0:\n",
        "          print(f\"{i}\\t{losses[i,:]}\\t{es[i,:]}\")\n",
        "\n",
        "    return losses, es"
      ]
    },
    {
      "cell_type": "code",
      "execution_count": null,
      "metadata": {
        "id": "fanVuXGOXDNr"
      },
      "outputs": [],
      "source": [
        "perceptrons = [tPerceptron(L=2, N_h=10, D=2, N=0, std=2.25), \n",
        "               tPerceptron(L=3, N_h=15, D=2, N=0, std=2.25),\n",
        "               tPerceptron(L=3, N_h=20, D=2, N=0, std=2.25),\n",
        "               tPerceptron(L=3, N_h=25, D=2, N=0, std=2.25)]"
      ]
    },
    {
      "cell_type": "code",
      "execution_count": null,
      "metadata": {
        "colab": {
          "base_uri": "https://localhost:8080/",
          "height": 539
        },
        "id": "GHJj3wLIXFFS",
        "outputId": "ec87a37e-dd8e-4096-d06f-44158587591a"
      },
      "outputs": [
        {
          "name": "stdout",
          "output_type": "stream",
          "text": [
            "Step number, Loss, Energies\n",
            "0\t[0. 0. 0. 0.]\t[0. 0. 0. 0.]\n",
            "100\t[0. 0. 0. 0.]\t[0. 0. 0. 0.]\n",
            "200\t[0. 0. 0. 0.]\t[0. 0. 0. 0.]\n",
            "300\t[0. 0. 0. 0.]\t[0. 0. 0. 0.]\n",
            "400\t[0. 0. 0. 0.]\t[0. 0. 0. 0.]\n",
            "500\t[0. 0. 0. 0.]\t[0. 0. 0. 0.]\n",
            "600\t[0. 0. 0. 0.]\t[0. 0. 0. 0.]\n",
            "700\t[0. 0. 0. 0.]\t[0. 0. 0. 0.]\n",
            "800\t[0. 0. 0. 0.]\t[0. 0. 0. 0.]\n",
            "900\t[0. 0. 0. 0.]\t[0. 0. 0. 0.]\n",
            "1000\t[0. 0. 0. 0.]\t[0. 0. 0. 0.]\n",
            "1100\t[0. 0. 0. 0.]\t[0. 0. 0. 0.]\n"
          ]
        },
        {
          "ename": "KeyboardInterrupt",
          "evalue": "ignored",
          "output_type": "error",
          "traceback": [
            "\u001b[0;31m---------------------------------------------------------------------------\u001b[0m",
            "\u001b[0;31mKeyboardInterrupt\u001b[0m                         Traceback (most recent call last)",
            "\u001b[0;32m<ipython-input-125-43613b10f675>\u001b[0m in \u001b[0;36m<module>\u001b[0;34m\u001b[0m\n\u001b[0;32m----> 1\u001b[0;31m \u001b[0mlosses\u001b[0m\u001b[0;34m,\u001b[0m \u001b[0mes\u001b[0m \u001b[0;34m=\u001b[0m \u001b[0mmodified_train_loop\u001b[0m\u001b[0;34m(\u001b[0m\u001b[0mperceptrons\u001b[0m\u001b[0;34m,\u001b[0m \u001b[0;36m30000\u001b[0m\u001b[0;34m,\u001b[0m \u001b[0;36m100\u001b[0m\u001b[0;34m,\u001b[0m \u001b[0;36m0.0\u001b[0m\u001b[0;34m,\u001b[0m \u001b[0;36m2.25\u001b[0m\u001b[0;34m,\u001b[0m \u001b[0;36m1.0\u001b[0m\u001b[0;34m,\u001b[0m \u001b[0;36m0.1\u001b[0m\u001b[0;34m)\u001b[0m\u001b[0;34m\u001b[0m\u001b[0;34m\u001b[0m\u001b[0m\n\u001b[0m",
            "\u001b[0;32m<ipython-input-123-acc090c36f65>\u001b[0m in \u001b[0;36mmodified_train_loop\u001b[0;34m(perceptrons, N_iter, delta, mean, std, alpha, beta)\u001b[0m\n\u001b[1;32m     36\u001b[0m       \u001b[0;32mfor\u001b[0m \u001b[0mn\u001b[0m \u001b[0;32min\u001b[0m \u001b[0mrange\u001b[0m\u001b[0;34m(\u001b[0m\u001b[0mlen\u001b[0m\u001b[0;34m(\u001b[0m\u001b[0mperceptrons\u001b[0m\u001b[0;34m)\u001b[0m\u001b[0;34m)\u001b[0m\u001b[0;34m:\u001b[0m\u001b[0;34m\u001b[0m\u001b[0;34m\u001b[0m\u001b[0m\n\u001b[1;32m     37\u001b[0m           \u001b[0mpsi\u001b[0m\u001b[0;34m[\u001b[0m\u001b[0;34m:\u001b[0m\u001b[0;34m,\u001b[0m \u001b[0mn\u001b[0m\u001b[0;34m]\u001b[0m \u001b[0;34m=\u001b[0m \u001b[0mperceptrons\u001b[0m\u001b[0;34m[\u001b[0m\u001b[0mn\u001b[0m\u001b[0;34m]\u001b[0m\u001b[0;34m(\u001b[0m\u001b[0mx\u001b[0m\u001b[0;34m)\u001b[0m\u001b[0;34m.\u001b[0m\u001b[0mreshape\u001b[0m\u001b[0;34m(\u001b[0m\u001b[0;34m-\u001b[0m\u001b[0;36m1\u001b[0m\u001b[0;34m)\u001b[0m\u001b[0;34m\u001b[0m\u001b[0;34m\u001b[0m\u001b[0m\n\u001b[0;32m---> 38\u001b[0;31m           \u001b[0mlap_psi\u001b[0m\u001b[0;34m[\u001b[0m\u001b[0;34m:\u001b[0m\u001b[0;34m,\u001b[0m \u001b[0mn\u001b[0m\u001b[0;34m]\u001b[0m \u001b[0;34m=\u001b[0m \u001b[0mperceptrons\u001b[0m\u001b[0;34m[\u001b[0m\u001b[0mn\u001b[0m\u001b[0;34m]\u001b[0m\u001b[0;34m.\u001b[0m\u001b[0mlap\u001b[0m\u001b[0;34m(\u001b[0m\u001b[0mx\u001b[0m\u001b[0;34m)\u001b[0m\u001b[0;34m.\u001b[0m\u001b[0mreshape\u001b[0m\u001b[0;34m(\u001b[0m\u001b[0;34m-\u001b[0m\u001b[0;36m1\u001b[0m\u001b[0;34m)\u001b[0m\u001b[0;34m\u001b[0m\u001b[0;34m\u001b[0m\u001b[0m\n\u001b[0m\u001b[1;32m     39\u001b[0m \u001b[0;34m\u001b[0m\u001b[0m\n\u001b[1;32m     40\u001b[0m       \u001b[0;32mfor\u001b[0m \u001b[0mn\u001b[0m \u001b[0;32min\u001b[0m \u001b[0mrange\u001b[0m\u001b[0;34m(\u001b[0m\u001b[0mlen\u001b[0m\u001b[0;34m(\u001b[0m\u001b[0mperceptrons\u001b[0m\u001b[0;34m)\u001b[0m\u001b[0;34m)\u001b[0m\u001b[0;34m:\u001b[0m\u001b[0;34m\u001b[0m\u001b[0;34m\u001b[0m\u001b[0m\n",
            "\u001b[0;32m<ipython-input-3-6fc648092638>\u001b[0m in \u001b[0;36mlap\u001b[0;34m(self, x)\u001b[0m\n\u001b[1;32m    118\u001b[0m         \u001b[0;32massert\u001b[0m \u001b[0mx\u001b[0m\u001b[0;34m.\u001b[0m\u001b[0mshape\u001b[0m\u001b[0;34m[\u001b[0m\u001b[0;36m1\u001b[0m\u001b[0;34m]\u001b[0m \u001b[0;34m==\u001b[0m \u001b[0mself\u001b[0m\u001b[0;34m.\u001b[0m\u001b[0mD\u001b[0m\u001b[0;34m,\u001b[0m \u001b[0;34m'Wrong shape of the matrix X'\u001b[0m\u001b[0;34m\u001b[0m\u001b[0;34m\u001b[0m\u001b[0m\n\u001b[1;32m    119\u001b[0m \u001b[0;34m\u001b[0m\u001b[0m\n\u001b[0;32m--> 120\u001b[0;31m         \u001b[0m_\u001b[0m \u001b[0;34m=\u001b[0m \u001b[0mself\u001b[0m\u001b[0;34m.\u001b[0m\u001b[0mforward\u001b[0m\u001b[0;34m(\u001b[0m\u001b[0mx\u001b[0m\u001b[0;34m)\u001b[0m  \u001b[0;31m# computes outputs of the layers\u001b[0m\u001b[0;34m\u001b[0m\u001b[0;34m\u001b[0m\u001b[0m\n\u001b[0m\u001b[1;32m    121\u001b[0m \u001b[0;34m\u001b[0m\u001b[0m\n\u001b[1;32m    122\u001b[0m         \u001b[0mres\u001b[0m \u001b[0;34m=\u001b[0m \u001b[0mtorch\u001b[0m\u001b[0;34m.\u001b[0m\u001b[0mzeros\u001b[0m\u001b[0;34m(\u001b[0m\u001b[0mS\u001b[0m\u001b[0;34m,\u001b[0m \u001b[0mself\u001b[0m\u001b[0;34m.\u001b[0m\u001b[0mN\u001b[0m \u001b[0;34m+\u001b[0m \u001b[0;36m1\u001b[0m\u001b[0;34m)\u001b[0m\u001b[0;34m\u001b[0m\u001b[0;34m\u001b[0m\u001b[0m\n",
            "\u001b[0;32m<ipython-input-3-6fc648092638>\u001b[0m in \u001b[0;36mforward\u001b[0;34m(self, x)\u001b[0m\n\u001b[1;32m     62\u001b[0m             \u001b[0;32melse\u001b[0m\u001b[0;34m:\u001b[0m\u001b[0;34m\u001b[0m\u001b[0;34m\u001b[0m\u001b[0m\n\u001b[1;32m     63\u001b[0m                 self.h[i] = self.stack[2*i+1](\n\u001b[0;32m---> 64\u001b[0;31m                     self.stack[2*i](self.h[i-1]))\n\u001b[0m\u001b[1;32m     65\u001b[0m \u001b[0;34m\u001b[0m\u001b[0m\n\u001b[1;32m     66\u001b[0m         \u001b[0;32massert\u001b[0m \u001b[0mself\u001b[0m\u001b[0;34m.\u001b[0m\u001b[0mh\u001b[0m\u001b[0;34m[\u001b[0m\u001b[0mself\u001b[0m\u001b[0;34m.\u001b[0m\u001b[0mL\u001b[0m\u001b[0;34m]\u001b[0m\u001b[0;34m.\u001b[0m\u001b[0mshape\u001b[0m\u001b[0;34m[\u001b[0m\u001b[0;36m0\u001b[0m\u001b[0;34m]\u001b[0m \u001b[0;34m==\u001b[0m \u001b[0mS\u001b[0m\u001b[0;34m,\u001b[0m \u001b[0;34m'Wrong shape of the h[-1]'\u001b[0m\u001b[0;34m\u001b[0m\u001b[0;34m\u001b[0m\u001b[0m\n",
            "\u001b[0;32m/usr/local/lib/python3.8/dist-packages/torch/nn/modules/module.py\u001b[0m in \u001b[0;36m_call_impl\u001b[0;34m(self, *input, **kwargs)\u001b[0m\n\u001b[1;32m   1192\u001b[0m         if not (self._backward_hooks or self._forward_hooks or self._forward_pre_hooks or _global_backward_hooks\n\u001b[1;32m   1193\u001b[0m                 or _global_forward_hooks or _global_forward_pre_hooks):\n\u001b[0;32m-> 1194\u001b[0;31m             \u001b[0;32mreturn\u001b[0m \u001b[0mforward_call\u001b[0m\u001b[0;34m(\u001b[0m\u001b[0;34m*\u001b[0m\u001b[0minput\u001b[0m\u001b[0;34m,\u001b[0m \u001b[0;34m**\u001b[0m\u001b[0mkwargs\u001b[0m\u001b[0;34m)\u001b[0m\u001b[0;34m\u001b[0m\u001b[0;34m\u001b[0m\u001b[0m\n\u001b[0m\u001b[1;32m   1195\u001b[0m         \u001b[0;31m# Do not call functions when jit is used\u001b[0m\u001b[0;34m\u001b[0m\u001b[0;34m\u001b[0m\u001b[0;34m\u001b[0m\u001b[0m\n\u001b[1;32m   1196\u001b[0m         \u001b[0mfull_backward_hooks\u001b[0m\u001b[0;34m,\u001b[0m \u001b[0mnon_full_backward_hooks\u001b[0m \u001b[0;34m=\u001b[0m \u001b[0;34m[\u001b[0m\u001b[0;34m]\u001b[0m\u001b[0;34m,\u001b[0m \u001b[0;34m[\u001b[0m\u001b[0;34m]\u001b[0m\u001b[0;34m\u001b[0m\u001b[0;34m\u001b[0m\u001b[0m\n",
            "\u001b[0;32m/usr/local/lib/python3.8/dist-packages/torch/nn/modules/linear.py\u001b[0m in \u001b[0;36mforward\u001b[0;34m(self, input)\u001b[0m\n\u001b[1;32m    112\u001b[0m \u001b[0;34m\u001b[0m\u001b[0m\n\u001b[1;32m    113\u001b[0m     \u001b[0;32mdef\u001b[0m \u001b[0mforward\u001b[0m\u001b[0;34m(\u001b[0m\u001b[0mself\u001b[0m\u001b[0;34m,\u001b[0m \u001b[0minput\u001b[0m\u001b[0;34m:\u001b[0m \u001b[0mTensor\u001b[0m\u001b[0;34m)\u001b[0m \u001b[0;34m->\u001b[0m \u001b[0mTensor\u001b[0m\u001b[0;34m:\u001b[0m\u001b[0;34m\u001b[0m\u001b[0;34m\u001b[0m\u001b[0m\n\u001b[0;32m--> 114\u001b[0;31m         \u001b[0;32mreturn\u001b[0m \u001b[0mF\u001b[0m\u001b[0;34m.\u001b[0m\u001b[0mlinear\u001b[0m\u001b[0;34m(\u001b[0m\u001b[0minput\u001b[0m\u001b[0;34m,\u001b[0m \u001b[0mself\u001b[0m\u001b[0;34m.\u001b[0m\u001b[0mweight\u001b[0m\u001b[0;34m,\u001b[0m \u001b[0mself\u001b[0m\u001b[0;34m.\u001b[0m\u001b[0mbias\u001b[0m\u001b[0;34m)\u001b[0m\u001b[0;34m\u001b[0m\u001b[0;34m\u001b[0m\u001b[0m\n\u001b[0m\u001b[1;32m    115\u001b[0m \u001b[0;34m\u001b[0m\u001b[0m\n\u001b[1;32m    116\u001b[0m     \u001b[0;32mdef\u001b[0m \u001b[0mextra_repr\u001b[0m\u001b[0;34m(\u001b[0m\u001b[0mself\u001b[0m\u001b[0;34m)\u001b[0m \u001b[0;34m->\u001b[0m \u001b[0mstr\u001b[0m\u001b[0;34m:\u001b[0m\u001b[0;34m\u001b[0m\u001b[0;34m\u001b[0m\u001b[0m\n",
            "\u001b[0;31mKeyboardInterrupt\u001b[0m: "
          ]
        }
      ],
      "source": [
        "losses, es = modified_train_loop(perceptrons, 30000, 100, 0.0, 2.25, 1.0, 0.1)"
      ]
    },
    {
      "cell_type": "code",
      "execution_count": null,
      "metadata": {
        "id": "HVDvDdTUqOw_"
      },
      "outputs": [],
      "source": [
        "plt.plot(losses)\n",
        "plt.yscale('log')\n",
        "plt.xlim(0,20000)"
      ]
    },
    {
      "cell_type": "code",
      "execution_count": null,
      "metadata": {
        "id": "2_s3ta2ZYYyj"
      },
      "outputs": [],
      "source": [
        "del perceptron\n",
        "torch.cuda.empty_cache()"
      ]
    },
    {
      "cell_type": "code",
      "execution_count": null,
      "metadata": {
        "colab": {
          "base_uri": "https://localhost:8080/"
        },
        "id": "OcynFIDbZ2J7",
        "outputId": "c5ea6f67-a6d6-446a-a0ea-1e0628839cbf"
      },
      "outputs": [
        {
          "data": {
            "text/plain": [
              "device(type='cuda')"
            ]
          },
          "execution_count": 29,
          "metadata": {},
          "output_type": "execute_result"
        }
      ],
      "source": [
        "device"
      ]
    },
    {
      "cell_type": "code",
      "execution_count": null,
      "metadata": {
        "id": "20mU0UcXj15B"
      },
      "outputs": [],
      "source": []
    }
  ],
  "metadata": {
    "accelerator": "GPU",
    "colab": {
      "provenance": [],
      "authorship_tag": "ABX9TyPchGMgkZuu2tLoTqSdLIuo",
      "include_colab_link": true
    },
    "gpuClass": "standard",
    "kernelspec": {
      "display_name": "Python 3",
      "name": "python3"
    },
    "language_info": {
      "name": "python"
    }
  },
  "nbformat": 4,
  "nbformat_minor": 0
}