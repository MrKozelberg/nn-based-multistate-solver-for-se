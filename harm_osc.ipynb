{
 "cells": [
  {
   "cell_type": "code",
   "execution_count": null,
   "metadata": {
    "colab": {
     "base_uri": "https://localhost:8080/"
    },
    "id": "-tiIn70xuciE",
    "outputId": "b9810e2d-15f3-4d5b-df17-87a4418c9dc6"
   },
   "outputs": [
    {
     "name": "stdout",
     "output_type": "stream",
     "text": [
      "Mounted at /content/gdrive\n"
     ]
    }
   ],
   "source": [
    "# PyTorch\n",
    "import torch\n",
    "from torch import nn\n",
    "\n",
    "# Math\n",
    "import math\n",
    "\n",
    "# Plots\n",
    "import matplotlib.pyplot as plt\n",
    "\n",
    "# Random\n",
    "import random\n",
    "\n",
    "# Numpy\n",
    "import numpy as np\n",
    "\n",
    "from google.colab import drive\n",
    "drive.mount('/content/gdrive')"
   ]
  },
  {
   "cell_type": "code",
   "execution_count": null,
   "metadata": {
    "id": "FSNfiDtoIi5s"
   },
   "outputs": [],
   "source": [
    "!mkdir -p /content/gdrive/MyDrive/nn-based-multistate-solver-for-se"
   ]
  },
  {
   "cell_type": "code",
   "execution_count": null,
   "metadata": {
    "id": "SmisGQ3sKoEE"
   },
   "outputs": [],
   "source": [
    "\n",
    "path = \"/content/gdrive/MyDrive/nn-based-multistate-solver-for-se\""
   ]
  },
  {
   "cell_type": "code",
   "execution_count": null,
   "metadata": {
    "colab": {
     "base_uri": "https://localhost:8080/"
    },
    "id": "jNWip5ZCIaj5",
    "outputId": "267a1994-087f-48ac-8ff5-14486fc62919"
   },
   "outputs": [
    {
     "name": "stdout",
     "output_type": "stream",
     "text": [
      "e_list_1.txt  perceptron_params_1D.pt  r_list_1.txt\n",
      "l_list_1.txt  perceptron_params_3D.pt\n"
     ]
    }
   ],
   "source": [
    "!ls /content/gdrive/MyDrive/nn-based-multistate-solver-for-se"
   ]
  },
  {
   "cell_type": "code",
   "execution_count": null,
   "metadata": {
    "id": "QxGZlIjkxh9W"
   },
   "outputs": [],
   "source": [
    "# Detect avaible device\n",
    "if torch.cuda.is_available():\n",
    "  device = \"cuda\"\n",
    "  print(f\"Using {device} device : {torch.cuda.get_device_name()}\")\n",
    "else:\n",
    "  device = \"cpu\""
   ]
  },
  {
   "cell_type": "code",
   "execution_count": null,
   "metadata": {
    "id": "Y6LQWYFmueFf"
   },
   "outputs": [],
   "source": [
    "f0 = lambda x: torch.tanh(x)\n",
    "f1 = lambda x: 1/torch.cosh(x)**2\n",
    "f2 = lambda x: -2*torch.sinh(x)/torch.cosh(x)**3\n",
    "\n",
    "class Perceptron(nn.Module):\n",
    "  def __init__(self, D: int, M: int, H: list, L: float):\n",
    "    assert len(H) > 0, \"List of hidden layers' widths is empty\"\n",
    "    super(Perceptron, self).__init__()\n",
    "    self.D = D # Dimension of the initial space\n",
    "    self.M = M # Dimension of the final space\n",
    "    self.N = len(H) # Number of the hidden layers\n",
    "    self.L = L # Box size\n",
    "    self.stack = nn.Sequential() # Structure of the perceptron\n",
    "    for n in range(self.N + 1):\n",
    "      if (n == 0):\n",
    "        self.stack.append(nn.Linear(D, H[0]))\n",
    "      elif (n == self.N):\n",
    "        self.stack.append(nn.Linear(H[-1], M))\n",
    "      else:\n",
    "        self.stack.append(nn.Linear(H[n-1], H[n]))\n",
    "      self.stack.append(nn.Tanh())\n",
    "    self.stack.to(device)\n",
    "  \n",
    "  # Normal distribution\n",
    "  def weight(self, x: torch.Tensor, mean: float, std: float):\n",
    "    assert x.shape[1] == self.D, \"Wrong shape 1 of the tensor x\"\n",
    "    assert x.shape[0] > 0, \"Wrong shape 0 of the tensor x\"\n",
    "    return 1 / (std * math.sqrt(2 * math.pi)) \\\n",
    "      * torch.exp(-0.5 * torch.sum((x - mean)**2, axis=1) / std**2)\n",
    "  \n",
    "  def stack_gradient(self, x: torch.Tensor):\n",
    "    assert x.shape[1] == self.D, \"Wrong shape 1 of the tensor x\"\n",
    "    assert x.shape[0] > 0, \"Wrong shape 0 of the tensor x\"\n",
    "    result = torch.zeros((x.shape[0], self.D, self.M)).to(device)\n",
    "    # Computation of the y\n",
    "    y = [None] * (self.N + 1)\n",
    "    y[0] = x\n",
    "    for i in range(self.N):\n",
    "      # y(i+1)\n",
    "      y[i+1] = self.stack[i*2+1](self.stack[i*2](y[i]))\n",
    "    # Computation of the result\n",
    "    for d in range(self.D):\n",
    "      # dy(1)dx\n",
    "      dydx = f1(self.stack[0](y[0])) * self.stack[0].weight[:,d]\n",
    "      for i in range(1, self.N + 1):\n",
    "        # dy(i)dx\n",
    "        dydx =  f1(self.stack[i*2](y[i])) \\\n",
    "          * torch.matmul(dydx, self.stack[i*2].weight.t())\n",
    "      # keeping result\n",
    "      result[:,d,:] = dydx\n",
    "    return result\n",
    "  \n",
    "  def stack_laplacian(self, x: torch.Tensor):\n",
    "    assert x.shape[1] == self.D, \"Wrong shape 1 of the tensor x\"\n",
    "    assert x.shape[0] > 0, \"Wrong shape 0 of the tensor x\"\n",
    "    preresult = torch.zeros((x.shape[0], self.D, self.M)).to(device)\n",
    "    # Computation of the y\n",
    "    y = [None] * (self.N + 1)\n",
    "    y[0] = x\n",
    "    for i in range(self.N):\n",
    "      # y(i+1)\n",
    "      y[i+1] = self.stack[i*2+1](self.stack[i*2](y[i]))\n",
    "    # Computation of the result\n",
    "    for d in range(self.D):\n",
    "      # dy(1)dx\n",
    "      dydx = f1(self.stack[0](y[0])) * self.stack[0].weight[:,d]\n",
    "      # d2y(2)dx2\n",
    "      d2ydx2 = f2(self.stack[0](y[0])) * self.stack[0].weight[:,d]**2\n",
    "      for i in range(1, self.N + 1):\n",
    "        # d2y(i)dx2\n",
    "        d2ydx2 = f2(self.stack[i*2](y[i])) \\\n",
    "          * torch.matmul(dydx, self.stack[i*2].weight.t())**2 \\\n",
    "          + f1(self.stack[i*2](y[i])) \\\n",
    "          * torch.matmul(d2ydx2, self.stack[i*2].weight.t())\n",
    "        # dy(i)dx\n",
    "        dydx =  f1(self.stack[i*2](y[i])) \\\n",
    "          * torch.matmul(dydx, self.stack[i*2].weight.t())\n",
    "      # keeping preresult\n",
    "      preresult[:,d,:] = d2ydx2\n",
    "    return torch.sum(preresult, axis=1) \n",
    "  \n",
    "  def amplitude(self, x: torch.Tensor):\n",
    "    assert x.shape[1] == self.D, \"Wrong shape of the tensor x\"\n",
    "    assert x.shape[0] > 0, \"Wrong shape of the tensor x\"\n",
    "    # mask = (torch.sum(abs(x)<=self.L, axis=1) == self.D).to(device)\n",
    "    result = torch.ones((x.shape[0], self.M)).to(device)\n",
    "    # result = torch.mul(result, 1 / torch.sum(self.stack(x)**2, axis=0))\n",
    "    result = torch.mul(result.t(), \n",
    "                       torch.exp(- torch.sum(x**4, axis=1) / self.L**4)).t()\n",
    "    # result = torch.mul(result.t(),\n",
    "    #                    (1 - torch.sum(x**2, axis=1) / self.L**2) * mask).t()\n",
    "    assert result.shape[1] == self.M, \"Wrong shape 1 of the result\"\n",
    "    assert result.shape[0] == x.shape[0], \"Wrong shape 0 of the result\"\n",
    "    return result\n",
    "  \n",
    "  def amplitude_gradient(self, x: torch.Tensor):\n",
    "    assert x.shape[1] == self.D, \"Wrong shape of the tensor x\"\n",
    "    assert x.shape[0] > 0, \"Wrong shape of the tensor x\"\n",
    "    # mask = (torch.sum(abs(x)<=self.L, axis=1) == self.D).to(device)\n",
    "    result = torch.ones((x.shape[0], self.D, self.M)).to(device)\n",
    "    # s = self.stack(x)\n",
    "    # sg = self.stack_gradient(x)\n",
    "    for d in range(self.D):\n",
    "      # first term\n",
    "      a = torch.ones((x.shape[0], self.M)).to(device)\n",
    "      a = torch.mul(a.t(), \n",
    "                    torch.exp(- torch.sum(x**4, axis=1) / self.L**4) \\\n",
    "                    * (- 4 * x[:,d]**3 / self.L**4)).t()\n",
    "      # a = torch.mul(a.t(), -2 * x[:,d] / self.L**2 * mask).t()\n",
    "      # keeping result\n",
    "      result[:,d,:] = a #+ b\n",
    "    return result\n",
    "\n",
    "  def amplitude_laplacian(self, x: torch.Tensor):\n",
    "    assert x.shape[1] == self.D, \"Wrong shape of the tensor x\"\n",
    "    assert x.shape[0] > 0, \"Wrong shape of the tensor x\"\n",
    "    # mask = (torch.sum(abs(x)<=self.L, axis=1) == self.D).to(device)\n",
    "    a = torch.ones((x.shape[0], self.M)).to(device)\n",
    "    result = torch.mul(a.t(), \n",
    "                       torch.exp(- torch.sum(x**4, axis=1) / self.L**4) \\\n",
    "                       * (torch.sum((-4*x**3/L**4)**2, axis=1) \\\n",
    "                          - 12 * torch.sum(x**2/L**4, axis=1))).t()\n",
    "    # result = torch.mul(a.t(), -2 * self.D / self.L**2 * mask).t()\n",
    "    return result\n",
    "    \n",
    "  def forward(self, x: torch.Tensor):\n",
    "    assert x.shape[1] == self.D, \"Wrong shape 1 of the tensor x\"\n",
    "    assert x.shape[0] > 0, \"Wrong shape 0 of the tensor x\"\n",
    "    result = self.stack(x).to(device) * self.amplitude(x).to(device) # Multiply by amplitude\n",
    "    assert result.shape[1] == self.M, \"Wrong shape 1 of the result\"\n",
    "    assert result.shape[0] == x.shape[0], \"Wrong shape 0 of the result\"\n",
    "    return result\n",
    "  \n",
    "  def gradient(self, x: torch.Tensor):\n",
    "    assert x.shape[1] == self.D, \"Wrong shape of the tensor x\"\n",
    "    assert x.shape[0] > 0, \"Wrong shape of the tensor x\"\n",
    "    result = torch.zeros((x.shape[0], self.D, self.M)).to(device)\n",
    "    a = self.amplitude(x)\n",
    "    sg = self.stack_gradient(x)\n",
    "    s = self.stack(x)\n",
    "    ag = self.amplitude_gradient(x)\n",
    "    for d in range(self.D):\n",
    "      result[:,d,:] = sg[:,d,:] * a + s * ag[:,d,:]\n",
    "    return result\n",
    "\n",
    "  def laplacian(self, x: torch.Tensor):\n",
    "    assert x.shape[1] == self.D, \"Wrong shape of the tensor x\"\n",
    "    assert x.shape[0] > 0, \"Wrong shape of the tensor x\"\n",
    "    result = self.stack_laplacian(x) * self.amplitude(x) \\\n",
    "      + self.stack(x) * self.amplitude_laplacian(x) \\\n",
    "      + 2 * torch.sum(self.stack_gradient(x) * self.amplitude_gradient(x), \n",
    "                      axis=1)\n",
    "    return result\n",
    "  \n",
    "  def wavefunction_norm2(self, x: torch.Tensor, mean: float, std: float):\n",
    "    assert x.shape[1] == self.D, \"Wrong shape 1 of the tensor x\"\n",
    "    assert x.shape[0] > 0, \"Wrong shape 0 of the tensor x\"\n",
    "    result = torch.zeros(self.M).to(device)\n",
    "    f = self.forward(x)\n",
    "    w = self.weight(x, mean, std)\n",
    "    for m in range(self.M):\n",
    "      result[m] = torch.mean(abs(f[:,m])**2 / w)\n",
    "    return result\n",
    "  \n",
    "  def mean_hamiltonian(self, x: torch.Tensor, mean: float, std: float):\n",
    "    assert x.shape[1] == self.D, \"Wrong shape 1 of the tensor x\"\n",
    "    assert x.shape[0] > 0, \"Wrong shape 0 of the tensor x\"\n",
    "    result = torch.zeros(self.M).to(device)\n",
    "    f = self.forward(x)\n",
    "    l = self.laplacian(x)\n",
    "    w = self.weight(x, mean, std)\n",
    "    v = 0.5 * torch.sum(x**2, axis=1)\n",
    "    for m in range(self.M):\n",
    "      result[m] = torch.mean(f[:,m] * (-0.5 * l[:,m] + v * f[:,m]) / w)\n",
    "    return result\n",
    "  \n",
    "  def energies(self, x: torch.Tensor, mean: float, std: float):\n",
    "    assert x.shape[1] == self.D, \"Wrong shape 1 of the tensor x\"\n",
    "    assert x.shape[0] > 0, \"Wrong shape 0 of the tensor x\"\n",
    "    return self.mean_hamiltonian(x, mean, std) \\\n",
    "      / self.wavefunction_norm2(x, mean, std)\n",
    "  \n",
    "  def load_model(self):\n",
    "    self.load_state_dict(f\"{path}/perceptron_params_{self.D}D.pt\")\n",
    "  \n",
    "  def save_model(self):\n",
    "    torch.save(self.state_dict(), f\"{path}/perceptron_params_{self.D}D.pt\")\n",
    "\n",
    "  def train_step(self, optimizer, loss_function, B: int, mean: float,\n",
    "                 std: float, alpha: float, beta: float, sigma: float):\n",
    "    # Normal distributed x\n",
    "    x = torch.normal(mean=mean, std=std, size=(B, self.D)).to(device)\n",
    "    e = self.energies(x, mean, std)\n",
    "    f = self.forward(x)\n",
    "    w = self.weight(x, mean, std)\n",
    "    # Residual\n",
    "    residual = -0.5 * self.laplacian(x) \\\n",
    "      + 0.5 * torch.mul(f.t(), torch.sum(x**2, axis=1)).t() \\\n",
    "      - torch.mul(f, e)\n",
    "    # Orthonormalization\n",
    "    norm2 = self.wavefunction_norm2(x, mean, std)\n",
    "    a = torch.sum((norm2 - torch.tensor(1).to(device))**2)\n",
    "    b = torch.zeros(self.M, self.M).to(device).to(device)\n",
    "    for m1 in range(1, self.M):\n",
    "      for m2 in range(0, m1):\n",
    "        b[m1,m2] = torch.mean(f[:,m1] * f[:,m2] / w)**2\n",
    "    # Loss\n",
    "    tau = 1.\n",
    "    loss = loss_function(torch.sum(torch.mean((residual)**2, axis=0)*(1-e/torch.sum(e).detach()))\n",
    "      + alpha * a \n",
    "      + beta * torch.sum(b),\n",
    "      torch.tensor(0.0).to(device))\n",
    "    # Backpropagation\n",
    "    optimizer.zero_grad()\n",
    "    loss.backward()\n",
    "    optimizer.step()\n",
    "    # scheduler.step()\n",
    "    self.L = self.L * sigma\n",
    "    return loss.item(), np.mean(residual.cpu().detach().numpy(), axis=0), \\\n",
    "      a.cpu().detach().numpy(), \\\n",
    "      torch.sum(b).cpu().detach().numpy(), e.cpu().detach().numpy()\n",
    "  \n",
    "  def train_loop(self, I: int, lr: float, weight_decay: float,\n",
    "                 sigma: float, B: int):\n",
    "    e_list = [None] * I\n",
    "    l_list = [None] * I\n",
    "    r_list = [None] * I\n",
    "    a_list = [None] * I\n",
    "    b_list = [None] * I\n",
    "    optimizer = torch.optim.AdamW(params=list(self.parameters()), \n",
    "                                 lr=lr, \n",
    "                                 weight_decay=weight_decay)\n",
    "    # Orthonormalization weights\n",
    "    alpha = 1.\n",
    "    beta = 100.\n",
    "    # Batch size\n",
    "    self.B = B\n",
    "    # Main loop\n",
    "    print('i,\\t Loss,\\t Energies')\n",
    "    for i in range(I):\n",
    "      l_list[i], r_list[i], a_list[i], b_list[i], e_list[i] = self.train_step(optimizer, nn.MSELoss(),\n",
    "                                             self.B, mean=0., std=self.L/2, \n",
    "                                             alpha=alpha, beta=beta,\n",
    "                                             sigma=sigma)\n",
    "      if i % 100 == 0:\n",
    "        print(f\"{i:3d}\\t {l_list[i]:.4E}\\t {np.sort(e_list[i])}\")\n",
    "        # Save model parameters\n",
    "        self.save_model()\n",
    "        # Empty cache\n",
    "        if torch.cuda.is_available():\n",
    "          torch.cuda.empty_cache()\n",
    "    return e_list, l_list, r_list, a_list, b_list"
   ]
  },
  {
   "cell_type": "code",
   "execution_count": null,
   "metadata": {
    "colab": {
     "background_save": true,
     "base_uri": "https://localhost:8080/"
    },
    "id": "XQJWXL1VsFLl",
    "outputId": "08bd136c-356c-43fc-afcc-313520ebc868"
   },
   "outputs": [
    {
     "name": "stdout",
     "output_type": "stream",
     "text": [
      "i,\t Loss,\t Energies\n",
      "  0\t 1.1397E+04\t [ 9.111932  9.475286  9.702385  9.829924  9.990969  9.99322   9.995565\n",
      " 10.023481 10.248441 10.28777  10.372426 10.511648 10.535466 10.74254\n",
      " 11.051886 11.564497]\n",
      "100\t 5.8255E+02\t [ 9.269929  9.270958  9.315251  9.372944  9.604623  9.621546  9.666589\n",
      "  9.785637 10.047327 10.061757 10.287875 10.350702 10.634109 10.746646\n",
      " 10.870019 11.059553]\n",
      "200\t 3.6503E+02\t [ 9.338111   9.365797   9.43238    9.480816   9.558337   9.629841\n",
      "  9.685165   9.889194  10.040162  10.071389  10.439766  10.451\n",
      " 10.726582  10.729344  11.0578375 11.0688715]\n",
      "300\t 3.1027E+02\t [ 9.256101  9.289542  9.312914  9.506678  9.558155  9.576307  9.779016\n",
      "  9.895071 10.108933 10.113875 10.500268 10.542012 10.554738 10.586016\n",
      " 10.9001   11.111181]\n",
      "400\t 2.8492E+02\t [ 9.127573  9.247244  9.288857  9.460381  9.500521  9.572045  9.830811\n",
      "  9.968085 10.012581 10.087659 10.240905 10.55568  10.627794 10.685861\n",
      " 10.982989 11.149788]\n",
      "500\t 2.6937E+02\t [ 9.283508  9.388745  9.461112  9.480466  9.484729  9.735373  9.907995\n",
      " 10.010687 10.28059  10.32067  10.336651 10.670573 10.697063 10.707333\n",
      " 10.871831 11.013375]\n",
      "600\t 2.6023E+02\t [ 9.100593  9.413904  9.447319  9.600741  9.633482  9.799515  9.936528\n",
      " 10.281396 10.310754 10.373647 10.601062 10.787799 10.795608 10.84328\n",
      " 11.015131 11.087242]\n",
      "700\t 2.5263E+02\t [ 8.738255  9.287325  9.445531  9.576202  9.634428  9.666644  9.77452\n",
      " 10.165161 10.200449 10.302089 10.668863 10.680649 10.707276 10.803697\n",
      " 10.975927 11.034862]\n",
      "800\t 2.4955E+02\t [ 8.996368  9.396203  9.510054  9.56589   9.768446  9.782818  9.916955\n",
      " 10.298415 10.306981 10.385877 10.799682 10.809271 10.837331 10.858753\n",
      " 10.920452 10.997899]\n",
      "900\t 2.4834E+02\t [ 8.892641   9.42454    9.497404   9.704226   9.724241   9.921319\n",
      " 10.100563  10.587188  10.596112  10.6036825 10.779112  10.792122\n",
      " 10.962642  11.1373415 11.149048  11.153032 ]\n",
      "1000\t 2.4274E+02\t [ 8.411012   9.200173   9.331118   9.512599   9.71426    9.7159395\n",
      "  9.854231  10.332284  10.393029  10.566706  10.61043   10.635563\n",
      " 10.681193  10.886974  10.950984  10.989975 ]\n",
      "1100\t 2.4266E+02\t [ 8.5997     9.260609   9.412241   9.596995   9.662654   9.865422\n",
      "  9.997285  10.417377  10.46592   10.627443  10.674947  10.759421\n",
      " 10.8246565 10.956449  11.105203  11.139348 ]\n",
      "1200\t 2.4266E+02\t [ 8.403171   9.388142   9.62087    9.6687765  9.729039   9.936906\n",
      " 10.149116  10.565549  10.682141  10.7420225 10.783101  10.898155\n",
      " 10.942536  11.071234  11.11818   11.265259 ]\n"
     ]
    }
   ],
   "source": [
    "D = 3\n",
    "M = 16\n",
    "H = [100,100,100]\n",
    "L = 5.\n",
    "perceptron = Perceptron(D, M, H, L).to(device)\n",
    "# perceptron.load_model()\n",
    "I = 20000\n",
    "lr = 1e-2\n",
    "weight_decay = 1e-3\n",
    "sigma = 1 #1**(1/I)\n",
    "B = 2**(10+D)\n",
    "e_list, l_list, r_list, a_list, b_list = perceptron.train_loop(I, lr, weight_decay, sigma, B)\n"
   ]
  },
  {
   "cell_type": "code",
   "execution_count": null,
   "metadata": {
    "id": "y8M9WlsCkRnH"
   },
   "outputs": [],
   "source": [
    "fig, ax = plt.subplots(2,2,figsize=(16,10))\n",
    "\n",
    "NUM_COLORS = M\n",
    "\n",
    "cm = plt.get_cmap('gist_rainbow')\n",
    "# Loss\n",
    "\n",
    "ax[0,1].set_prop_cycle(color=[cm(1.*i/NUM_COLORS) for i in range(NUM_COLORS)])\n",
    "\n",
    "ax[0,0].plot(l_list, linewidth=0.5, color='black', label='Total loss')\n",
    "ax[0,0].plot(np.array(l_list) - np.array(a_list) - 100*np.array(b_list), linewidth=0.5, color='green', label='1st term')\n",
    "ax[0,0].plot(a_list, linewidth=0.5, color='red', label='Normalisation')\n",
    "ax[0,0].plot(b_list*100, linewidth=0.5, color='blue', label='Orthogonalization')\n",
    "ax[0,0].axhline(y=10,linewidth=0.5, linestyle='--', color='grey')\n",
    "ax[0,0].legend()\n",
    "ax[0,0].set_yscale('log')\n",
    "ax[0,0].set_xlim(0,I)\n",
    "ax[0,0].set_ylabel('Loss')\n",
    "ax[0,0].set_xlabel('Iteration number')\n",
    "\n",
    "\n",
    "ax[1,0].set_prop_cycle(color=[cm(1.*i/NUM_COLORS) for i in range(NUM_COLORS)])\n",
    "for m in range(perceptron.M):\n",
    "  if np.array(e_list)[-2500:,m].std() < 0.25:\n",
    "    alpha = 1\n",
    "  else:\n",
    "    alpha = 0.1\n",
    "  ax[1,0].plot(np.array(e_list)[:,m],# color=colors[m], \n",
    "               linewidth=0.5, alpha=alpha)\n",
    "ax[1,0].set_xlim(0,I)\n",
    "ax[1,0].set_ylim(0,25)\n",
    "ax[1,0].set_yticks(np.arange(0,25+1))\n",
    "ax[1,0].grid(axis='y')\n",
    "ax[1,0].set_ylabel('Energy')\n",
    "ax[1,0].set_xlabel('Iteration number')\n",
    "\n",
    "for m in range(perceptron.M):\n",
    "  if np.array(e_list)[-2500:,m].std() < 0.25:\n",
    "    alpha = 0.75\n",
    "  else:\n",
    "    alpha = 0.1\n",
    "  ax[0,1].plot(np.log10(abs(np.array(r_list)[:,m])),# color=colors[m], \n",
    "               linewidth=0.5, alpha=alpha)\n",
    "ax[0,1].set_xlim(0,I)\n",
    "ax[0,1].grid(axis='y')\n",
    "ax[0,1].set_ylabel(r'$\\mathrm{log}_{10}|\\mathrm{residual}|$')\n",
    "ax[0,1].set_xlabel('Iteration number')\n",
    "# ax[1,0].set_yscale('log')\n",
    "\n",
    "# Table\n",
    "vars=['H','D','M','B','L','mean','std',r'$\\alpha$',r'$\\beta$','I','optimizer',\n",
    "      'lr','weight_decay',r'$\\sigma$']\n",
    "vals=[H,perceptron.D,perceptron.M,perceptron.B,L,0.0,r'$L/2$',1.,100.,I,'torch.optim.Adam',\n",
    "      1e-3,1e-3,sigma]\n",
    "ax[1,1].set_axis_off()\n",
    "ax[1,1].table(cellText = np.array([vars,vals]).transpose(),\n",
    "              cellLoc ='center',  \n",
    "              loc ='center')\n",
    "ax[1,1].set_title('Model related parameters', fontweight =\"bold\", y=0.9)\n",
    "\n",
    "print(np.sort(np.array(e_list)[-1,:]))"
   ]
  },
  {
   "cell_type": "code",
   "execution_count": null,
   "metadata": {
    "id": "IR8XSKi3TKDM"
   },
   "outputs": [],
   "source": [
    "2"
   ]
  },
  {
   "cell_type": "code",
   "execution_count": null,
   "metadata": {
    "id": "BiqkU7JSTJ_T"
   },
   "outputs": [],
   "source": []
  },
  {
   "cell_type": "code",
   "execution_count": null,
   "metadata": {
    "id": "eolzxyHITJ7T"
   },
   "outputs": [],
   "source": []
  },
  {
   "cell_type": "code",
   "execution_count": null,
   "metadata": {
    "id": "EdQM2WWwTJ26"
   },
   "outputs": [],
   "source": []
  },
  {
   "cell_type": "code",
   "execution_count": null,
   "metadata": {
    "colab": {
     "base_uri": "https://localhost:8080/"
    },
    "id": "_9trcvzhpHEc",
    "outputId": "3f914e3e-292a-46df-d074-a6bb2c5aa819"
   },
   "outputs": [
    {
     "data": {
      "text/plain": [
       "array([['D', '2'],\n",
       "       ['M', '16'],\n",
       "       ['B', '2000'],\n",
       "       ['L', '5.0'],\n",
       "       ['mean', '0.0'],\n",
       "       ['std', '$L/2$'],\n",
       "       ['$\\\\alpha$', '1.0'],\n",
       "       ['$\\\\beta$', '100.0'],\n",
       "       ['I', '1000'],\n",
       "       ['optimizer', 'torch.optim.Adam'],\n",
       "       ['lr', '0.001'],\n",
       "       ['weight_decay', '0.001'],\n",
       "       ['$\\\\sigma$', '1.0006933874625807']], dtype='<U32')"
      ]
     },
     "execution_count": 20,
     "metadata": {},
     "output_type": "execute_result"
    }
   ],
   "source": [
    "np.array([vars,vals]).transpose()"
   ]
  },
  {
   "cell_type": "code",
   "execution_count": null,
   "metadata": {
    "colab": {
     "base_uri": "https://localhost:8080/",
     "height": 316
    },
    "id": "pjDM_-0H7lPy",
    "outputId": "efec7af9-2b2d-439d-fbee-410dbcb70004"
   },
   "outputs": [
    {
     "data": {
      "image/png": "[encoded data removed]",
      "text/plain": [
       "<Figure size 1500x300 with 3 Axes>"
      ]
     },
     "metadata": {},
     "output_type": "display_data"
    }
   ],
   "source": [
    "fig, ax = plt.subplots(1,3,figsize=(15,3))\n",
    "\n",
    "all_colors = list(plt.cm.colors.cnames.keys())[::-1][::2]\n",
    "\n",
    "ax[0].plot(l_list, linewidth=0.5, color='black')\n",
    "ax[0].set_yscale('log')\n",
    "# ax[0].set_xscale('log')\n",
    "ax[0].set_xlim(0,I)\n",
    "# ax[0].grid(axis='y')\n",
    "ax[0].set_ylabel('Loss')\n",
    "# ax[0].set_ylim(1e2,1e3)\n",
    "ax[0].set_xlabel('Iteration number')\n",
    "\n",
    "for m in range(perceptron.M):\n",
    "  ax[1].plot(np.array(e_list)[:,m], color=all_colors[m], linewidth=0.5)\n",
    "ax[1].set_xlim(0,I)\n",
    "ax[1].set_ylim(0,12)\n",
    "ax[1].set_yticks(np.arange(0,13))\n",
    "ax[1].grid(axis='y')\n",
    "ax[1].set_ylabel('Energy')\n",
    "ax[1].set_xlabel('Iteration number')\n",
    "# ax[1].set_yscale('log')\n",
    "\n",
    "for m in range(perceptron.M):\n",
    "  ax[2].plot(abs(np.array(r_list)[:,m]), color=all_colors[m], linewidth=0.5)\n",
    "ax[2].set_xlim(0,I)\n",
    "# ax[1].set_ylim(0,None)\n",
    "# ax[2].set_yticks(np.arange(0,13))\n",
    "ax[2].grid(axis='y')\n",
    "ax[2].set_ylabel('Absolute residual')\n",
    "ax[2].set_xlabel('Iteration number')\n",
    "ax[2].set_yscale('log')"
   ]
  },
  {
   "cell_type": "code",
   "execution_count": null,
   "metadata": {
    "id": "b7kbmbViewt1"
   },
   "outputs": [],
   "source": []
  },
  {
   "cell_type": "code",
   "execution_count": null,
   "metadata": {
    "id": "fZjWIn_Sew4n"
   },
   "outputs": [],
   "source": []
  },
  {
   "cell_type": "code",
   "execution_count": null,
   "metadata": {
    "id": "dHAPvLKHew9u"
   },
   "outputs": [],
   "source": []
  },
  {
   "cell_type": "code",
   "execution_count": null,
   "metadata": {
    "id": "yggT9kW8exB7"
   },
   "outputs": [],
   "source": []
  },
  {
   "cell_type": "code",
   "execution_count": null,
   "metadata": {
    "colab": {
     "base_uri": "https://localhost:8080/",
     "height": 428
    },
    "id": "v1DhKF-BueIt",
    "outputId": "e6ed01cc-c3a2-4d18-f860-efd094a28d36"
   },
   "outputs": [
    {
     "name": "stdout",
     "output_type": "stream",
     "text": [
      "cuda:0\n",
      "cuda:0\n",
      "cuda:0\n",
      "cuda:0\n"
     ]
    },
    {
     "ename": "RuntimeError",
     "evalue": "ignored",
     "output_type": "error",
     "traceback": [
      "\u001b[0;31m---------------------------------------------------------------------------\u001b[0m",
      "\u001b[0;31mRuntimeError\u001b[0m                              Traceback (most recent call last)",
      "\u001b[0;32m<ipython-input-30-02478d0c113b>\u001b[0m in \u001b[0;36m<cell line: 16>\u001b[0;34m()\u001b[0m\n\u001b[1;32m     14\u001b[0m \u001b[0ma\u001b[0m \u001b[0;34m=\u001b[0m \u001b[0mperceptron\u001b[0m\u001b[0;34m.\u001b[0m\u001b[0mamplitude\u001b[0m\u001b[0;34m(\u001b[0m\u001b[0mx\u001b[0m\u001b[0;34m)\u001b[0m\u001b[0;34m\u001b[0m\u001b[0;34m\u001b[0m\u001b[0m\n\u001b[1;32m     15\u001b[0m \u001b[0mprint\u001b[0m\u001b[0;34m(\u001b[0m\u001b[0ma\u001b[0m\u001b[0;34m.\u001b[0m\u001b[0mdevice\u001b[0m\u001b[0;34m)\u001b[0m\u001b[0;34m\u001b[0m\u001b[0;34m\u001b[0m\u001b[0m\n\u001b[0;32m---> 16\u001b[0;31m \u001b[0mag\u001b[0m \u001b[0;34m=\u001b[0m \u001b[0mperceptron\u001b[0m\u001b[0;34m.\u001b[0m\u001b[0mamplitude_gradient\u001b[0m\u001b[0;34m(\u001b[0m\u001b[0mx\u001b[0m\u001b[0;34m)\u001b[0m\u001b[0;34m\u001b[0m\u001b[0;34m\u001b[0m\u001b[0m\n\u001b[0m\u001b[1;32m     17\u001b[0m \u001b[0mprint\u001b[0m\u001b[0;34m(\u001b[0m\u001b[0mag\u001b[0m\u001b[0;34m.\u001b[0m\u001b[0mdevice\u001b[0m\u001b[0;34m)\u001b[0m\u001b[0;34m\u001b[0m\u001b[0;34m\u001b[0m\u001b[0m\n\u001b[1;32m     18\u001b[0m \u001b[0mal\u001b[0m \u001b[0;34m=\u001b[0m \u001b[0mperceptron\u001b[0m\u001b[0;34m.\u001b[0m\u001b[0mamplitude_laplacian\u001b[0m\u001b[0;34m(\u001b[0m\u001b[0mx\u001b[0m\u001b[0;34m)\u001b[0m\u001b[0;34m\u001b[0m\u001b[0;34m\u001b[0m\u001b[0m\n",
      "\u001b[0;32m<ipython-input-29-73af9bd721b1>\u001b[0m in \u001b[0;36mamplitude_gradient\u001b[0;34m(self, x)\u001b[0m\n\u001b[1;32m    102\u001b[0m       \u001b[0;31m# first term\u001b[0m\u001b[0;34m\u001b[0m\u001b[0;34m\u001b[0m\u001b[0m\n\u001b[1;32m    103\u001b[0m       \u001b[0ma\u001b[0m \u001b[0;34m=\u001b[0m \u001b[0mtorch\u001b[0m\u001b[0;34m.\u001b[0m\u001b[0mones\u001b[0m\u001b[0;34m(\u001b[0m\u001b[0;34m(\u001b[0m\u001b[0mx\u001b[0m\u001b[0;34m.\u001b[0m\u001b[0mshape\u001b[0m\u001b[0;34m[\u001b[0m\u001b[0;36m0\u001b[0m\u001b[0;34m]\u001b[0m\u001b[0;34m,\u001b[0m \u001b[0mself\u001b[0m\u001b[0;34m.\u001b[0m\u001b[0mM\u001b[0m\u001b[0;34m)\u001b[0m\u001b[0;34m)\u001b[0m\u001b[0;34m\u001b[0m\u001b[0;34m\u001b[0m\u001b[0m\n\u001b[0;32m--> 104\u001b[0;31m       \u001b[0ma\u001b[0m \u001b[0;34m=\u001b[0m \u001b[0mtorch\u001b[0m\u001b[0;34m.\u001b[0m\u001b[0mmul\u001b[0m\u001b[0;34m(\u001b[0m\u001b[0ma\u001b[0m\u001b[0;34m,\u001b[0m \u001b[0;36m1\u001b[0m \u001b[0;34m/\u001b[0m \u001b[0mtorch\u001b[0m\u001b[0;34m.\u001b[0m\u001b[0msum\u001b[0m\u001b[0;34m(\u001b[0m\u001b[0ms\u001b[0m\u001b[0;34m**\u001b[0m\u001b[0;36m2\u001b[0m\u001b[0;34m,\u001b[0m \u001b[0maxis\u001b[0m\u001b[0;34m=\u001b[0m\u001b[0;36m0\u001b[0m\u001b[0;34m)\u001b[0m\u001b[0;34m.\u001b[0m\u001b[0mto\u001b[0m\u001b[0;34m(\u001b[0m\u001b[0mdevice\u001b[0m\u001b[0;34m)\u001b[0m\u001b[0;34m)\u001b[0m\u001b[0;34m\u001b[0m\u001b[0;34m\u001b[0m\u001b[0m\n\u001b[0m\u001b[1;32m    105\u001b[0m       \u001b[0ma\u001b[0m \u001b[0;34m=\u001b[0m \u001b[0mtorch\u001b[0m\u001b[0;34m.\u001b[0m\u001b[0mmul\u001b[0m\u001b[0;34m(\u001b[0m\u001b[0ma\u001b[0m\u001b[0;34m.\u001b[0m\u001b[0mt\u001b[0m\u001b[0;34m(\u001b[0m\u001b[0;34m)\u001b[0m\u001b[0;34m,\u001b[0m \u001b[0;34m-\u001b[0m\u001b[0;36m2\u001b[0m \u001b[0;34m*\u001b[0m \u001b[0mx\u001b[0m\u001b[0;34m[\u001b[0m\u001b[0;34m:\u001b[0m\u001b[0;34m,\u001b[0m\u001b[0md\u001b[0m\u001b[0;34m]\u001b[0m \u001b[0;34m/\u001b[0m \u001b[0mself\u001b[0m\u001b[0;34m.\u001b[0m\u001b[0mL\u001b[0m\u001b[0;34m**\u001b[0m\u001b[0;36m2\u001b[0m \u001b[0;34m*\u001b[0m \u001b[0mmask\u001b[0m\u001b[0;34m)\u001b[0m\u001b[0;34m.\u001b[0m\u001b[0mt\u001b[0m\u001b[0;34m(\u001b[0m\u001b[0;34m)\u001b[0m\u001b[0;34m\u001b[0m\u001b[0;34m\u001b[0m\u001b[0m\n\u001b[1;32m    106\u001b[0m       \u001b[0;31m# second term\u001b[0m\u001b[0;34m\u001b[0m\u001b[0;34m\u001b[0m\u001b[0m\n",
      "\u001b[0;31mRuntimeError\u001b[0m: Expected all tensors to be on the same device, but found at least two devices, cuda:0 and cpu!"
     ]
    }
   ],
   "source": [
    "# test costructor, forward and amplitude, stack_gradient, stack_laplacian\n",
    "D = 3\n",
    "M = 5\n",
    "H = [D, 2*D, 3*D]\n",
    "L = 5.\n",
    "perceptron = Perceptron(D, M, H, L).to(device)\n",
    "B = 10000\n",
    "x = torch.normal(mean=0., std=L/2, size=(B, D)).to(device)\n",
    "print(x.device)\n",
    "sg = perceptron.stack_gradient(x)\n",
    "print(sg.device)\n",
    "sl = perceptron.stack_laplacian(x)\n",
    "print(sl.device)\n",
    "a = perceptron.amplitude(x)\n",
    "print(a.device)\n",
    "ag = perceptron.amplitude_gradient(x)\n",
    "print(ag.device)\n",
    "al = perceptron.amplitude_laplacian(x)\n",
    "print(al.device)\n",
    "y = perceptron(x)\n",
    "print(y.device)\n",
    "g = perceptron.gradient(x)\n",
    "print(g.device)\n",
    "l = perceptron.laplacian(x)\n",
    "print(l.device)\n",
    "print(perceptron.energies(x, 0., L/2).device)"
   ]
  },
  {
   "cell_type": "code",
   "execution_count": null,
   "metadata": {
    "id": "vturVDD8JCsG"
   },
   "outputs": [],
   "source": []
  },
  {
   "cell_type": "code",
   "execution_count": null,
   "metadata": {
    "id": "gDQb005oJCwR"
   },
   "outputs": [],
   "source": []
  },
  {
   "cell_type": "code",
   "execution_count": null,
   "metadata": {
    "id": "dLCsIdvvJC0d"
   },
   "outputs": [],
   "source": []
  },
  {
   "cell_type": "code",
   "execution_count": null,
   "metadata": {
    "id": "NxsFQesDJC3k"
   },
   "outputs": [],
   "source": []
  },
  {
   "cell_type": "code",
   "execution_count": null,
   "metadata": {
    "id": "pn5JWDHnJC7A"
   },
   "outputs": [],
   "source": []
  },
  {
   "cell_type": "code",
   "execution_count": null,
   "metadata": {
    "id": "AeGVevYXJC-k"
   },
   "outputs": [],
   "source": []
  },
  {
   "cell_type": "code",
   "execution_count": null,
   "metadata": {
    "colab": {
     "base_uri": "https://localhost:8080/"
    },
    "id": "AyYP8eTOqi3Y",
    "outputId": "cc365aba-01ff-4a6f-8ee3-527d7e1346d6"
   },
   "outputs": [
    {
     "data": {
      "text/plain": [
       "(0.6759825348854065,\n",
       " [7.858370304107666,\n",
       "  7.779535293579102,\n",
       "  6.816428184509277,\n",
       "  12.6932954788208,\n",
       "  8.333465576171875])"
      ]
     },
     "execution_count": 48,
     "metadata": {},
     "output_type": "execute_result"
    }
   ],
   "source": [
    "optimizer = torch.optim.Adam(params=list(perceptron.parameters()), lr=1e-3, weight_decay=1e-3)\n",
    "scheduler = torch.optim.lr_scheduler.ExponentialLR(optimizer, gamma=0.9999)\n",
    "\n",
    "perceptron.train_step(optimizer, scheduler, nn.MSELoss(), 100, 0, L/2, 1, 1)"
   ]
  },
  {
   "cell_type": "code",
   "execution_count": null,
   "metadata": {
    "id": "EcT46NHzO16N"
   },
   "outputs": [],
   "source": [
    "d = 2\n",
    "y = x\n",
    "dydx = 1 / torch.cosh(perceptron.stack[0](y)) * perceptron.stack[0].weight[:,d]\n",
    "y = perceptron.stack[1](perceptron.stack[0](y))\n",
    "dydx =  1 / torch.cosh(perceptron.stack[2](y)) * torch.matmul(dydx, perceptron.stack[2].weight.t())"
   ]
  },
  {
   "cell_type": "code",
   "execution_count": null,
   "metadata": {
    "colab": {
     "base_uri": "https://localhost:8080/"
    },
    "id": "bAsa1q0pl-wU",
    "outputId": "3b9c713d-1210-458b-b589-2d25eab8bbe0"
   },
   "outputs": [
    {
     "data": {
      "text/plain": [
       "torch.Size([10, 7])"
      ]
     },
     "execution_count": 157,
     "metadata": {},
     "output_type": "execute_result"
    }
   ],
   "source": [
    "a = torch.rand(10,6)\n",
    "b = torch.rand(7,6)\n",
    "ab = torch.matmul(a, b.t())\n",
    "ab.shape"
   ]
  },
  {
   "cell_type": "code",
   "execution_count": null,
   "metadata": {
    "colab": {
     "base_uri": "https://localhost:8080/"
    },
    "id": "jayXZeG9l-1u",
    "outputId": "55abf277-18f1-4769-ac47-877a415c60a6"
   },
   "outputs": [
    {
     "data": {
      "text/plain": [
       "Tanh()"
      ]
     },
     "execution_count": 164,
     "metadata": {},
     "output_type": "execute_result"
    }
   ],
   "source": [
    "perceptron.stack[7]"
   ]
  },
  {
   "cell_type": "code",
   "execution_count": null,
   "metadata": {
    "colab": {
     "base_uri": "https://localhost:8080/",
     "height": 167
    },
    "id": "WC8Um3rHllSj",
    "outputId": "15ce1056-5ba4-4fba-e796-5d326938d5fc"
   },
   "outputs": [
    {
     "ename": "RuntimeError",
     "evalue": "ignored",
     "output_type": "error",
     "traceback": [
      "\u001b[0;31m---------------------------------------------------------------------------\u001b[0m",
      "\u001b[0;31mRuntimeError\u001b[0m                              Traceback (most recent call last)",
      "\u001b[0;32m<ipython-input-154-a71ec7a6ccc9>\u001b[0m in \u001b[0;36m<cell line: 1>\u001b[0;34m()\u001b[0m\n\u001b[0;32m----> 1\u001b[0;31m \u001b[0mtorch\u001b[0m\u001b[0;34m.\u001b[0m\u001b[0mmul\u001b[0m\u001b[0;34m(\u001b[0m\u001b[0mtorch\u001b[0m\u001b[0;34m.\u001b[0m\u001b[0mrand\u001b[0m\u001b[0;34m(\u001b[0m\u001b[0;36m10\u001b[0m\u001b[0;34m,\u001b[0m\u001b[0;36m6\u001b[0m\u001b[0;34m)\u001b[0m\u001b[0;34m.\u001b[0m\u001b[0mt\u001b[0m\u001b[0;34m(\u001b[0m\u001b[0;34m)\u001b[0m\u001b[0;34m,\u001b[0m \u001b[0mtorch\u001b[0m\u001b[0;34m.\u001b[0m\u001b[0mrand\u001b[0m\u001b[0;34m(\u001b[0m\u001b[0;36m7\u001b[0m\u001b[0;34m,\u001b[0m\u001b[0;36m6\u001b[0m\u001b[0;34m)\u001b[0m\u001b[0;34m)\u001b[0m\u001b[0;34m\u001b[0m\u001b[0;34m\u001b[0m\u001b[0m\n\u001b[0m",
      "\u001b[0;31mRuntimeError\u001b[0m: The size of tensor a (10) must match the size of tensor b (6) at non-singleton dimension 1"
     ]
    }
   ],
   "source": [
    "torch.mul(torch.rand(10,6).t(), torch.rand(7,6))"
   ]
  },
  {
   "cell_type": "code",
   "execution_count": null,
   "metadata": {
    "colab": {
     "base_uri": "https://localhost:8080/"
    },
    "id": "9jNxY8wdla3G",
    "outputId": "16d70974-121c-44e1-d66c-8e7ed191241f"
   },
   "outputs": [
    {
     "data": {
      "text/plain": [
       "(torch.Size([10, 6]), torch.Size([7, 6]))"
      ]
     },
     "execution_count": 149,
     "metadata": {},
     "output_type": "execute_result"
    }
   ],
   "source": [
    "dydx.shape, perceptron.stack[2].weight.shape"
   ]
  },
  {
   "cell_type": "code",
   "execution_count": null,
   "metadata": {
    "colab": {
     "base_uri": "https://localhost:8080/",
     "height": 167
    },
    "id": "6aKTQvuaiXGW",
    "outputId": "06079b69-5f35-40a2-fe09-fc92dd34d23e"
   },
   "outputs": [
    {
     "ename": "RuntimeError",
     "evalue": "ignored",
     "output_type": "error",
     "traceback": [
      "\u001b[0;31m---------------------------------------------------------------------------\u001b[0m",
      "\u001b[0;31mRuntimeError\u001b[0m                              Traceback (most recent call last)",
      "\u001b[0;32m<ipython-input-150-7485983c9c7a>\u001b[0m in \u001b[0;36m<cell line: 1>\u001b[0;34m()\u001b[0m\n\u001b[0;32m----> 1\u001b[0;31m \u001b[0;34m(\u001b[0m\u001b[0;36m1\u001b[0m \u001b[0;34m/\u001b[0m \u001b[0mtorch\u001b[0m\u001b[0;34m.\u001b[0m\u001b[0mcosh\u001b[0m\u001b[0;34m(\u001b[0m\u001b[0mperceptron\u001b[0m\u001b[0;34m.\u001b[0m\u001b[0mstack\u001b[0m\u001b[0;34m[\u001b[0m\u001b[0;36m2\u001b[0m\u001b[0;34m]\u001b[0m\u001b[0;34m(\u001b[0m\u001b[0my\u001b[0m\u001b[0;34m)\u001b[0m\u001b[0;34m)\u001b[0m\u001b[0;34m)\u001b[0m\u001b[0;34m.\u001b[0m\u001b[0mshape\u001b[0m\u001b[0;34m,\u001b[0m \u001b[0mtorch\u001b[0m\u001b[0;34m.\u001b[0m\u001b[0msum\u001b[0m\u001b[0;34m(\u001b[0m\u001b[0mdydx\u001b[0m \u001b[0;34m*\u001b[0m \u001b[0mperceptron\u001b[0m\u001b[0;34m.\u001b[0m\u001b[0mstack\u001b[0m\u001b[0;34m[\u001b[0m\u001b[0;36m2\u001b[0m\u001b[0;34m]\u001b[0m\u001b[0;34m.\u001b[0m\u001b[0mweight\u001b[0m\u001b[0;34m.\u001b[0m\u001b[0mt\u001b[0m\u001b[0;34m(\u001b[0m\u001b[0;34m)\u001b[0m\u001b[0;34m,\u001b[0m \u001b[0maxis\u001b[0m\u001b[0;34m=\u001b[0m\u001b[0;36m1\u001b[0m\u001b[0;34m)\u001b[0m\u001b[0;34m.\u001b[0m\u001b[0mshape\u001b[0m\u001b[0;34m\u001b[0m\u001b[0;34m\u001b[0m\u001b[0m\n\u001b[0m",
      "\u001b[0;31mRuntimeError\u001b[0m: The size of tensor a (6) must match the size of tensor b (7) at non-singleton dimension 1"
     ]
    }
   ],
   "source": [
    "(1 / torch.cosh(perceptron.stack[2](y))).shape, torch.sum(dydx * perceptron.stack[2].weight.t(), axis=1).shape"
   ]
  },
  {
   "cell_type": "code",
   "execution_count": null,
   "metadata": {
    "colab": {
     "base_uri": "https://localhost:8080/"
    },
    "id": "nywlzvhfO183",
    "outputId": "c25ba8c2-cd01-4551-824f-f432e8a2da2a"
   },
   "outputs": [
    {
     "data": {
      "text/plain": [
       "torch.Size([10, 10])"
      ]
     },
     "execution_count": 137,
     "metadata": {},
     "output_type": "execute_result"
    }
   ],
   "source": [
    "(1 / torch.cosh(perceptron.stack[0](y))).shape"
   ]
  },
  {
   "cell_type": "code",
   "execution_count": null,
   "metadata": {
    "id": "mudQTvbXO2CM"
   },
   "outputs": [],
   "source": []
  },
  {
   "cell_type": "code",
   "execution_count": null,
   "metadata": {
    "colab": {
     "base_uri": "https://localhost:8080/"
    },
    "id": "6IJAbIcTueNs",
    "outputId": "d679154f-7381-4661-b001-13cd679bdcbd"
   },
   "outputs": [
    {
     "data": {
      "text/plain": [
       "(torch.Size([10, 5]), torch.Size([10]))"
      ]
     },
     "execution_count": 76,
     "metadata": {},
     "output_type": "execute_result"
    }
   ],
   "source": []
  },
  {
   "cell_type": "code",
   "execution_count": null,
   "metadata": {
    "colab": {
     "base_uri": "https://localhost:8080/"
    },
    "id": "l6Qdf6rLueSA",
    "outputId": "ecf08438-d933-41f1-f6ef-ebb79e9f5c1e"
   },
   "outputs": [
    {
     "data": {
      "text/plain": [
       "torch.Size([10, 5])"
      ]
     },
     "execution_count": 84,
     "metadata": {},
     "output_type": "execute_result"
    }
   ],
   "source": []
  },
  {
   "cell_type": "code",
   "execution_count": null,
   "metadata": {
    "id": "d7kMIQCwueVt"
   },
   "outputs": [],
   "source": []
  },
  {
   "cell_type": "code",
   "execution_count": null,
   "metadata": {
    "id": "gwKJaFJ6Wrk2"
   },
   "outputs": [],
   "source": [
    "#!/usr/bin/env python3\n",
    "# -*- coding: utf-8 -*-\n",
    "\"\"\"\n",
    "Created on Sat Mar  4 14:35:53 2023\n",
    "\n",
    "@author: kozlov\n",
    "\"\"\"\n",
    "\n",
    "import numpy as np  # to work with arrays\n",
    "import matplotlib.pyplot as plt  # to make figures\n",
    "\n",
    "# PyTorch\n",
    "import torch\n",
    "from torch import nn\n",
    "\n",
    "\n",
    "def f0(x):\n",
    "    return torch.tanh(x)\n",
    "\n",
    "\n",
    "def f1(x):\n",
    "    return 1/torch.cosh(x)**2\n",
    "\n",
    "\n",
    "def f2(x):\n",
    "    return -2*torch.sinh(x)/torch.cosh(x)**3\n",
    "\n",
    "\n",
    "class tPerceptron(nn.Module):\n",
    "    def __init__(self, L, N_h, D, N, std):\n",
    "        self.D = D  # dimension of the task\n",
    "        self.N = N  # number of the most excided state\n",
    "        self.L = L  # depth\n",
    "        self.N_h = N_h  # width\n",
    "        self.f = f0  # activation function\n",
    "        self.f1 = f1  # first derivative\n",
    "        self.f2 = f2  # second derivative\n",
    "\n",
    "        super(tPerceptron, self).__init__()\n",
    "\n",
    "        self.std = std #nn.Parameter(data=torch.Tensor([std]), requires_grad=True)\n",
    "\n",
    "        self.stack = nn.Sequential()\n",
    "        for i in range(self.L + 1):\n",
    "            if (i == 0):\n",
    "                self.stack.append(nn.Linear(D, N_h))\n",
    "            elif (i == self.L):\n",
    "                self.stack.append(nn.Linear(N_h, N + 1))\n",
    "            else:\n",
    "                self.stack.append(nn.Linear(N_h, N_h))\n",
    "            self.stack.append(nn.Tanh())\n",
    "\n",
    "        self.h = [None] * (self.L + 1)  # outputs of the layers\n",
    "\n",
    "    def forward(self, x):\n",
    "        S = x.shape[0]  # Size of the sample\n",
    "        assert x.shape[1] == self.D, 'Wrong shape of the matrix X'\n",
    "\n",
    "        for i in range(self.L + 1):\n",
    "            if i == 0:\n",
    "                self.h[i] = self.stack[2*i+1](\n",
    "                    self.stack[2*i](x))\n",
    "            else:\n",
    "                self.h[i] = self.stack[2*i+1](\n",
    "                    self.stack[2*i](self.h[i-1]))\n",
    "\n",
    "        assert self.h[self.L].shape[0] == S, 'Wrong shape of the h[-1]'\n",
    "        assert self.h[self.L].shape[1] == \\\n",
    "            self.N + 1, 'Wrong shape of the h[-1]'\n",
    "\n",
    "        # Normalization each wavefunction\n",
    "        res = torch.ones_like(self.h[-1])\n",
    "        for i in range(self.N + 1):\n",
    "            res[:, i] = self.h[-1][:, i] \\\n",
    "                * torch.exp(-torch.sum(x**2 / self.std**2, axis=1))\n",
    "\n",
    "        return res\n",
    "\n",
    "    def grad(self, x):\n",
    "        S = x.shape[0]  # Size of the sample\n",
    "        assert x.shape[1] == self.D, 'Wrong shape of the matrix X'\n",
    "\n",
    "        _ = self.forward(x)  # computes outputs of the layers\n",
    "\n",
    "        res = torch.zeros(S, self.N + 1, self.D)  # result\n",
    "\n",
    "        for t in range(self.D):\n",
    "            dh_dx = torch.zeros(self.D)\n",
    "            dh_dx[t] = 1\n",
    "\n",
    "            for i in range(self.L + 1):\n",
    "                a = self.stack[2*i].weight\n",
    "                b = self.stack[2*i].bias\n",
    "                if i == 0:\n",
    "                    dh_dx = self.f1(x @ a.t() + b) \\\n",
    "                        * (dh_dx @ a.t())\n",
    "                else:\n",
    "                    dh_dx = self.f1(self.h[i-1] @ a.t() + b) \\\n",
    "                        * (dh_dx @ a.t())\n",
    "\n",
    "            assert dh_dx.shape[0] == S\n",
    "            assert dh_dx.shape[1] == self.N + 1\n",
    "\n",
    "            for i in range(self.N + 1):\n",
    "                dh_dx[:, i] = dh_dx[:, i] \\\n",
    "                    * torch.exp(-torch.sum(x**2 / self.std**2, axis=1))\n",
    "\n",
    "            for i in range(self.N + 1):\n",
    "                dh_dx[:, i] = dh_dx[:, i] + self.h[-1][:, i] \\\n",
    "                    * torch.exp(-torch.sum(x**2 / self.std**2, axis=1)) \\\n",
    "                    * (-2 * x[:, t] / self.std**2)\n",
    "\n",
    "            res[:, :, t] = dh_dx\n",
    "\n",
    "        return res  # / torch.linalg.vector_norm(self.h[-1], axis=0)\n",
    "\n",
    "    def lap(self, x):\n",
    "        S = x.shape[0]  # Size of the sample\n",
    "        assert x.shape[1] == self.D, 'Wrong shape of the matrix X'\n",
    "\n",
    "        _ = self.forward(x)  # computes outputs of the layers\n",
    "        \n",
    "        res = torch.zeros(S, self.N + 1)\n",
    "        \n",
    "        for t in range(self.D):\n",
    "            dh_dx = torch.zeros(self.D) #\n",
    "            dh_dx[t] = 1 # \n",
    "            \n",
    "            d2h_dx2 =  torch.zeros(self.D) #\n",
    "            \n",
    "            for i in range(self.L + 1):\n",
    "                a = self.stack[2*i].weight\n",
    "                b = self.stack[2*i].bias\n",
    "                \n",
    "                if i == 0:\n",
    "                    d2h_dx2 = self.f2(x @ a.t() + b) * (dh_dx @ a.t())**2\n",
    "                else:\n",
    "                    d2h_dx2 = self.f2(self.h[i-1] @ a.t() + b) \\\n",
    "                        * (dh_dx @ a.t())**2\\\n",
    "                    + self.f1(self.h[i-1] @ a.t() + b) * (d2h_dx2 @ a.t())\n",
    "\n",
    "                if i == 0:\n",
    "                    dh_dx = self.f1(x @ a.t() + b) \\\n",
    "                        * (dh_dx @ a.t())\n",
    "                else:\n",
    "                    dh_dx = self.f1(self.h[i-1] @ a.t() + b) \\\n",
    "                        * (dh_dx @ a.t())\n",
    "                \n",
    "            assert dh_dx.shape[0] == S\n",
    "            assert dh_dx.shape[1] == self.N + 1\n",
    "                \n",
    "            assert d2h_dx2.shape[0] == S\n",
    "            assert d2h_dx2.shape[1] == self.N + 1\n",
    "            \n",
    "            for j in range(self.N + 1):\n",
    "                d2h_dx2[:, j] = d2h_dx2[:, j] \\\n",
    "                    * torch.exp(-torch.sum(x**2 / self.std**2, axis=1)) \\\n",
    "                    + 2 * dh_dx[:, j] \\\n",
    "                        * torch.exp(-torch.sum(x**2 / self.std**2, axis=1)) \\\n",
    "                        * (- 2 * x[:, t] / self.std**2) \\\n",
    "                    + self.h[-1][:, j] \\\n",
    "                        * torch.exp(-torch.sum(x**2 / self.std**2, axis=1)) \\\n",
    "                        * (-2 / self.std**2)\n",
    "\n",
    "            res = res + d2h_dx2\n",
    "\n",
    "        return res\n",
    "\n",
    "    def energy(self, x, V, W):\n",
    "        S = x.shape[0]  # Size of the sample\n",
    "        assert x.shape[1] == self.D, 'Wrong shape of the matrix X'\n",
    "\n",
    "        assert V(x).shape[0] == S\n",
    "\n",
    "        res = torch.empty(self.N + 1)\n",
    "\n",
    "        psi = self.forward(x)\n",
    "        lap_psi = self.lap(x)\n",
    "\n",
    "        for i in range(self.N + 1):\n",
    "            res[i] = torch.mean((- 1 / 2 * psi[:, i] * lap_psi[:, i]\n",
    "                                + psi[:, i]**2 * V(x)) / W(x)) \\\n",
    "                / torch.mean(psi[:, i]**2 / W(x))\n",
    "\n",
    "        return res\n",
    "\n",
    "\n",
    "def train_step(perceptron, optimizer, scheduler, loss_fn, S, mean, std,\n",
    "               alpha, beta):\n",
    "    # Create an uninitialized tensor of size SxD\n",
    "    x = torch.empty(S, perceptron.D)\n",
    "\n",
    "    # Normal distributed x\n",
    "    x.normal_(mean, std)\n",
    "\n",
    "    # Potential\n",
    "    V = lambda y: torch.linalg.vector_norm(y, axis=1)**2 / 2\n",
    "\n",
    "    # Weight function\n",
    "    W = lambda y: 1 / (std * np.sqrt(2 * np.pi)) \\\n",
    "        * torch.exp(-1/2*torch.mean((y - mean)**2 / std**2, axis=1))\n",
    "\n",
    "    # Residual\n",
    "    residual = torch.empty(perceptron.N + 1)\n",
    "    e = perceptron.energy(x, V, W)\n",
    "    psi = perceptron.forward(x)\n",
    "    lap_psi = perceptron.lap(x)\n",
    "    for i in range(perceptron.N + 1):\n",
    "        residual[i] = (i+1) * (torch.mean((- 1 / 2 * psi[:, i] * lap_psi[:, i]\n",
    "                                            + psi[:, i]**2 * V(x)) / W(x))) / torch.mean(psi[:, i]**2 / W(x))\n",
    "                                            # - e[i] * psi[:, i]**2) / W(x))) \\\n",
    "            # / torch.mean(psi[:, i]**2 / W(x))\n",
    "\n",
    "    # Orthonormalization\n",
    "    a = torch.empty(perceptron.N + 1)\n",
    "    for i in range(perceptron.N + 1):\n",
    "        a[i] = (torch.mean(psi[:, i]**2 / W(x)) - torch.tensor([1.0]))**2\n",
    "\n",
    "    b = torch.zeros(perceptron.N + 1, perceptron.N + 1)\n",
    "    for n in range(1, perceptron.N + 1):\n",
    "        for m in range(0, n):\n",
    "            b[n, m] = torch.mean(psi[:, n] * psi[:, m] / W(x))**2\n",
    "\n",
    "    # Loss function\n",
    "    loss = loss_fn(torch.mean(residual)\n",
    "                   + alpha * torch.sum(a)\n",
    "                   + beta * torch.sum(b), torch.tensor(0.0))\n",
    "\n",
    "    # Backpropagation\n",
    "    optimizer.zero_grad()\n",
    "    loss.backward()\n",
    "    optimizer.step()\n",
    "    scheduler.step()\n",
    "\n",
    "    return loss.item(), perceptron.energy(x, V, W).tolist()\n",
    "\n",
    "\n",
    "def train_loop(perceptron, N_iter):\n",
    "    losses = np.zeros(N_iter)\n",
    "    es = np.zeros((N_iter, perceptron.N + 1))\n",
    "\n",
    "    # Training parameters\n",
    "    Ss = 2000  # np.logspace(3, 4, N_iter, dtype=int)\n",
    "\n",
    "    params = list(perceptron.parameters())\n",
    "    # params.extend(perceptron.std)\n",
    "    optimizer = torch.optim.Adam(params=params, lr=1e-3, weight_decay=1e-3)\n",
    "    scheduler = torch.optim.lr_scheduler.ExponentialLR(optimizer, gamma=0.9999)\n",
    "    loss_fn = nn.MSELoss()\n",
    "\n",
    "    print(\"Step number, Loss, Energies\")\n",
    "\n",
    "    for i in range(N_iter):\n",
    "        losses[i], es[i] = train_step(perceptron, optimizer, scheduler,\n",
    "                                      loss_fn, Ss, 0.0, 2.25, 1.0, 1.0)\n",
    "\n",
    "        if i % 500 == 0:\n",
    "            print(f\"{i}\\t{losses[i]:6.4g}\\t{es[i]}\")\n",
    "\n",
    "    return losses, es"
   ]
  },
  {
   "cell_type": "code",
   "execution_count": null,
   "metadata": {
    "colab": {
     "base_uri": "https://localhost:8080/"
    },
    "id": "UwFECQ8M9-LI",
    "outputId": "065d509e-c449-4c35-b0f4-6c709c452f97"
   },
   "outputs": [
    {
     "data": {
      "text/plain": [
       "torch.optim.adam.Adam"
      ]
     },
     "execution_count": 232,
     "metadata": {},
     "output_type": "execute_result"
    }
   ],
   "source": [
    "type(torch.optim.Adam(params=list(perceptron.parameters()), lr=1e-3, weight_decay=1e-3))"
   ]
  },
  {
   "cell_type": "code",
   "execution_count": null,
   "metadata": {
    "colab": {
     "base_uri": "https://localhost:8080/",
     "height": 167
    },
    "id": "VOxBKbyU95_J",
    "outputId": "8aab37ac-155e-4e7b-e9da-0734a435eb96"
   },
   "outputs": [
    {
     "ename": "NameError",
     "evalue": "ignored",
     "output_type": "error",
     "traceback": [
      "\u001b[0;31m---------------------------------------------------------------------------\u001b[0m",
      "\u001b[0;31mNameError\u001b[0m                                 Traceback (most recent call last)",
      "\u001b[0;32m<ipython-input-230-fbd38f1fc269>\u001b[0m in \u001b[0;36m<cell line: 1>\u001b[0;34m()\u001b[0m\n\u001b[0;32m----> 1\u001b[0;31m \u001b[0mtorch\u001b[0m\u001b[0;34m.\u001b[0m\u001b[0moptim\u001b[0m\u001b[0;34m.\u001b[0m\u001b[0mlr_scheduler\u001b[0m\u001b[0;34m.\u001b[0m\u001b[0mExponentialLR\u001b[0m\u001b[0;34m(\u001b[0m\u001b[0moptimizer\u001b[0m\u001b[0;34m,\u001b[0m \u001b[0mgamma\u001b[0m\u001b[0;34m=\u001b[0m\u001b[0;36m0.9999\u001b[0m\u001b[0;34m)\u001b[0m\u001b[0;34m\u001b[0m\u001b[0;34m\u001b[0m\u001b[0m\n\u001b[0m",
      "\u001b[0;31mNameError\u001b[0m: name 'optimizer' is not defined"
     ]
    }
   ],
   "source": [
    "torch.optim.lr_scheduler.ExponentialLR(optimizer, gamma=0.9999)"
   ]
  },
  {
   "cell_type": "code",
   "execution_count": null,
   "metadata": {
    "id": "Q07Fo02wzzdn"
   },
   "outputs": [],
   "source": [
    "perceptron = tPerceptron(L=4, N_h=36, D=2, N=0, std=2.25)"
   ]
  },
  {
   "cell_type": "code",
   "execution_count": null,
   "metadata": {
    "colab": {
     "base_uri": "https://localhost:8080/"
    },
    "id": "HhaAugyszzZZ",
    "outputId": "93916599-eed9-4ad5-ff71-d20d58fd696f"
   },
   "outputs": [
    {
     "name": "stdout",
     "output_type": "stream",
     "text": [
      "Step number, Loss, Energies\n",
      "0\t 9.366\t[1.66063821]\n",
      "500\t 1.467\t[1.17119062]\n",
      "1000\t  1.36\t[1.12825847]\n",
      "1500\t 1.314\t[1.12878895]\n",
      "2000\t 1.473\t[1.16766167]\n",
      "2500\t 1.285\t[1.11709142]\n",
      "3000\t 1.378\t[1.13629901]\n",
      "3500\t 1.372\t[1.14500237]\n",
      "4000\t 1.435\t[1.14711392]\n",
      "4500\t 1.351\t[1.12970877]\n",
      "5000\t 1.329\t[1.13227189]\n",
      "5500\t 1.308\t[1.10609925]\n",
      "6000\t 1.271\t[1.09210813]\n",
      "6500\t 1.383\t[1.14872801]\n",
      "7000\t 1.338\t[1.1239351]\n",
      "7500\t 1.405\t[1.14880371]\n",
      "8000\t 1.424\t[1.14317727]\n",
      "8500\t 1.361\t[1.1409241]\n",
      "9000\t 1.312\t[1.11699069]\n",
      "9500\t 1.327\t[1.1315192]\n",
      "10000\t 1.305\t[1.11485398]\n",
      "10500\t 1.443\t[1.15054905]\n",
      "11000\t 1.369\t[1.14190197]\n",
      "11500\t 1.349\t[1.11420012]\n",
      "12000\t 1.294\t[1.10191929]\n",
      "12500\t  1.25\t[1.10546458]\n",
      "13000\t 1.443\t[1.137676]\n",
      "13500\t 1.345\t[1.13484037]\n",
      "14000\t 1.351\t[1.13961744]\n",
      "14500\t 1.347\t[1.13031936]\n",
      "15000\t 1.332\t[1.11831915]\n",
      "15500\t 1.324\t[1.11711872]\n",
      "16000\t 1.321\t[1.12288201]\n",
      "16500\t 1.333\t[1.13459361]\n",
      "17000\t 1.386\t[1.13653111]\n",
      "17500\t 1.244\t[1.08579314]\n",
      "18000\t 1.265\t[1.10146987]\n",
      "18500\t 1.334\t[1.13191295]\n",
      "19000\t 1.358\t[1.13038826]\n",
      "19500\t 1.267\t[1.10099232]\n"
     ]
    }
   ],
   "source": [
    "losses, es = train_loop(perceptron, 20000)"
   ]
  },
  {
   "cell_type": "code",
   "execution_count": null,
   "metadata": {
    "colab": {
     "base_uri": "https://localhost:8080/",
     "height": 282
    },
    "id": "2tUFIaPRzzWd",
    "outputId": "2558bade-6125-4fc9-9779-1347d9741f48"
   },
   "outputs": [
    {
     "data": {
      "text/plain": [
       "[<matplotlib.lines.Line2D at 0x7fb637a8b7f0>]"
      ]
     },
     "execution_count": 208,
     "metadata": {},
     "output_type": "execute_result"
    },
    {
     "data": {
      "image/png": "[encoded data removed]",
      "text/plain": [
       "<Figure size 432x288 with 1 Axes>"
      ]
     },
     "metadata": {},
     "output_type": "display_data"
    }
   ],
   "source": [
    "plt.plot(es[:,0])\n",
    "# plt.yscale('log')"
   ]
  },
  {
   "cell_type": "code",
   "execution_count": null,
   "metadata": {
    "id": "saCQLw8yzzLm"
   },
   "outputs": [],
   "source": []
  },
  {
   "cell_type": "code",
   "execution_count": null,
   "metadata": {
    "id": "EVyqDOKpzzJD"
   },
   "outputs": [],
   "source": []
  },
  {
   "cell_type": "code",
   "execution_count": null,
   "metadata": {
    "id": "nmVoJYqVntbq"
   },
   "outputs": [],
   "source": [
    "def modified_train_loop(perceptrons, N_iter, delta, mean, std, alpha, beta):\n",
    "    losses = np.zeros((N_iter, len(perceptrons)))\n",
    "    es = np.zeros((N_iter, len(perceptrons)))\n",
    "\n",
    "    # Training parameters\n",
    "    Ss = np.logspace(3, 4, N_iter // delta, dtype=int)\n",
    "    optimizers = [torch.optim.Adam(params=perceptrons[i].parameters(), lr=1e-4) \n",
    "      for i in range(len(perceptrons))]\n",
    "    schedulers = [torch.optim.lr_scheduler.ExponentialLR(optimizers[i], gamma=0.999) \n",
    "      for i in range(len(perceptrons))]\n",
    "    loss_fn = nn.MSELoss()\n",
    "\n",
    "    print(\"Step number, Loss, Energies\")\n",
    "\n",
    "    # Potential\n",
    "    V = lambda y: torch.linalg.vector_norm(y, axis=1)**2 / 2\n",
    "\n",
    "    # Weight function\n",
    "    W = lambda y: 1 / (std * np.sqrt(2 * np.pi)) \\\n",
    "        * torch.exp(-1/2*torch.mean((y - mean)**2 / std**2, axis=1))\n",
    "\n",
    "    for i in range(N_iter):\n",
    "      j = i // delta % len(perceptrons)\n",
    "\n",
    "      # Create an uninitialized tensor of size SxD\n",
    "      x = torch.empty(Ss[i // delta], perceptrons[j].D)\n",
    "\n",
    "      # Normal distributed x\n",
    "      x.normal_(mean, std)\n",
    "\n",
    "      e = torch.empty(len(perceptrons))\n",
    "      psi = torch.empty(Ss[i // delta], len(perceptrons))\n",
    "      lap_psi = torch.empty(Ss[i // delta], len(perceptrons))\n",
    "      a = torch.zeros(len(perceptrons))\n",
    "      b = torch.zeros(len(perceptrons), len(perceptrons))\n",
    "      for n in range(len(perceptrons)):\n",
    "          psi[:, n] = perceptrons[n](x).reshape(-1)\n",
    "          lap_psi[:, n] = perceptrons[n].lap(x).reshape(-1)\n",
    "          \n",
    "      for n in range(len(perceptrons)):\n",
    "          e[n] = torch.abs(torch.mean((- 1 / 2 * psi[:, n] * lap_psi[:, n]\n",
    "                                            + psi[:, n]**2 * V(x)) / W(x))) \\\n",
    "                                            / torch.mean(psi[:, n]**2 / W(x))\n",
    "          a[n] = (torch.mean(psi[:, n]**2 / W(x)) - torch.tensor(1.0))**2\n",
    "          if n > 0:\n",
    "              for m in range(0, n):\n",
    "                  b[n, m] = torch.mean(psi[:, n] * psi[:, m] / W(x))**2\n",
    "      # Loss function\n",
    "      loss = loss_fn(torch.mean(e)\n",
    "                   + alpha * torch.sum(a)\n",
    "                   + beta * torch.sum(b), torch.tensor(0.0))\n",
    "      \n",
    "      # Backpropagation\n",
    "      optimizers[j].zero_grad()\n",
    "      loss.backward()\n",
    "      optimizers[j].step()\n",
    "      schedulers[j].step()\n",
    "\n",
    "      if i % delta == 0:\n",
    "          print(f\"{i}\\t{losses[i,:]}\\t{es[i,:]}\")\n",
    "\n",
    "    return losses, es"
   ]
  },
  {
   "cell_type": "code",
   "execution_count": null,
   "metadata": {
    "id": "fanVuXGOXDNr"
   },
   "outputs": [],
   "source": [
    "perceptrons = [tPerceptron(L=2, N_h=10, D=2, N=0, std=2.25), \n",
    "               tPerceptron(L=3, N_h=15, D=2, N=0, std=2.25),\n",
    "               tPerceptron(L=3, N_h=20, D=2, N=0, std=2.25),\n",
    "               tPerceptron(L=3, N_h=25, D=2, N=0, std=2.25)]"
   ]
  },
  {
   "cell_type": "code",
   "execution_count": null,
   "metadata": {
    "colab": {
     "base_uri": "https://localhost:8080/",
     "height": 539
    },
    "id": "GHJj3wLIXFFS",
    "outputId": "ec87a37e-dd8e-4096-d06f-44158587591a"
   },
   "outputs": [
    {
     "name": "stdout",
     "output_type": "stream",
     "text": [
      "Step number, Loss, Energies\n",
      "0\t[0. 0. 0. 0.]\t[0. 0. 0. 0.]\n",
      "100\t[0. 0. 0. 0.]\t[0. 0. 0. 0.]\n",
      "200\t[0. 0. 0. 0.]\t[0. 0. 0. 0.]\n",
      "300\t[0. 0. 0. 0.]\t[0. 0. 0. 0.]\n",
      "400\t[0. 0. 0. 0.]\t[0. 0. 0. 0.]\n",
      "500\t[0. 0. 0. 0.]\t[0. 0. 0. 0.]\n",
      "600\t[0. 0. 0. 0.]\t[0. 0. 0. 0.]\n",
      "700\t[0. 0. 0. 0.]\t[0. 0. 0. 0.]\n",
      "800\t[0. 0. 0. 0.]\t[0. 0. 0. 0.]\n",
      "900\t[0. 0. 0. 0.]\t[0. 0. 0. 0.]\n",
      "1000\t[0. 0. 0. 0.]\t[0. 0. 0. 0.]\n",
      "1100\t[0. 0. 0. 0.]\t[0. 0. 0. 0.]\n"
     ]
    },
    {
     "ename": "KeyboardInterrupt",
     "evalue": "ignored",
     "output_type": "error",
     "traceback": [
      "\u001b[0;31m---------------------------------------------------------------------------\u001b[0m",
      "\u001b[0;31mKeyboardInterrupt\u001b[0m                         Traceback (most recent call last)",
      "\u001b[0;32m<ipython-input-125-43613b10f675>\u001b[0m in \u001b[0;36m<module>\u001b[0;34m\u001b[0m\n\u001b[0;32m----> 1\u001b[0;31m \u001b[0mlosses\u001b[0m\u001b[0;34m,\u001b[0m \u001b[0mes\u001b[0m \u001b[0;34m=\u001b[0m \u001b[0mmodified_train_loop\u001b[0m\u001b[0;34m(\u001b[0m\u001b[0mperceptrons\u001b[0m\u001b[0;34m,\u001b[0m \u001b[0;36m30000\u001b[0m\u001b[0;34m,\u001b[0m \u001b[0;36m100\u001b[0m\u001b[0;34m,\u001b[0m \u001b[0;36m0.0\u001b[0m\u001b[0;34m,\u001b[0m \u001b[0;36m2.25\u001b[0m\u001b[0;34m,\u001b[0m \u001b[0;36m1.0\u001b[0m\u001b[0;34m,\u001b[0m \u001b[0;36m0.1\u001b[0m\u001b[0;34m)\u001b[0m\u001b[0;34m\u001b[0m\u001b[0;34m\u001b[0m\u001b[0m\n\u001b[0m",
      "\u001b[0;32m<ipython-input-123-acc090c36f65>\u001b[0m in \u001b[0;36mmodified_train_loop\u001b[0;34m(perceptrons, N_iter, delta, mean, std, alpha, beta)\u001b[0m\n\u001b[1;32m     36\u001b[0m       \u001b[0;32mfor\u001b[0m \u001b[0mn\u001b[0m \u001b[0;32min\u001b[0m \u001b[0mrange\u001b[0m\u001b[0;34m(\u001b[0m\u001b[0mlen\u001b[0m\u001b[0;34m(\u001b[0m\u001b[0mperceptrons\u001b[0m\u001b[0;34m)\u001b[0m\u001b[0;34m)\u001b[0m\u001b[0;34m:\u001b[0m\u001b[0;34m\u001b[0m\u001b[0;34m\u001b[0m\u001b[0m\n\u001b[1;32m     37\u001b[0m           \u001b[0mpsi\u001b[0m\u001b[0;34m[\u001b[0m\u001b[0;34m:\u001b[0m\u001b[0;34m,\u001b[0m \u001b[0mn\u001b[0m\u001b[0;34m]\u001b[0m \u001b[0;34m=\u001b[0m \u001b[0mperceptrons\u001b[0m\u001b[0;34m[\u001b[0m\u001b[0mn\u001b[0m\u001b[0;34m]\u001b[0m\u001b[0;34m(\u001b[0m\u001b[0mx\u001b[0m\u001b[0;34m)\u001b[0m\u001b[0;34m.\u001b[0m\u001b[0mreshape\u001b[0m\u001b[0;34m(\u001b[0m\u001b[0;34m-\u001b[0m\u001b[0;36m1\u001b[0m\u001b[0;34m)\u001b[0m\u001b[0;34m\u001b[0m\u001b[0;34m\u001b[0m\u001b[0m\n\u001b[0;32m---> 38\u001b[0;31m           \u001b[0mlap_psi\u001b[0m\u001b[0;34m[\u001b[0m\u001b[0;34m:\u001b[0m\u001b[0;34m,\u001b[0m \u001b[0mn\u001b[0m\u001b[0;34m]\u001b[0m \u001b[0;34m=\u001b[0m \u001b[0mperceptrons\u001b[0m\u001b[0;34m[\u001b[0m\u001b[0mn\u001b[0m\u001b[0;34m]\u001b[0m\u001b[0;34m.\u001b[0m\u001b[0mlap\u001b[0m\u001b[0;34m(\u001b[0m\u001b[0mx\u001b[0m\u001b[0;34m)\u001b[0m\u001b[0;34m.\u001b[0m\u001b[0mreshape\u001b[0m\u001b[0;34m(\u001b[0m\u001b[0;34m-\u001b[0m\u001b[0;36m1\u001b[0m\u001b[0;34m)\u001b[0m\u001b[0;34m\u001b[0m\u001b[0;34m\u001b[0m\u001b[0m\n\u001b[0m\u001b[1;32m     39\u001b[0m \u001b[0;34m\u001b[0m\u001b[0m\n\u001b[1;32m     40\u001b[0m       \u001b[0;32mfor\u001b[0m \u001b[0mn\u001b[0m \u001b[0;32min\u001b[0m \u001b[0mrange\u001b[0m\u001b[0;34m(\u001b[0m\u001b[0mlen\u001b[0m\u001b[0;34m(\u001b[0m\u001b[0mperceptrons\u001b[0m\u001b[0;34m)\u001b[0m\u001b[0;34m)\u001b[0m\u001b[0;34m:\u001b[0m\u001b[0;34m\u001b[0m\u001b[0;34m\u001b[0m\u001b[0m\n",
      "\u001b[0;32m<ipython-input-3-6fc648092638>\u001b[0m in \u001b[0;36mlap\u001b[0;34m(self, x)\u001b[0m\n\u001b[1;32m    118\u001b[0m         \u001b[0;32massert\u001b[0m \u001b[0mx\u001b[0m\u001b[0;34m.\u001b[0m\u001b[0mshape\u001b[0m\u001b[0;34m[\u001b[0m\u001b[0;36m1\u001b[0m\u001b[0;34m]\u001b[0m \u001b[0;34m==\u001b[0m \u001b[0mself\u001b[0m\u001b[0;34m.\u001b[0m\u001b[0mD\u001b[0m\u001b[0;34m,\u001b[0m \u001b[0;34m'Wrong shape of the matrix X'\u001b[0m\u001b[0;34m\u001b[0m\u001b[0;34m\u001b[0m\u001b[0m\n\u001b[1;32m    119\u001b[0m \u001b[0;34m\u001b[0m\u001b[0m\n\u001b[0;32m--> 120\u001b[0;31m         \u001b[0m_\u001b[0m \u001b[0;34m=\u001b[0m \u001b[0mself\u001b[0m\u001b[0;34m.\u001b[0m\u001b[0mforward\u001b[0m\u001b[0;34m(\u001b[0m\u001b[0mx\u001b[0m\u001b[0;34m)\u001b[0m  \u001b[0;31m# computes outputs of the layers\u001b[0m\u001b[0;34m\u001b[0m\u001b[0;34m\u001b[0m\u001b[0m\n\u001b[0m\u001b[1;32m    121\u001b[0m \u001b[0;34m\u001b[0m\u001b[0m\n\u001b[1;32m    122\u001b[0m         \u001b[0mres\u001b[0m \u001b[0;34m=\u001b[0m \u001b[0mtorch\u001b[0m\u001b[0;34m.\u001b[0m\u001b[0mzeros\u001b[0m\u001b[0;34m(\u001b[0m\u001b[0mS\u001b[0m\u001b[0;34m,\u001b[0m \u001b[0mself\u001b[0m\u001b[0;34m.\u001b[0m\u001b[0mN\u001b[0m \u001b[0;34m+\u001b[0m \u001b[0;36m1\u001b[0m\u001b[0;34m)\u001b[0m\u001b[0;34m\u001b[0m\u001b[0;34m\u001b[0m\u001b[0m\n",
      "\u001b[0;32m<ipython-input-3-6fc648092638>\u001b[0m in \u001b[0;36mforward\u001b[0;34m(self, x)\u001b[0m\n\u001b[1;32m     62\u001b[0m             \u001b[0;32melse\u001b[0m\u001b[0;34m:\u001b[0m\u001b[0;34m\u001b[0m\u001b[0;34m\u001b[0m\u001b[0m\n\u001b[1;32m     63\u001b[0m                 self.h[i] = self.stack[2*i+1](\n\u001b[0;32m---> 64\u001b[0;31m                     self.stack[2*i](self.h[i-1]))\n\u001b[0m\u001b[1;32m     65\u001b[0m \u001b[0;34m\u001b[0m\u001b[0m\n\u001b[1;32m     66\u001b[0m         \u001b[0;32massert\u001b[0m \u001b[0mself\u001b[0m\u001b[0;34m.\u001b[0m\u001b[0mh\u001b[0m\u001b[0;34m[\u001b[0m\u001b[0mself\u001b[0m\u001b[0;34m.\u001b[0m\u001b[0mL\u001b[0m\u001b[0;34m]\u001b[0m\u001b[0;34m.\u001b[0m\u001b[0mshape\u001b[0m\u001b[0;34m[\u001b[0m\u001b[0;36m0\u001b[0m\u001b[0;34m]\u001b[0m \u001b[0;34m==\u001b[0m \u001b[0mS\u001b[0m\u001b[0;34m,\u001b[0m \u001b[0;34m'Wrong shape of the h[-1]'\u001b[0m\u001b[0;34m\u001b[0m\u001b[0;34m\u001b[0m\u001b[0m\n",
      "\u001b[0;32m/usr/local/lib/python3.8/dist-packages/torch/nn/modules/module.py\u001b[0m in \u001b[0;36m_call_impl\u001b[0;34m(self, *input, **kwargs)\u001b[0m\n\u001b[1;32m   1192\u001b[0m         if not (self._backward_hooks or self._forward_hooks or self._forward_pre_hooks or _global_backward_hooks\n\u001b[1;32m   1193\u001b[0m                 or _global_forward_hooks or _global_forward_pre_hooks):\n\u001b[0;32m-> 1194\u001b[0;31m             \u001b[0;32mreturn\u001b[0m \u001b[0mforward_call\u001b[0m\u001b[0;34m(\u001b[0m\u001b[0;34m*\u001b[0m\u001b[0minput\u001b[0m\u001b[0;34m,\u001b[0m \u001b[0;34m**\u001b[0m\u001b[0mkwargs\u001b[0m\u001b[0;34m)\u001b[0m\u001b[0;34m\u001b[0m\u001b[0;34m\u001b[0m\u001b[0m\n\u001b[0m\u001b[1;32m   1195\u001b[0m         \u001b[0;31m# Do not call functions when jit is used\u001b[0m\u001b[0;34m\u001b[0m\u001b[0;34m\u001b[0m\u001b[0;34m\u001b[0m\u001b[0m\n\u001b[1;32m   1196\u001b[0m         \u001b[0mfull_backward_hooks\u001b[0m\u001b[0;34m,\u001b[0m \u001b[0mnon_full_backward_hooks\u001b[0m \u001b[0;34m=\u001b[0m \u001b[0;34m[\u001b[0m\u001b[0;34m]\u001b[0m\u001b[0;34m,\u001b[0m \u001b[0;34m[\u001b[0m\u001b[0;34m]\u001b[0m\u001b[0;34m\u001b[0m\u001b[0;34m\u001b[0m\u001b[0m\n",
      "\u001b[0;32m/usr/local/lib/python3.8/dist-packages/torch/nn/modules/linear.py\u001b[0m in \u001b[0;36mforward\u001b[0;34m(self, input)\u001b[0m\n\u001b[1;32m    112\u001b[0m \u001b[0;34m\u001b[0m\u001b[0m\n\u001b[1;32m    113\u001b[0m     \u001b[0;32mdef\u001b[0m \u001b[0mforward\u001b[0m\u001b[0;34m(\u001b[0m\u001b[0mself\u001b[0m\u001b[0;34m,\u001b[0m \u001b[0minput\u001b[0m\u001b[0;34m:\u001b[0m \u001b[0mTensor\u001b[0m\u001b[0;34m)\u001b[0m \u001b[0;34m->\u001b[0m \u001b[0mTensor\u001b[0m\u001b[0;34m:\u001b[0m\u001b[0;34m\u001b[0m\u001b[0;34m\u001b[0m\u001b[0m\n\u001b[0;32m--> 114\u001b[0;31m         \u001b[0;32mreturn\u001b[0m \u001b[0mF\u001b[0m\u001b[0;34m.\u001b[0m\u001b[0mlinear\u001b[0m\u001b[0;34m(\u001b[0m\u001b[0minput\u001b[0m\u001b[0;34m,\u001b[0m \u001b[0mself\u001b[0m\u001b[0;34m.\u001b[0m\u001b[0mweight\u001b[0m\u001b[0;34m,\u001b[0m \u001b[0mself\u001b[0m\u001b[0;34m.\u001b[0m\u001b[0mbias\u001b[0m\u001b[0;34m)\u001b[0m\u001b[0;34m\u001b[0m\u001b[0;34m\u001b[0m\u001b[0m\n\u001b[0m\u001b[1;32m    115\u001b[0m \u001b[0;34m\u001b[0m\u001b[0m\n\u001b[1;32m    116\u001b[0m     \u001b[0;32mdef\u001b[0m \u001b[0mextra_repr\u001b[0m\u001b[0;34m(\u001b[0m\u001b[0mself\u001b[0m\u001b[0;34m)\u001b[0m \u001b[0;34m->\u001b[0m \u001b[0mstr\u001b[0m\u001b[0;34m:\u001b[0m\u001b[0;34m\u001b[0m\u001b[0;34m\u001b[0m\u001b[0m\n",
      "\u001b[0;31mKeyboardInterrupt\u001b[0m: "
     ]
    }
   ],
   "source": [
    "losses, es = modified_train_loop(perceptrons, 30000, 100, 0.0, 2.25, 1.0, 0.1)"
   ]
  },
  {
   "cell_type": "code",
   "execution_count": null,
   "metadata": {
    "id": "HVDvDdTUqOw_"
   },
   "outputs": [],
   "source": [
    "plt.plot(losses)\n",
    "plt.yscale('log')\n",
    "plt.xlim(0,20000)"
   ]
  },
  {
   "cell_type": "code",
   "execution_count": null,
   "metadata": {
    "id": "2_s3ta2ZYYyj"
   },
   "outputs": [],
   "source": [
    "del perceptron\n",
    "torch.cuda.empty_cache()"
   ]
  },
  {
   "cell_type": "code",
   "execution_count": null,
   "metadata": {
    "colab": {
     "base_uri": "https://localhost:8080/"
    },
    "id": "OcynFIDbZ2J7",
    "outputId": "c5ea6f67-a6d6-446a-a0ea-1e0628839cbf"
   },
   "outputs": [
    {
     "data": {
      "text/plain": [
       "device(type='cuda')"
      ]
     },
     "execution_count": 29,
     "metadata": {},
     "output_type": "execute_result"
    }
   ],
   "source": [
    "device"
   ]
  },
  {
   "cell_type": "code",
   "execution_count": null,
   "metadata": {
    "id": "20mU0UcXj15B"
   },
   "outputs": [],
   "source": []
  }
 ],
 "metadata": {
  "accelerator": "GPU",
  "colab": {
   "provenance": []
  },
  "gpuClass": "standard",
  "kernelspec": {
   "display_name": "Python 3 (ipykernel)",
   "language": "python",
   "name": "python3"
  },
  "language_info": {
   "codemirror_mode": {
    "name": "ipython",
    "version": 3
   },
   "file_extension": ".py",
   "mimetype": "text/x-python",
   "name": "python",
   "nbconvert_exporter": "python",
   "pygments_lexer": "ipython3",
   "version": "3.9.16"
  }
 },
 "nbformat": 4,
 "nbformat_minor": 4
}
